{
 "cells": [
  {
   "cell_type": "markdown",
   "metadata": {},
   "source": [
    "# Similarities and differences between Cartagena and Toronto"
   ]
  },
  {
   "cell_type": "markdown",
   "metadata": {},
   "source": [
    "## 1. Install Libraries"
   ]
  },
  {
   "cell_type": "code",
   "execution_count": null,
   "metadata": {},
   "outputs": [],
   "source": [
    "pip install beautifulsoup4"
   ]
  },
  {
   "cell_type": "code",
   "execution_count": null,
   "metadata": {},
   "outputs": [],
   "source": [
    "pip install tabulate"
   ]
  },
  {
   "cell_type": "code",
   "execution_count": null,
   "metadata": {},
   "outputs": [],
   "source": [
    "pip install lxml"
   ]
  },
  {
   "cell_type": "code",
   "execution_count": null,
   "metadata": {},
   "outputs": [],
   "source": [
    "pip install geopy"
   ]
  },
  {
   "cell_type": "code",
   "execution_count": null,
   "metadata": {},
   "outputs": [],
   "source": [
    "pip install folium"
   ]
  },
  {
   "cell_type": "code",
   "execution_count": null,
   "metadata": {},
   "outputs": [],
   "source": [
    "pip install pgeocode"
   ]
  },
  {
   "cell_type": "code",
   "execution_count": null,
   "metadata": {},
   "outputs": [],
   "source": [
    "pip install geocoder"
   ]
  },
  {
   "cell_type": "code",
   "execution_count": null,
   "metadata": {},
   "outputs": [],
   "source": [
    "pip install opencage"
   ]
  },
  {
   "cell_type": "code",
   "execution_count": null,
   "metadata": {},
   "outputs": [],
   "source": [
    "pip install html5lib"
   ]
  },
  {
   "cell_type": "code",
   "execution_count": null,
   "metadata": {},
   "outputs": [],
   "source": [
    "pip install plotly"
   ]
  },
  {
   "cell_type": "markdown",
   "metadata": {},
   "source": [
    "##  2. Import libraries"
   ]
  },
  {
   "cell_type": "code",
   "execution_count": 11,
   "metadata": {},
   "outputs": [],
   "source": [
    "import pandas as pd\n",
    "import requests\n",
    "from bs4 import BeautifulSoup\n",
    "from tabulate import tabulate\n",
    "import pgeocode\n",
    "import folium\n",
    "from geopy.geocoders import Nominatim\n",
    "from sklearn.cluster import KMeans\n",
    "from pandas.io.json import json_normalize\n",
    "import numpy as np\n",
    "import matplotlib.pyplot as plt\n",
    "import matplotlib.cm as cm\n",
    "import matplotlib.colors as mcolors\n",
    "import geocoder\n",
    "from opencage.geocoder import OpenCageGeocode\n",
    "from lxml import html\n",
    "import requests\n",
    "from plotly.subplots import make_subplots\n",
    "import plotly.graph_objects as go\n",
    "from plotly.offline import plot"
   ]
  },
  {
   "cell_type": "markdown",
   "metadata": {},
   "source": [
    "## 3. Getting Main Categories based on Foursquare website"
   ]
  },
  {
   "cell_type": "code",
   "execution_count": 12,
   "metadata": {},
   "outputs": [],
   "source": [
    "cat_foursquare=pd.DataFrame(columns = ['Category'],index=[])\n",
    "cat_foursquare2=pd.DataFrame(columns = ['Id'],index=[])"
   ]
  },
  {
   "cell_type": "code",
   "execution_count": 105,
   "metadata": {},
   "outputs": [],
   "source": [
    "res  = requests.get(\"https://developer.foursquare.com/docs/build-with-foursquare/categories\")\n",
    "soup = BeautifulSoup(res.content,'lxml')\n",
    "for heading in soup.find_all([\"h3\"]):    #,\"p\"]):\n",
    "    new_row = {'Category':heading.text.strip()}\n",
    "    cat_foursquare=cat_foursquare.append(new_row, ignore_index=True)\n",
    "\n",
    "string2=''\n",
    "res2  = requests.get(\"https://developer.foursquare.com/docs/build-with-foursquare/categories\")\n",
    "soup2 = BeautifulSoup(res2.content,'lxml')\n",
    "for heading2 in soup2.find_all([\"p\"]):    #,\"p\"]):\n",
    "    string2 = heading2.text.strip()\n",
    "    new_row2 = {'Id':string2[-25:]}\n",
    "    cat_foursquare2=cat_foursquare2.append(new_row2, ignore_index=True)    "
   ]
  },
  {
   "cell_type": "markdown",
   "metadata": {},
   "source": [
    "### 3.1. Venues Categories"
   ]
  },
  {
   "cell_type": "code",
   "execution_count": 106,
   "metadata": {},
   "outputs": [
    {
     "data": {
      "text/html": [
       "<div>\n",
       "<style scoped>\n",
       "    .dataframe tbody tr th:only-of-type {\n",
       "        vertical-align: middle;\n",
       "    }\n",
       "\n",
       "    .dataframe tbody tr th {\n",
       "        vertical-align: top;\n",
       "    }\n",
       "\n",
       "    .dataframe thead th {\n",
       "        text-align: right;\n",
       "    }\n",
       "</style>\n",
       "<table border=\"1\" class=\"dataframe\">\n",
       "  <thead>\n",
       "    <tr style=\"text-align: right;\">\n",
       "      <th></th>\n",
       "      <th>Category</th>\n",
       "    </tr>\n",
       "  </thead>\n",
       "  <tbody>\n",
       "    <tr>\n",
       "      <th>0</th>\n",
       "      <td>Arts &amp; Entertainment</td>\n",
       "    </tr>\n",
       "    <tr>\n",
       "      <th>1</th>\n",
       "      <td>Amphitheater</td>\n",
       "    </tr>\n",
       "    <tr>\n",
       "      <th>2</th>\n",
       "      <td>Aquarium</td>\n",
       "    </tr>\n",
       "    <tr>\n",
       "      <th>3</th>\n",
       "      <td>Arcade</td>\n",
       "    </tr>\n",
       "    <tr>\n",
       "      <th>4</th>\n",
       "      <td>Art Gallery</td>\n",
       "    </tr>\n",
       "  </tbody>\n",
       "</table>\n",
       "</div>"
      ],
      "text/plain": [
       "               Category\n",
       "0  Arts & Entertainment\n",
       "1          Amphitheater\n",
       "2              Aquarium\n",
       "3                Arcade\n",
       "4           Art Gallery"
      ]
     },
     "execution_count": 106,
     "metadata": {},
     "output_type": "execute_result"
    }
   ],
   "source": [
    "cat_foursquare.head()"
   ]
  },
  {
   "cell_type": "markdown",
   "metadata": {},
   "source": [
    "### 3.2. Unique Id per category"
   ]
  },
  {
   "cell_type": "code",
   "execution_count": 110,
   "metadata": {},
   "outputs": [
    {
     "data": {
      "text/html": [
       "<div>\n",
       "<style scoped>\n",
       "    .dataframe tbody tr th:only-of-type {\n",
       "        vertical-align: middle;\n",
       "    }\n",
       "\n",
       "    .dataframe tbody tr th {\n",
       "        vertical-align: top;\n",
       "    }\n",
       "\n",
       "    .dataframe thead th {\n",
       "        text-align: right;\n",
       "    }\n",
       "</style>\n",
       "<table border=\"1\" class=\"dataframe\">\n",
       "  <thead>\n",
       "    <tr style=\"text-align: right;\">\n",
       "      <th></th>\n",
       "      <th>Id</th>\n",
       "    </tr>\n",
       "  </thead>\n",
       "  <tbody>\n",
       "    <tr>\n",
       "      <th>0</th>\n",
       "      <td>4d4b7104d754a06370d81259</td>\n",
       "    </tr>\n",
       "    <tr>\n",
       "      <th>1</th>\n",
       "      <td>56aa371be4b08b9a8d5734db</td>\n",
       "    </tr>\n",
       "    <tr>\n",
       "      <th>2</th>\n",
       "      <td>4fceea171983d5d06c3e9823</td>\n",
       "    </tr>\n",
       "    <tr>\n",
       "      <th>3</th>\n",
       "      <td>4bf58dd8d48988d1e1931735</td>\n",
       "    </tr>\n",
       "    <tr>\n",
       "      <th>4</th>\n",
       "      <td>4bf58dd8d48988d1e2931735</td>\n",
       "    </tr>\n",
       "  </tbody>\n",
       "</table>\n",
       "</div>"
      ],
      "text/plain": [
       "                         Id\n",
       "0  4d4b7104d754a06370d81259\n",
       "1  56aa371be4b08b9a8d5734db\n",
       "2  4fceea171983d5d06c3e9823\n",
       "3  4bf58dd8d48988d1e1931735\n",
       "4  4bf58dd8d48988d1e2931735"
      ]
     },
     "execution_count": 110,
     "metadata": {},
     "output_type": "execute_result"
    }
   ],
   "source": [
    "cat_foursquare2.drop(index=[0,1],inplace=True)\n",
    "cat_foursquare2.drop([\"index\"],axis=1,inplace=True)\n",
    "cat_foursquare2=cat_foursquare2.reset_index()\n",
    "cat_foursquare2.head()"
   ]
  },
  {
   "cell_type": "markdown",
   "metadata": {},
   "source": [
    "### 3.3. Assign Id to each category"
   ]
  },
  {
   "cell_type": "code",
   "execution_count": null,
   "metadata": {},
   "outputs": [],
   "source": [
    "cat_foursquare['Id']= cat_foursquare2['Id']\n",
    "cat_foursquare"
   ]
  },
  {
   "cell_type": "code",
   "execution_count": 122,
   "metadata": {},
   "outputs": [
    {
     "data": {
      "text/html": [
       "<div>\n",
       "<style scoped>\n",
       "    .dataframe tbody tr th:only-of-type {\n",
       "        vertical-align: middle;\n",
       "    }\n",
       "\n",
       "    .dataframe tbody tr th {\n",
       "        vertical-align: top;\n",
       "    }\n",
       "\n",
       "    .dataframe thead th {\n",
       "        text-align: right;\n",
       "    }\n",
       "</style>\n",
       "<table border=\"1\" class=\"dataframe\">\n",
       "  <thead>\n",
       "    <tr style=\"text-align: right;\">\n",
       "      <th></th>\n",
       "      <th>Category</th>\n",
       "      <th>Id</th>\n",
       "    </tr>\n",
       "  </thead>\n",
       "  <tbody>\n",
       "    <tr>\n",
       "      <th>0</th>\n",
       "      <td>Arts &amp; Entertainment</td>\n",
       "      <td>4d4b7104d754a06370d81259</td>\n",
       "    </tr>\n",
       "    <tr>\n",
       "      <th>1</th>\n",
       "      <td>Amphitheater</td>\n",
       "      <td>56aa371be4b08b9a8d5734db</td>\n",
       "    </tr>\n",
       "    <tr>\n",
       "      <th>2</th>\n",
       "      <td>Aquarium</td>\n",
       "      <td>4fceea171983d5d06c3e9823</td>\n",
       "    </tr>\n",
       "    <tr>\n",
       "      <th>3</th>\n",
       "      <td>Arcade</td>\n",
       "      <td>4bf58dd8d48988d1e1931735</td>\n",
       "    </tr>\n",
       "    <tr>\n",
       "      <th>4</th>\n",
       "      <td>Art Gallery</td>\n",
       "      <td>4bf58dd8d48988d1e2931735</td>\n",
       "    </tr>\n",
       "  </tbody>\n",
       "</table>\n",
       "</div>"
      ],
      "text/plain": [
       "               Category                        Id\n",
       "0  Arts & Entertainment  4d4b7104d754a06370d81259\n",
       "1          Amphitheater  56aa371be4b08b9a8d5734db\n",
       "2              Aquarium  4fceea171983d5d06c3e9823\n",
       "3                Arcade  4bf58dd8d48988d1e1931735\n",
       "4           Art Gallery  4bf58dd8d48988d1e2931735"
      ]
     },
     "execution_count": 122,
     "metadata": {},
     "output_type": "execute_result"
    }
   ],
   "source": [
    "cat_foursquare=pd.read_csv('cat_foursquare2.csv')\n",
    "cat_foursquare.head()"
   ]
  },
  {
   "cell_type": "markdown",
   "metadata": {},
   "source": [
    "### 3.4. Assign label per category"
   ]
  },
  {
   "cell_type": "code",
   "execution_count": 123,
   "metadata": {},
   "outputs": [
    {
     "data": {
      "text/plain": [
       "(941, 3)"
      ]
     },
     "execution_count": 123,
     "metadata": {},
     "output_type": "execute_result"
    }
   ],
   "source": [
    "cat_foursquare.loc[cat_foursquare['Category'] =='Arts & Entertainment', 'Main_Category'] = '1' \n",
    "cat_foursquare.loc[cat_foursquare['Category'] =='College & University', 'Main_Category'] = '2' \n",
    "cat_foursquare.loc[cat_foursquare['Category'] =='Event', 'Main_Category'] = '3' \n",
    "cat_foursquare.loc[cat_foursquare['Category'] =='Food', 'Main_Category'] = '4' \n",
    "cat_foursquare.loc[cat_foursquare['Category'] =='Nightlife Spot', 'Main_Category'] = '5' \n",
    "cat_foursquare.loc[cat_foursquare['Category'] =='Outdoors & Recreation', 'Main_Category'] = '6' \n",
    "cat_foursquare.loc[cat_foursquare['Category'] =='Professional & Other Places', 'Main_Category'] = '7' \n",
    "cat_foursquare.loc[cat_foursquare['Category'] =='Residence', 'Main_Category'] = '8' \n",
    "cat_foursquare.loc[cat_foursquare['Category'] =='Shop & Service', 'Main_Category'] = '9' \n",
    "cat_foursquare.loc[cat_foursquare['Category'] =='Travel & Transport', 'Main_Category'] = '10' \n",
    "cat_foursquare.shape"
   ]
  },
  {
   "cell_type": "code",
   "execution_count": 124,
   "metadata": {},
   "outputs": [
    {
     "data": {
      "text/html": [
       "<div>\n",
       "<style scoped>\n",
       "    .dataframe tbody tr th:only-of-type {\n",
       "        vertical-align: middle;\n",
       "    }\n",
       "\n",
       "    .dataframe tbody tr th {\n",
       "        vertical-align: top;\n",
       "    }\n",
       "\n",
       "    .dataframe thead th {\n",
       "        text-align: right;\n",
       "    }\n",
       "</style>\n",
       "<table border=\"1\" class=\"dataframe\">\n",
       "  <thead>\n",
       "    <tr style=\"text-align: right;\">\n",
       "      <th></th>\n",
       "      <th>Category</th>\n",
       "      <th>Id</th>\n",
       "      <th>Main_Category</th>\n",
       "    </tr>\n",
       "  </thead>\n",
       "  <tbody>\n",
       "    <tr>\n",
       "      <th>0</th>\n",
       "      <td>Arts &amp; Entertainment</td>\n",
       "      <td>4d4b7104d754a06370d81259</td>\n",
       "      <td>1.0</td>\n",
       "    </tr>\n",
       "    <tr>\n",
       "      <th>65</th>\n",
       "      <td>College &amp; University</td>\n",
       "      <td>4bf58dd8d48988d193941735</td>\n",
       "      <td>2.0</td>\n",
       "    </tr>\n",
       "    <tr>\n",
       "      <th>104</th>\n",
       "      <td>Event</td>\n",
       "      <td>4bf58dd8d48988d1ab941735</td>\n",
       "      <td>3.0</td>\n",
       "    </tr>\n",
       "    <tr>\n",
       "      <th>117</th>\n",
       "      <td>Food</td>\n",
       "      <td>52f2ab2ebcbc57f1066b8b54</td>\n",
       "      <td>4.0</td>\n",
       "    </tr>\n",
       "    <tr>\n",
       "      <th>466</th>\n",
       "      <td>Nightlife Spot</td>\n",
       "      <td>Supported countries: IT</td>\n",
       "      <td>5.0</td>\n",
       "    </tr>\n",
       "    <tr>\n",
       "      <th>491</th>\n",
       "      <td>Outdoors &amp; Recreation</td>\n",
       "      <td>55a5a1ebe4b013909087cb83</td>\n",
       "      <td>6.0</td>\n",
       "    </tr>\n",
       "    <tr>\n",
       "      <th>599</th>\n",
       "      <td>Professional &amp; Other Places</td>\n",
       "      <td>52e928d0bcbc57f1066b7e9c</td>\n",
       "      <td>7.0</td>\n",
       "    </tr>\n",
       "    <tr>\n",
       "      <th>707</th>\n",
       "      <td>Residence</td>\n",
       "      <td>4bf58dd8d48988d102941735</td>\n",
       "      <td>8.0</td>\n",
       "    </tr>\n",
       "    <tr>\n",
       "      <th>713</th>\n",
       "      <td>Shop &amp; Service</td>\n",
       "      <td>4bf58dd8d48988d168941735</td>\n",
       "      <td>9.0</td>\n",
       "    </tr>\n",
       "    <tr>\n",
       "      <th>887</th>\n",
       "      <td>Travel &amp; Transport</td>\n",
       "      <td>4bf58dd8d48988d132941735</td>\n",
       "      <td>10.0</td>\n",
       "    </tr>\n",
       "  </tbody>\n",
       "</table>\n",
       "</div>"
      ],
      "text/plain": [
       "                        Category                        Id  Main_Category\n",
       "0           Arts & Entertainment  4d4b7104d754a06370d81259            1.0\n",
       "65          College & University  4bf58dd8d48988d193941735            2.0\n",
       "104                        Event  4bf58dd8d48988d1ab941735            3.0\n",
       "117                         Food  52f2ab2ebcbc57f1066b8b54            4.0\n",
       "466               Nightlife Spot   Supported countries: IT            5.0\n",
       "491        Outdoors & Recreation  55a5a1ebe4b013909087cb83            6.0\n",
       "599  Professional & Other Places  52e928d0bcbc57f1066b7e9c            7.0\n",
       "707                    Residence  4bf58dd8d48988d102941735            8.0\n",
       "713               Shop & Service  4bf58dd8d48988d168941735            9.0\n",
       "887           Travel & Transport  4bf58dd8d48988d132941735           10.0"
      ]
     },
     "execution_count": 124,
     "metadata": {},
     "output_type": "execute_result"
    }
   ],
   "source": [
    "cat_foursquare['Main_Category']=pd.to_numeric(cat_foursquare.Main_Category)\n",
    "cat_foursquare2=cat_foursquare.loc[cat_foursquare['Main_Category']>0]\n",
    "cat_foursquare2"
   ]
  },
  {
   "cell_type": "markdown",
   "metadata": {},
   "source": [
    "### 3.5. Assign label per subcategory"
   ]
  },
  {
   "cell_type": "code",
   "execution_count": null,
   "metadata": {},
   "outputs": [],
   "source": [
    "cat_foursquare['Main_Category']=pd.to_numeric(cat_foursquare.Main_Category)\n",
    "cat_foursquare['Main_Category'][1:65]=1.1\n",
    "cat_foursquare['Main_Category'][66:104]=2.1\n",
    "cat_foursquare['Main_Category'][105:117]=3.1\n",
    "cat_foursquare['Main_Category'][118:466]=4.1\n",
    "cat_foursquare['Main_Category'][467:491]=5.1\n",
    "cat_foursquare['Main_Category'][492:599]=6.1\n",
    "cat_foursquare['Main_Category'][600:707]=7.1\n",
    "cat_foursquare['Main_Category'][708:713]=8.1\n",
    "cat_foursquare['Main_Category'][714:887]=9.1\n",
    "cat_foursquare['Main_Category'][888:941]=10.1"
   ]
  },
  {
   "cell_type": "code",
   "execution_count": 126,
   "metadata": {},
   "outputs": [
    {
     "data": {
      "text/html": [
       "<div>\n",
       "<style scoped>\n",
       "    .dataframe tbody tr th:only-of-type {\n",
       "        vertical-align: middle;\n",
       "    }\n",
       "\n",
       "    .dataframe tbody tr th {\n",
       "        vertical-align: top;\n",
       "    }\n",
       "\n",
       "    .dataframe thead th {\n",
       "        text-align: right;\n",
       "    }\n",
       "</style>\n",
       "<table border=\"1\" class=\"dataframe\">\n",
       "  <thead>\n",
       "    <tr style=\"text-align: right;\">\n",
       "      <th></th>\n",
       "      <th>Category</th>\n",
       "      <th>Id</th>\n",
       "      <th>Main_Category</th>\n",
       "    </tr>\n",
       "  </thead>\n",
       "  <tbody>\n",
       "    <tr>\n",
       "      <th>936</th>\n",
       "      <td>Train</td>\n",
       "      <td>4f04ae1f2fb6e1c99f3db0ba</td>\n",
       "      <td>10.1</td>\n",
       "    </tr>\n",
       "    <tr>\n",
       "      <th>937</th>\n",
       "      <td>Tram Station</td>\n",
       "      <td>52f2ab2ebcbc57f1066b8b2a</td>\n",
       "      <td>10.1</td>\n",
       "    </tr>\n",
       "    <tr>\n",
       "      <th>938</th>\n",
       "      <td>Transportation Service</td>\n",
       "      <td>52f2ab2ebcbc57f1066b8b2d</td>\n",
       "      <td>10.1</td>\n",
       "    </tr>\n",
       "    <tr>\n",
       "      <th>939</th>\n",
       "      <td>Travel Lounge</td>\n",
       "      <td>5744ccdfe4b0c0459246b4c7</td>\n",
       "      <td>10.1</td>\n",
       "    </tr>\n",
       "    <tr>\n",
       "      <th>940</th>\n",
       "      <td>Tunnel</td>\n",
       "      <td>4f4532974b9074f6e4fb0104</td>\n",
       "      <td>10.1</td>\n",
       "    </tr>\n",
       "  </tbody>\n",
       "</table>\n",
       "</div>"
      ],
      "text/plain": [
       "                   Category                        Id  Main_Category\n",
       "936                   Train  4f04ae1f2fb6e1c99f3db0ba           10.1\n",
       "937            Tram Station  52f2ab2ebcbc57f1066b8b2a           10.1\n",
       "938  Transportation Service  52f2ab2ebcbc57f1066b8b2d           10.1\n",
       "939           Travel Lounge  5744ccdfe4b0c0459246b4c7           10.1\n",
       "940                  Tunnel  4f4532974b9074f6e4fb0104           10.1"
      ]
     },
     "execution_count": 126,
     "metadata": {},
     "output_type": "execute_result"
    }
   ],
   "source": [
    "cat_foursquare.tail()"
   ]
  },
  {
   "cell_type": "code",
   "execution_count": 36,
   "metadata": {},
   "outputs": [
    {
     "data": {
      "text/plain": [
       "(941, 3)"
      ]
     },
     "execution_count": 36,
     "metadata": {},
     "output_type": "execute_result"
    }
   ],
   "source": [
    "#cat_foursquare.to_csv(r'main_cat2.csv', index = False)\n",
    "#cat_foursquare=pd.read_csv('main_cat2.csv')\n",
    "cat_foursquare.shape"
   ]
  },
  {
   "cell_type": "markdown",
   "metadata": {},
   "source": [
    "## 4. Cartagena Dataframe"
   ]
  },
  {
   "cell_type": "code",
   "execution_count": 12,
   "metadata": {},
   "outputs": [
    {
     "data": {
      "text/plain": [
       "(161, 1)"
      ]
     },
     "execution_count": 12,
     "metadata": {},
     "output_type": "execute_result"
    }
   ],
   "source": [
    "res  = requests.get(\"https://worldpostalcode.com/colombia/bolivar/cartagena\")\n",
    "soup = BeautifulSoup(res.content,'lxml')\n",
    "places=soup.find_all( class_ = \"place\" )  \n",
    "\n",
    "df = pd.DataFrame(places,columns = ['Neighborhood'])\n",
    "\n",
    "df.shape"
   ]
  },
  {
   "cell_type": "markdown",
   "metadata": {},
   "source": [
    "### 4.1. Add \"Latitude\" and \"Longitude\" to dataframe df"
   ]
  },
  {
   "cell_type": "code",
   "execution_count": 15,
   "metadata": {},
   "outputs": [
    {
     "data": {
      "text/html": [
       "<div>\n",
       "<style scoped>\n",
       "    .dataframe tbody tr th:only-of-type {\n",
       "        vertical-align: middle;\n",
       "    }\n",
       "\n",
       "    .dataframe tbody tr th {\n",
       "        vertical-align: top;\n",
       "    }\n",
       "\n",
       "    .dataframe thead th {\n",
       "        text-align: right;\n",
       "    }\n",
       "</style>\n",
       "<table border=\"1\" class=\"dataframe\">\n",
       "  <thead>\n",
       "    <tr style=\"text-align: right;\">\n",
       "      <th></th>\n",
       "      <th>Neighborhood</th>\n",
       "      <th>Latitude</th>\n",
       "      <th>Longitude</th>\n",
       "    </tr>\n",
       "  </thead>\n",
       "  <tbody>\n",
       "    <tr>\n",
       "      <th>0</th>\n",
       "      <td>Alameda La Victoria</td>\n",
       "      <td></td>\n",
       "      <td></td>\n",
       "    </tr>\n",
       "    <tr>\n",
       "      <th>1</th>\n",
       "      <td>Albornoz</td>\n",
       "      <td></td>\n",
       "      <td></td>\n",
       "    </tr>\n",
       "    <tr>\n",
       "      <th>2</th>\n",
       "      <td>Alcibia</td>\n",
       "      <td></td>\n",
       "      <td></td>\n",
       "    </tr>\n",
       "    <tr>\n",
       "      <th>3</th>\n",
       "      <td>Almirante Colon</td>\n",
       "      <td></td>\n",
       "      <td></td>\n",
       "    </tr>\n",
       "    <tr>\n",
       "      <th>4</th>\n",
       "      <td>Alto Bosque</td>\n",
       "      <td></td>\n",
       "      <td></td>\n",
       "    </tr>\n",
       "  </tbody>\n",
       "</table>\n",
       "</div>"
      ],
      "text/plain": [
       "          Neighborhood Latitude Longitude\n",
       "0  Alameda La Victoria                   \n",
       "1             Albornoz                   \n",
       "2              Alcibia                   \n",
       "3      Almirante Colon                   \n",
       "4          Alto Bosque                   "
      ]
     },
     "execution_count": 15,
     "metadata": {},
     "output_type": "execute_result"
    }
   ],
   "source": [
    "key = 'bf95567df6b04b73acc716a9f97a07ba'\n",
    "geocoder = OpenCageGeocode(key)\n",
    "df[\"Latitude\"]=\"\"\n",
    "df[\"Longitude\"]=\"\"\n",
    "df.head()"
   ]
  },
  {
   "cell_type": "code",
   "execution_count": 19,
   "metadata": {},
   "outputs": [],
   "source": [
    "for i in range(len(df)):     \n",
    "    query = df.iloc[i][0]+\",Cartagena,Colombia\"\n",
    "    results = geocoder.geocode(query)        \n",
    "    df.iloc[i, 1]=results[0]['geometry']['lat']\n",
    "    df.iloc[i, 2]=results[0]['geometry']['lng']  "
   ]
  },
  {
   "cell_type": "code",
   "execution_count": 13,
   "metadata": {},
   "outputs": [
    {
     "data": {
      "text/plain": [
       "(161, 3)"
      ]
     },
     "execution_count": 13,
     "metadata": {},
     "output_type": "execute_result"
    }
   ],
   "source": [
    "#df.to_csv(r'cartagena_lat_long2.csv', index = False)\n",
    "#df=pd.read_csv('cartagena_lat_long.csv')\n",
    "df.shape"
   ]
  },
  {
   "cell_type": "code",
   "execution_count": 14,
   "metadata": {},
   "outputs": [
    {
     "data": {
      "text/html": [
       "<div>\n",
       "<style scoped>\n",
       "    .dataframe tbody tr th:only-of-type {\n",
       "        vertical-align: middle;\n",
       "    }\n",
       "\n",
       "    .dataframe tbody tr th {\n",
       "        vertical-align: top;\n",
       "    }\n",
       "\n",
       "    .dataframe thead th {\n",
       "        text-align: right;\n",
       "    }\n",
       "</style>\n",
       "<table border=\"1\" class=\"dataframe\">\n",
       "  <thead>\n",
       "    <tr style=\"text-align: right;\">\n",
       "      <th></th>\n",
       "      <th>Neighborhood</th>\n",
       "      <th>Latitude</th>\n",
       "      <th>Longitude</th>\n",
       "    </tr>\n",
       "  </thead>\n",
       "  <tbody>\n",
       "    <tr>\n",
       "      <th>0</th>\n",
       "      <td>Alameda La Victoria</td>\n",
       "      <td>10.384171</td>\n",
       "      <td>-75.474273</td>\n",
       "    </tr>\n",
       "    <tr>\n",
       "      <th>1</th>\n",
       "      <td>Albornoz</td>\n",
       "      <td>10.371091</td>\n",
       "      <td>-75.506683</td>\n",
       "    </tr>\n",
       "    <tr>\n",
       "      <th>2</th>\n",
       "      <td>Alcibia</td>\n",
       "      <td>10.409521</td>\n",
       "      <td>-75.513908</td>\n",
       "    </tr>\n",
       "    <tr>\n",
       "      <th>3</th>\n",
       "      <td>Almirante Colon</td>\n",
       "      <td>10.386594</td>\n",
       "      <td>-75.495900</td>\n",
       "    </tr>\n",
       "    <tr>\n",
       "      <th>4</th>\n",
       "      <td>Alto Bosque</td>\n",
       "      <td>10.392617</td>\n",
       "      <td>-75.518503</td>\n",
       "    </tr>\n",
       "  </tbody>\n",
       "</table>\n",
       "</div>"
      ],
      "text/plain": [
       "          Neighborhood   Latitude  Longitude\n",
       "0  Alameda La Victoria  10.384171 -75.474273\n",
       "1             Albornoz  10.371091 -75.506683\n",
       "2              Alcibia  10.409521 -75.513908\n",
       "3      Almirante Colon  10.386594 -75.495900\n",
       "4          Alto Bosque  10.392617 -75.518503"
      ]
     },
     "execution_count": 14,
     "metadata": {},
     "output_type": "execute_result"
    }
   ],
   "source": [
    "df.head()"
   ]
  },
  {
   "cell_type": "markdown",
   "metadata": {},
   "source": [
    "### 4.2. Create a map with geopy library"
   ]
  },
  {
   "cell_type": "code",
   "execution_count": 15,
   "metadata": {},
   "outputs": [
    {
     "name": "stdout",
     "output_type": "stream",
     "text": [
      "The geograpical coordinate of Cartagena City are 10.4195841, -75.5271224.\n"
     ]
    }
   ],
   "source": [
    "address = 'Cartagena, CO'\n",
    "\n",
    "geolocator = Nominatim(user_agent=\"to_explorer\")\n",
    "location = geolocator.geocode(address)\n",
    "latitude = location.latitude\n",
    "longitude = location.longitude\n",
    "print('The geograpical coordinate of Cartagena City are {}, {}.'.format(latitude, longitude))"
   ]
  },
  {
   "cell_type": "code",
   "execution_count": null,
   "metadata": {},
   "outputs": [],
   "source": [
    "# create map of New York using latitude and longitude values\n",
    "map_ca = folium.Map(location=[latitude, longitude], zoom_start=13)\n",
    "\n",
    "# add markers to map\n",
    "for lat, lng, neighborhood in zip(df['Latitude'], df['Longitude'],df['Neighborhood']):\n",
    "    label = '{}'.format(neighborhood)\n",
    "    label = folium.Popup(label, parse_html=True)\n",
    "    folium.CircleMarker(\n",
    "        [lat, lng],\n",
    "        radius=5,\n",
    "        popup=label,\n",
    "        color='blue',\n",
    "        fill=True,\n",
    "        fill_color='#3186cc',\n",
    "        fill_opacity=0.7,\n",
    "        parse_html=False).add_to(map_ca)  \n",
    "    \n",
    "map_ca"
   ]
  },
  {
   "cell_type": "markdown",
   "metadata": {},
   "source": [
    "### Define Foursquare credentials and version"
   ]
  },
  {
   "cell_type": "code",
   "execution_count": null,
   "metadata": {},
   "outputs": [],
   "source": [
    "CLIENT_ID =''\n",
    "CLIENT_SECRET =''\n",
    "\n",
    "VERSION = '20180605' # Foursquare API version\n",
    "LIMIT = 500 # A default Foursquare API limit value\n",
    "\n",
    "print('Your credentails:')\n",
    "print('CLIENT_ID: ' + CLIENT_ID)\n",
    "print('CLIENT_SECRET:' + CLIENT_SECRET)"
   ]
  },
  {
   "cell_type": "markdown",
   "metadata": {},
   "source": [
    "### 4.3. Explore neighborhoods in Cartagena - Getting Venue Id"
   ]
  },
  {
   "cell_type": "code",
   "execution_count": 18,
   "metadata": {},
   "outputs": [],
   "source": [
    "def getNearbyVenues(names, latitudes, longitudes, radius=500):\n",
    "    \n",
    "    venues_list=[]\n",
    "    for name, lat, lng in zip(names, latitudes, longitudes):\n",
    "        print(name)\n",
    "                   \n",
    "        # create the API request URL\n",
    "        url = 'https://api.foursquare.com/v2/venues/explore?&client_id={}&client_secret={}&v={}&ll={},{}&radius={}&limit={}'.format(\n",
    "            CLIENT_ID, \n",
    "            CLIENT_SECRET, \n",
    "            VERSION, \n",
    "            lat, \n",
    "            lng, \n",
    "            radius, \n",
    "            LIMIT)\n",
    "            \n",
    "        # make the GET request\n",
    "        results = requests.get(url).json()[\"response\"]['groups'][0]['items']\n",
    "        \n",
    "        # return only relevant information for each nearby venue\n",
    "        venues_list.append([(\n",
    "            name, \n",
    "            lat, \n",
    "            lng, \n",
    "            v['venue']['id'],\n",
    "            v['venue']['name'], \n",
    "            v['venue']['location']['lat'], \n",
    "            v['venue']['location']['lng'],  \n",
    "            v['venue']['categories'][0]['name']) for v in results])\n",
    "\n",
    "    nearby_venues = pd.DataFrame([item for venue_list in venues_list for item in venue_list])\n",
    "    nearby_venues.columns = ['Neighborhood', \n",
    "                  'Neighborhood Latitude', \n",
    "                  'Neighborhood Longitude', \n",
    "                  'Venue Id',            \n",
    "                  'Venue', \n",
    "                  'Venue Latitude', \n",
    "                  'Venue Longitude', \n",
    "                  'Venue Category']\n",
    "    \n",
    "    return(nearby_venues)"
   ]
  },
  {
   "cell_type": "code",
   "execution_count": null,
   "metadata": {},
   "outputs": [],
   "source": [
    "cartagena_venues = getNearbyVenues(names=df['Neighborhood'],\n",
    "                                   latitudes=df['Latitude'],\n",
    "                                   longitudes=df['Longitude']\n",
    "                                  )"
   ]
  },
  {
   "cell_type": "markdown",
   "metadata": {},
   "source": [
    "#### Let's check the size of the resulting dataframe"
   ]
  },
  {
   "cell_type": "code",
   "execution_count": 21,
   "metadata": {},
   "outputs": [
    {
     "data": {
      "text/plain": [
       "(2025, 8)"
      ]
     },
     "execution_count": 21,
     "metadata": {},
     "output_type": "execute_result"
    }
   ],
   "source": [
    "#cartagena_venues.to_csv(r'cartagena_venues3.csv', index = False)\n",
    "#cartagena_venues=pd.read_csv('cartagena_venues3.csv')\n",
    "cartagena_venues.shape"
   ]
  },
  {
   "cell_type": "code",
   "execution_count": 14,
   "metadata": {},
   "outputs": [
    {
     "name": "stdout",
     "output_type": "stream",
     "text": [
      "There are 164 uniques categories.\n",
      "There are 626 uniques venues.\n"
     ]
    }
   ],
   "source": [
    "print('There are {} uniques categories.'.format(len(cartagena_venues['Venue Category'].unique())))\n",
    "print('There are {} uniques venues.'.format(len(cartagena_venues['Venue'].unique())))"
   ]
  },
  {
   "cell_type": "markdown",
   "metadata": {},
   "source": [
    "#### 4.3.1. Get unique values per Venue in Cartagena"
   ]
  },
  {
   "cell_type": "code",
   "execution_count": 15,
   "metadata": {},
   "outputs": [
    {
     "data": {
      "text/plain": [
       "(626, 8)"
      ]
     },
     "execution_count": 15,
     "metadata": {},
     "output_type": "execute_result"
    }
   ],
   "source": [
    "ca_filtered = cartagena_venues.drop_duplicates(subset=['Venue'],keep='first')\n",
    "ca_filtered.to_csv(r'ca_filtered2.csv', index = False)\n",
    "ca_filtered.shape"
   ]
  },
  {
   "cell_type": "markdown",
   "metadata": {},
   "source": [
    "### 4.4 Get Likes - Cartagena"
   ]
  },
  {
   "cell_type": "code",
   "execution_count": 155,
   "metadata": {},
   "outputs": [
    {
     "data": {
      "text/plain": [
       "(626, 8)"
      ]
     },
     "execution_count": 155,
     "metadata": {},
     "output_type": "execute_result"
    }
   ],
   "source": [
    "#cat_foursquare.to_csv(r'cat_foursquare2.csv', index = False)\n",
    "cartagena_venues=pd.read_csv('ca_filtered2.csv')\n",
    "cartagena_venues.shape"
   ]
  },
  {
   "cell_type": "markdown",
   "metadata": {},
   "source": [
    "#### Define Foursquare credentials and version"
   ]
  },
  {
   "cell_type": "code",
   "execution_count": null,
   "metadata": {},
   "outputs": [],
   "source": [
    "CLIENT_ID =''\n",
    "CLIENT_SECRET =''\n",
    "\n",
    "VERSION = '20180605' # Foursquare API version\n",
    "LIMIT = 500 # A default Foursquare API limit value\n",
    "\n",
    "print('Your credentails:')\n",
    "print('CLIENT_ID: ' + CLIENT_ID)\n",
    "print('CLIENT_SECRET:' + CLIENT_SECRET)"
   ]
  },
  {
   "cell_type": "markdown",
   "metadata": {},
   "source": [
    "#### 4.4.1. Explore neighborhoods in Cartagena - Getting likes per venue"
   ]
  },
  {
   "cell_type": "code",
   "execution_count": 157,
   "metadata": {},
   "outputs": [],
   "source": [
    "def getlikes(names,latitudes,longitudes,venueid,venue,vlatitudes,vlongitudes,vcategory,radius=500):\n",
    "    \n",
    "    venues_list=[]\n",
    "    for nam,lat,lon,vid,ven,vla,vlo,vca in zip(names,latitudes,longitudes,venueid,venue,vlatitudes,vlongitudes,vcategory):\n",
    "        #print(nam)\n",
    "                   \n",
    "        # create the API request URL\n",
    "        url = 'https://api.foursquare.com/v2/venues/'+vid+'/likes?&client_id={}&client_secret={}&v={}&ll={},{}&radius={}&limit={}'.format(\n",
    "            CLIENT_ID, \n",
    "            CLIENT_SECRET, \n",
    "            VERSION, \n",
    "            vla, \n",
    "            vlo, \n",
    "            radius, \n",
    "            LIMIT)\n",
    "            \n",
    "        # make the GET request\n",
    "        results = requests.get(url).json()[\"response\"]['likes']\n",
    "        \n",
    "        # return only relevant information for each nearby venue\n",
    "        if results['count']>0: \n",
    "            venues_list.append([( nam,lat,lon,vid,ven,vla,vlo,vca,results['count'],results['summary'] )])\n",
    "        else:\n",
    "            results['count']=0 \n",
    "            results['summary']=0\n",
    "            venues_list.append([( nam,lat,lon,vid,ven,vla,vlo,vca,results['count'],results['summary'] )])\n",
    "        \n",
    "\n",
    "    nearby_venues = pd.DataFrame([item for venue_list in venues_list for item in venue_list])\n",
    "    nearby_venues.columns = ['Neighborhood', \n",
    "                  'Neighborhood Latitude', \n",
    "                  'Neighborhood Longitude', \n",
    "                  'Venue Id',            \n",
    "                  'Venue', \n",
    "                  'Venue Latitude', \n",
    "                  'Venue Longitude', \n",
    "                  'Venue Category',\n",
    "                  'Venue Count Likes',\n",
    "                  'Venue Summary Likes']\n",
    "    \n",
    "    return(nearby_venues)"
   ]
  },
  {
   "cell_type": "code",
   "execution_count": 158,
   "metadata": {},
   "outputs": [],
   "source": [
    "cartagena_venues_likes = getlikes(names=cartagena_venues['Neighborhood'],\n",
    "                                  latitudes=cartagena_venues['Neighborhood Latitude'],\n",
    "                                  longitudes=cartagena_venues['Neighborhood Longitude'],\n",
    "                                  venueid=cartagena_venues['Venue Id'],\n",
    "                                  venue=cartagena_venues['Venue'],\n",
    "                                  vlatitudes=cartagena_venues['Venue Latitude'],\n",
    "                                  vlongitudes=cartagena_venues['Venue Longitude'],\n",
    "                                  vcategory=cartagena_venues['Venue Category']\n",
    "                                 )"
   ]
  },
  {
   "cell_type": "code",
   "execution_count": 160,
   "metadata": {},
   "outputs": [
    {
     "data": {
      "text/plain": [
       "(626, 10)"
      ]
     },
     "execution_count": 160,
     "metadata": {},
     "output_type": "execute_result"
    }
   ],
   "source": [
    "#cartagena_venues_likes.to_csv(r'cartagena_venues_likes.csv')\n",
    "cartagena_venues_likes.shape"
   ]
  },
  {
   "cell_type": "code",
   "execution_count": 130,
   "metadata": {},
   "outputs": [
    {
     "data": {
      "text/html": [
       "<div>\n",
       "<style scoped>\n",
       "    .dataframe tbody tr th:only-of-type {\n",
       "        vertical-align: middle;\n",
       "    }\n",
       "\n",
       "    .dataframe tbody tr th {\n",
       "        vertical-align: top;\n",
       "    }\n",
       "\n",
       "    .dataframe thead th {\n",
       "        text-align: right;\n",
       "    }\n",
       "</style>\n",
       "<table border=\"1\" class=\"dataframe\">\n",
       "  <thead>\n",
       "    <tr style=\"text-align: right;\">\n",
       "      <th></th>\n",
       "      <th>Unnamed: 0</th>\n",
       "      <th>Neighborhood</th>\n",
       "      <th>Neighborhood Latitude</th>\n",
       "      <th>Neighborhood Longitude</th>\n",
       "      <th>Venue Id</th>\n",
       "      <th>Venue</th>\n",
       "      <th>Venue Latitude</th>\n",
       "      <th>Venue Longitude</th>\n",
       "      <th>Venue Category</th>\n",
       "      <th>Venue Count Likes</th>\n",
       "      <th>Venue Summary Likes</th>\n",
       "    </tr>\n",
       "  </thead>\n",
       "  <tbody>\n",
       "    <tr>\n",
       "      <th>0</th>\n",
       "      <td>0</td>\n",
       "      <td>Alameda La Victoria</td>\n",
       "      <td>10.384171</td>\n",
       "      <td>-75.474273</td>\n",
       "      <td>4f24bc3fe4b0eec7fe8b7ef5</td>\n",
       "      <td>El Tropezon</td>\n",
       "      <td>10.387691</td>\n",
       "      <td>-75.473635</td>\n",
       "      <td>Bar</td>\n",
       "      <td>6</td>\n",
       "      <td>6 Likes</td>\n",
       "    </tr>\n",
       "    <tr>\n",
       "      <th>1</th>\n",
       "      <td>1</td>\n",
       "      <td>Alameda La Victoria</td>\n",
       "      <td>10.384171</td>\n",
       "      <td>-75.474273</td>\n",
       "      <td>549503eb498e778f198bece7</td>\n",
       "      <td>Restaurante Anca Y Mar</td>\n",
       "      <td>10.387800</td>\n",
       "      <td>-75.473465</td>\n",
       "      <td>Seafood Restaurant</td>\n",
       "      <td>9</td>\n",
       "      <td>9 Likes</td>\n",
       "    </tr>\n",
       "    <tr>\n",
       "      <th>2</th>\n",
       "      <td>2</td>\n",
       "      <td>Alameda La Victoria</td>\n",
       "      <td>10.384171</td>\n",
       "      <td>-75.474273</td>\n",
       "      <td>4ed1207b754ad8083f23e667</td>\n",
       "      <td>Comidas Rápidas El York</td>\n",
       "      <td>10.387683</td>\n",
       "      <td>-75.473759</td>\n",
       "      <td>Fast Food Restaurant</td>\n",
       "      <td>6</td>\n",
       "      <td>6 Likes</td>\n",
       "    </tr>\n",
       "    <tr>\n",
       "      <th>3</th>\n",
       "      <td>3</td>\n",
       "      <td>Alameda La Victoria</td>\n",
       "      <td>10.384171</td>\n",
       "      <td>-75.474273</td>\n",
       "      <td>4f54b6b8e4b063296f7a3f9b</td>\n",
       "      <td>EDS Terpel San Buenaventura</td>\n",
       "      <td>10.384420</td>\n",
       "      <td>-75.469864</td>\n",
       "      <td>Gas Station</td>\n",
       "      <td>5</td>\n",
       "      <td>5 Likes</td>\n",
       "    </tr>\n",
       "    <tr>\n",
       "      <th>4</th>\n",
       "      <td>4</td>\n",
       "      <td>Alameda La Victoria</td>\n",
       "      <td>10.384171</td>\n",
       "      <td>-75.474273</td>\n",
       "      <td>50b6b70c498ea7a45b29a6ab</td>\n",
       "      <td>Cancha Sintetica Palogrande</td>\n",
       "      <td>10.384212</td>\n",
       "      <td>-75.470706</td>\n",
       "      <td>Soccer Field</td>\n",
       "      <td>1</td>\n",
       "      <td>1 Like</td>\n",
       "    </tr>\n",
       "  </tbody>\n",
       "</table>\n",
       "</div>"
      ],
      "text/plain": [
       "   Unnamed: 0         Neighborhood  Neighborhood Latitude  \\\n",
       "0           0  Alameda La Victoria              10.384171   \n",
       "1           1  Alameda La Victoria              10.384171   \n",
       "2           2  Alameda La Victoria              10.384171   \n",
       "3           3  Alameda La Victoria              10.384171   \n",
       "4           4  Alameda La Victoria              10.384171   \n",
       "\n",
       "   Neighborhood Longitude                  Venue Id  \\\n",
       "0              -75.474273  4f24bc3fe4b0eec7fe8b7ef5   \n",
       "1              -75.474273  549503eb498e778f198bece7   \n",
       "2              -75.474273  4ed1207b754ad8083f23e667   \n",
       "3              -75.474273  4f54b6b8e4b063296f7a3f9b   \n",
       "4              -75.474273  50b6b70c498ea7a45b29a6ab   \n",
       "\n",
       "                         Venue  Venue Latitude  Venue Longitude  \\\n",
       "0                  El Tropezon       10.387691       -75.473635   \n",
       "1       Restaurante Anca Y Mar       10.387800       -75.473465   \n",
       "2      Comidas Rápidas El York       10.387683       -75.473759   \n",
       "3  EDS Terpel San Buenaventura       10.384420       -75.469864   \n",
       "4  Cancha Sintetica Palogrande       10.384212       -75.470706   \n",
       "\n",
       "         Venue Category  Venue Count Likes Venue Summary Likes  \n",
       "0                   Bar                  6             6 Likes  \n",
       "1    Seafood Restaurant                  9             9 Likes  \n",
       "2  Fast Food Restaurant                  6             6 Likes  \n",
       "3           Gas Station                  5             5 Likes  \n",
       "4          Soccer Field                  1              1 Like  "
      ]
     },
     "execution_count": 130,
     "metadata": {},
     "output_type": "execute_result"
    }
   ],
   "source": [
    "cartagena_venues_likes.head()"
   ]
  },
  {
   "cell_type": "markdown",
   "metadata": {},
   "source": [
    "### 4.5. Assign main category per venue"
   ]
  },
  {
   "cell_type": "code",
   "execution_count": 95,
   "metadata": {},
   "outputs": [
    {
     "data": {
      "text/html": [
       "<div>\n",
       "<style scoped>\n",
       "    .dataframe tbody tr th:only-of-type {\n",
       "        vertical-align: middle;\n",
       "    }\n",
       "\n",
       "    .dataframe tbody tr th {\n",
       "        vertical-align: top;\n",
       "    }\n",
       "\n",
       "    .dataframe thead th {\n",
       "        text-align: right;\n",
       "    }\n",
       "</style>\n",
       "<table border=\"1\" class=\"dataframe\">\n",
       "  <thead>\n",
       "    <tr style=\"text-align: right;\">\n",
       "      <th></th>\n",
       "      <th>Neighborhood</th>\n",
       "      <th>Neighborhood Latitude</th>\n",
       "      <th>Neighborhood Longitude</th>\n",
       "      <th>Venue Id</th>\n",
       "      <th>Venue</th>\n",
       "      <th>Venue Latitude</th>\n",
       "      <th>Venue Longitude</th>\n",
       "      <th>Venue Category</th>\n",
       "      <th>Venue Count Likes</th>\n",
       "      <th>Venue Summary Likes</th>\n",
       "      <th>Main_Category</th>\n",
       "    </tr>\n",
       "  </thead>\n",
       "  <tbody>\n",
       "    <tr>\n",
       "      <th>0</th>\n",
       "      <td>Alameda La Victoria</td>\n",
       "      <td>10.384171</td>\n",
       "      <td>-75.474273</td>\n",
       "      <td>4f24bc3fe4b0eec7fe8b7ef5</td>\n",
       "      <td>El Tropezon</td>\n",
       "      <td>10.387691</td>\n",
       "      <td>-75.473635</td>\n",
       "      <td>Bar</td>\n",
       "      <td>6</td>\n",
       "      <td>6 Likes</td>\n",
       "      <td></td>\n",
       "    </tr>\n",
       "    <tr>\n",
       "      <th>1</th>\n",
       "      <td>Alameda La Victoria</td>\n",
       "      <td>10.384171</td>\n",
       "      <td>-75.474273</td>\n",
       "      <td>549503eb498e778f198bece7</td>\n",
       "      <td>Restaurante Anca Y Mar</td>\n",
       "      <td>10.387800</td>\n",
       "      <td>-75.473465</td>\n",
       "      <td>Seafood Restaurant</td>\n",
       "      <td>9</td>\n",
       "      <td>9 Likes</td>\n",
       "      <td></td>\n",
       "    </tr>\n",
       "    <tr>\n",
       "      <th>2</th>\n",
       "      <td>Alameda La Victoria</td>\n",
       "      <td>10.384171</td>\n",
       "      <td>-75.474273</td>\n",
       "      <td>4ed1207b754ad8083f23e667</td>\n",
       "      <td>Comidas Rápidas El York</td>\n",
       "      <td>10.387683</td>\n",
       "      <td>-75.473759</td>\n",
       "      <td>Fast Food Restaurant</td>\n",
       "      <td>6</td>\n",
       "      <td>6 Likes</td>\n",
       "      <td></td>\n",
       "    </tr>\n",
       "    <tr>\n",
       "      <th>3</th>\n",
       "      <td>Alameda La Victoria</td>\n",
       "      <td>10.384171</td>\n",
       "      <td>-75.474273</td>\n",
       "      <td>4f54b6b8e4b063296f7a3f9b</td>\n",
       "      <td>EDS Terpel San Buenaventura</td>\n",
       "      <td>10.384420</td>\n",
       "      <td>-75.469864</td>\n",
       "      <td>Gas Station</td>\n",
       "      <td>5</td>\n",
       "      <td>5 Likes</td>\n",
       "      <td></td>\n",
       "    </tr>\n",
       "    <tr>\n",
       "      <th>4</th>\n",
       "      <td>Alameda La Victoria</td>\n",
       "      <td>10.384171</td>\n",
       "      <td>-75.474273</td>\n",
       "      <td>50b6b70c498ea7a45b29a6ab</td>\n",
       "      <td>Cancha Sintetica Palogrande</td>\n",
       "      <td>10.384212</td>\n",
       "      <td>-75.470706</td>\n",
       "      <td>Soccer Field</td>\n",
       "      <td>1</td>\n",
       "      <td>1 Like</td>\n",
       "      <td></td>\n",
       "    </tr>\n",
       "  </tbody>\n",
       "</table>\n",
       "</div>"
      ],
      "text/plain": [
       "          Neighborhood  Neighborhood Latitude  Neighborhood Longitude  \\\n",
       "0  Alameda La Victoria              10.384171              -75.474273   \n",
       "1  Alameda La Victoria              10.384171              -75.474273   \n",
       "2  Alameda La Victoria              10.384171              -75.474273   \n",
       "3  Alameda La Victoria              10.384171              -75.474273   \n",
       "4  Alameda La Victoria              10.384171              -75.474273   \n",
       "\n",
       "                   Venue Id                        Venue  Venue Latitude  \\\n",
       "0  4f24bc3fe4b0eec7fe8b7ef5                  El Tropezon       10.387691   \n",
       "1  549503eb498e778f198bece7       Restaurante Anca Y Mar       10.387800   \n",
       "2  4ed1207b754ad8083f23e667      Comidas Rápidas El York       10.387683   \n",
       "3  4f54b6b8e4b063296f7a3f9b  EDS Terpel San Buenaventura       10.384420   \n",
       "4  50b6b70c498ea7a45b29a6ab  Cancha Sintetica Palogrande       10.384212   \n",
       "\n",
       "   Venue Longitude        Venue Category  Venue Count Likes  \\\n",
       "0       -75.473635                   Bar                  6   \n",
       "1       -75.473465    Seafood Restaurant                  9   \n",
       "2       -75.473759  Fast Food Restaurant                  6   \n",
       "3       -75.469864           Gas Station                  5   \n",
       "4       -75.470706          Soccer Field                  1   \n",
       "\n",
       "  Venue Summary Likes Main_Category  \n",
       "0             6 Likes                \n",
       "1             9 Likes                \n",
       "2             6 Likes                \n",
       "3             5 Likes                \n",
       "4              1 Like                "
      ]
     },
     "execution_count": 95,
     "metadata": {},
     "output_type": "execute_result"
    }
   ],
   "source": [
    "cat_foursquare=pd.read_csv('main_cat2.csv')\n",
    "cartagena_venues_likes=pd.read_csv('cartagena_venues_likes.csv')\n",
    "#cartagena_venues_likes=pd.read_csv('test_ca.csv')\n",
    "cartagena_df_final=cartagena_venues_likes\n",
    "cartagena_df_final[\"Main_Category\"]=\"\"\n",
    "cartagena_df_final.drop([\"Unnamed: 0\"],axis=1,inplace=True)\n",
    "cartagena_df_final.head()"
   ]
  },
  {
   "cell_type": "code",
   "execution_count": 91,
   "metadata": {},
   "outputs": [
    {
     "data": {
      "text/html": [
       "<div>\n",
       "<style scoped>\n",
       "    .dataframe tbody tr th:only-of-type {\n",
       "        vertical-align: middle;\n",
       "    }\n",
       "\n",
       "    .dataframe tbody tr th {\n",
       "        vertical-align: top;\n",
       "    }\n",
       "\n",
       "    .dataframe thead th {\n",
       "        text-align: right;\n",
       "    }\n",
       "</style>\n",
       "<table border=\"1\" class=\"dataframe\">\n",
       "  <thead>\n",
       "    <tr style=\"text-align: right;\">\n",
       "      <th></th>\n",
       "      <th>Category</th>\n",
       "      <th>Id</th>\n",
       "      <th>Main_Category</th>\n",
       "    </tr>\n",
       "  </thead>\n",
       "  <tbody>\n",
       "    <tr>\n",
       "      <th>0</th>\n",
       "      <td>Arts &amp; Entertainment</td>\n",
       "      <td>4d4b7104d754a06370d81259</td>\n",
       "      <td>1.0</td>\n",
       "    </tr>\n",
       "    <tr>\n",
       "      <th>1</th>\n",
       "      <td>Amphitheater</td>\n",
       "      <td>56aa371be4b08b9a8d5734db</td>\n",
       "      <td>1.1</td>\n",
       "    </tr>\n",
       "    <tr>\n",
       "      <th>2</th>\n",
       "      <td>Aquarium</td>\n",
       "      <td>4fceea171983d5d06c3e9823</td>\n",
       "      <td>1.1</td>\n",
       "    </tr>\n",
       "    <tr>\n",
       "      <th>3</th>\n",
       "      <td>Arcade</td>\n",
       "      <td>4bf58dd8d48988d1e1931735</td>\n",
       "      <td>1.1</td>\n",
       "    </tr>\n",
       "    <tr>\n",
       "      <th>4</th>\n",
       "      <td>Art Gallery</td>\n",
       "      <td>4bf58dd8d48988d1e2931735</td>\n",
       "      <td>1.1</td>\n",
       "    </tr>\n",
       "  </tbody>\n",
       "</table>\n",
       "</div>"
      ],
      "text/plain": [
       "               Category                        Id  Main_Category\n",
       "0  Arts & Entertainment  4d4b7104d754a06370d81259            1.0\n",
       "1          Amphitheater  56aa371be4b08b9a8d5734db            1.1\n",
       "2              Aquarium  4fceea171983d5d06c3e9823            1.1\n",
       "3                Arcade  4bf58dd8d48988d1e1931735            1.1\n",
       "4           Art Gallery  4bf58dd8d48988d1e2931735            1.1"
      ]
     },
     "execution_count": 91,
     "metadata": {},
     "output_type": "execute_result"
    }
   ],
   "source": [
    "cat_foursquare.head()"
   ]
  },
  {
   "cell_type": "code",
   "execution_count": 96,
   "metadata": {},
   "outputs": [
    {
     "name": "stderr",
     "output_type": "stream",
     "text": [
      "/srv/conda/envs/notebook/lib/python3.7/site-packages/ipykernel_launcher.py:5: SettingWithCopyWarning:\n",
      "\n",
      "\n",
      "A value is trying to be set on a copy of a slice from a DataFrame\n",
      "\n",
      "See the caveats in the documentation: http://pandas.pydata.org/pandas-docs/stable/indexing.html#indexing-view-versus-copy\n",
      "\n"
     ]
    }
   ],
   "source": [
    "for i, row in cartagena_df_final.iterrows():    \n",
    "    for j,row in cat_foursquare.iterrows():    \n",
    "        if cartagena_df_final[\"Venue Category\"][i]==cat_foursquare['Category'][j]:\n",
    "            cat_selected=round(cat_foursquare[\"Main_Category\"][j])\n",
    "            cartagena_df_final[\"Main_Category\"][i]=cat_selected"
   ]
  },
  {
   "cell_type": "code",
   "execution_count": 98,
   "metadata": {},
   "outputs": [
    {
     "name": "stderr",
     "output_type": "stream",
     "text": [
      "/srv/conda/envs/notebook/lib/python3.7/site-packages/ipykernel_launcher.py:4: SettingWithCopyWarning:\n",
      "\n",
      "\n",
      "A value is trying to be set on a copy of a slice from a DataFrame\n",
      "\n",
      "See the caveats in the documentation: http://pandas.pydata.org/pandas-docs/stable/indexing.html#indexing-view-versus-copy\n",
      "\n"
     ]
    }
   ],
   "source": [
    "for i, row in cartagena_df_final.iterrows():    \n",
    "    for j,row in cat_foursquare.iterrows():    \n",
    "        if cartagena_df_final[\"Main_Category\"][i]==cat_foursquare['Main_Category'][j]:            \n",
    "            cartagena_df_final[\"Main_Category\"][i]=cat_foursquare['Category'][j]"
   ]
  },
  {
   "cell_type": "code",
   "execution_count": 99,
   "metadata": {},
   "outputs": [
    {
     "data": {
      "text/html": [
       "<div>\n",
       "<style scoped>\n",
       "    .dataframe tbody tr th:only-of-type {\n",
       "        vertical-align: middle;\n",
       "    }\n",
       "\n",
       "    .dataframe tbody tr th {\n",
       "        vertical-align: top;\n",
       "    }\n",
       "\n",
       "    .dataframe thead th {\n",
       "        text-align: right;\n",
       "    }\n",
       "</style>\n",
       "<table border=\"1\" class=\"dataframe\">\n",
       "  <thead>\n",
       "    <tr style=\"text-align: right;\">\n",
       "      <th></th>\n",
       "      <th>Neighborhood</th>\n",
       "      <th>Neighborhood Latitude</th>\n",
       "      <th>Neighborhood Longitude</th>\n",
       "      <th>Venue Id</th>\n",
       "      <th>Venue</th>\n",
       "      <th>Venue Latitude</th>\n",
       "      <th>Venue Longitude</th>\n",
       "      <th>Venue Category</th>\n",
       "      <th>Venue Count Likes</th>\n",
       "      <th>Venue Summary Likes</th>\n",
       "      <th>Main_Category</th>\n",
       "    </tr>\n",
       "  </thead>\n",
       "  <tbody>\n",
       "    <tr>\n",
       "      <th>0</th>\n",
       "      <td>Alameda La Victoria</td>\n",
       "      <td>10.384171</td>\n",
       "      <td>-75.474273</td>\n",
       "      <td>4f24bc3fe4b0eec7fe8b7ef5</td>\n",
       "      <td>El Tropezon</td>\n",
       "      <td>10.387691</td>\n",
       "      <td>-75.473635</td>\n",
       "      <td>Bar</td>\n",
       "      <td>6</td>\n",
       "      <td>6 Likes</td>\n",
       "      <td>Nightlife Spot</td>\n",
       "    </tr>\n",
       "    <tr>\n",
       "      <th>1</th>\n",
       "      <td>Alameda La Victoria</td>\n",
       "      <td>10.384171</td>\n",
       "      <td>-75.474273</td>\n",
       "      <td>549503eb498e778f198bece7</td>\n",
       "      <td>Restaurante Anca Y Mar</td>\n",
       "      <td>10.387800</td>\n",
       "      <td>-75.473465</td>\n",
       "      <td>Seafood Restaurant</td>\n",
       "      <td>9</td>\n",
       "      <td>9 Likes</td>\n",
       "      <td>Food</td>\n",
       "    </tr>\n",
       "    <tr>\n",
       "      <th>2</th>\n",
       "      <td>Alameda La Victoria</td>\n",
       "      <td>10.384171</td>\n",
       "      <td>-75.474273</td>\n",
       "      <td>4ed1207b754ad8083f23e667</td>\n",
       "      <td>Comidas Rápidas El York</td>\n",
       "      <td>10.387683</td>\n",
       "      <td>-75.473759</td>\n",
       "      <td>Fast Food Restaurant</td>\n",
       "      <td>6</td>\n",
       "      <td>6 Likes</td>\n",
       "      <td>Food</td>\n",
       "    </tr>\n",
       "    <tr>\n",
       "      <th>3</th>\n",
       "      <td>Alameda La Victoria</td>\n",
       "      <td>10.384171</td>\n",
       "      <td>-75.474273</td>\n",
       "      <td>4f54b6b8e4b063296f7a3f9b</td>\n",
       "      <td>EDS Terpel San Buenaventura</td>\n",
       "      <td>10.384420</td>\n",
       "      <td>-75.469864</td>\n",
       "      <td>Gas Station</td>\n",
       "      <td>5</td>\n",
       "      <td>5 Likes</td>\n",
       "      <td>Shop &amp; Service</td>\n",
       "    </tr>\n",
       "    <tr>\n",
       "      <th>4</th>\n",
       "      <td>Alameda La Victoria</td>\n",
       "      <td>10.384171</td>\n",
       "      <td>-75.474273</td>\n",
       "      <td>50b6b70c498ea7a45b29a6ab</td>\n",
       "      <td>Cancha Sintetica Palogrande</td>\n",
       "      <td>10.384212</td>\n",
       "      <td>-75.470706</td>\n",
       "      <td>Soccer Field</td>\n",
       "      <td>1</td>\n",
       "      <td>1 Like</td>\n",
       "      <td>Outdoors &amp; Recreation</td>\n",
       "    </tr>\n",
       "  </tbody>\n",
       "</table>\n",
       "</div>"
      ],
      "text/plain": [
       "          Neighborhood  Neighborhood Latitude  Neighborhood Longitude  \\\n",
       "0  Alameda La Victoria              10.384171              -75.474273   \n",
       "1  Alameda La Victoria              10.384171              -75.474273   \n",
       "2  Alameda La Victoria              10.384171              -75.474273   \n",
       "3  Alameda La Victoria              10.384171              -75.474273   \n",
       "4  Alameda La Victoria              10.384171              -75.474273   \n",
       "\n",
       "                   Venue Id                        Venue  Venue Latitude  \\\n",
       "0  4f24bc3fe4b0eec7fe8b7ef5                  El Tropezon       10.387691   \n",
       "1  549503eb498e778f198bece7       Restaurante Anca Y Mar       10.387800   \n",
       "2  4ed1207b754ad8083f23e667      Comidas Rápidas El York       10.387683   \n",
       "3  4f54b6b8e4b063296f7a3f9b  EDS Terpel San Buenaventura       10.384420   \n",
       "4  50b6b70c498ea7a45b29a6ab  Cancha Sintetica Palogrande       10.384212   \n",
       "\n",
       "   Venue Longitude        Venue Category  Venue Count Likes  \\\n",
       "0       -75.473635                   Bar                  6   \n",
       "1       -75.473465    Seafood Restaurant                  9   \n",
       "2       -75.473759  Fast Food Restaurant                  6   \n",
       "3       -75.469864           Gas Station                  5   \n",
       "4       -75.470706          Soccer Field                  1   \n",
       "\n",
       "  Venue Summary Likes          Main_Category  \n",
       "0             6 Likes         Nightlife Spot  \n",
       "1             9 Likes                   Food  \n",
       "2             6 Likes                   Food  \n",
       "3             5 Likes         Shop & Service  \n",
       "4              1 Like  Outdoors & Recreation  "
      ]
     },
     "execution_count": 99,
     "metadata": {},
     "output_type": "execute_result"
    }
   ],
   "source": [
    "cartagena_df_final.head()"
   ]
  },
  {
   "cell_type": "code",
   "execution_count": 100,
   "metadata": {},
   "outputs": [],
   "source": [
    "#cartagena_df_final.to_csv(r'cartagena_df_final.csv')\n",
    "#cartagena_df_final.read_csv('cartagena_df_final.csv')"
   ]
  },
  {
   "cell_type": "markdown",
   "metadata": {},
   "source": [
    "## 5. Toronto"
   ]
  },
  {
   "cell_type": "code",
   "execution_count": 42,
   "metadata": {},
   "outputs": [
    {
     "data": {
      "text/plain": [
       "(180, 3)"
      ]
     },
     "execution_count": 42,
     "metadata": {},
     "output_type": "execute_result"
    }
   ],
   "source": [
    "res  = requests.get(\"https://en.wikipedia.org/wiki/List_of_postal_codes_of_Canada:_M\")\n",
    "soup = BeautifulSoup(res.content,'lxml')\n",
    "table= soup.find_all('table')[0] \n",
    "df   = pd.read_html(str(table))\n",
    "df   = pd.DataFrame(df[0])\n",
    "df.shape"
   ]
  },
  {
   "cell_type": "markdown",
   "metadata": {},
   "source": [
    "#### Now, the dataframe df2 contains the information without \"Not assigned\" rows"
   ]
  },
  {
   "cell_type": "code",
   "execution_count": null,
   "metadata": {},
   "outputs": [],
   "source": [
    "df2=df.query('Borough != \"Not assigned\" & Neighbourhood != \"Not assigned\"')\n"
   ]
  },
  {
   "cell_type": "markdown",
   "metadata": {},
   "source": [
    "### 5.1. Add \"Latitude\" and \"Longitude\" to dataframe df"
   ]
  },
  {
   "cell_type": "code",
   "execution_count": 44,
   "metadata": {},
   "outputs": [
    {
     "name": "stderr",
     "output_type": "stream",
     "text": [
      "/srv/conda/envs/notebook/lib/python3.7/site-packages/ipykernel_launcher.py:3: SettingWithCopyWarning: \n",
      "A value is trying to be set on a copy of a slice from a DataFrame.\n",
      "Try using .loc[row_indexer,col_indexer] = value instead\n",
      "\n",
      "See the caveats in the documentation: http://pandas.pydata.org/pandas-docs/stable/indexing.html#indexing-view-versus-copy\n",
      "  This is separate from the ipykernel package so we can avoid doing imports until\n",
      "/srv/conda/envs/notebook/lib/python3.7/site-packages/ipykernel_launcher.py:4: SettingWithCopyWarning: \n",
      "A value is trying to be set on a copy of a slice from a DataFrame.\n",
      "Try using .loc[row_indexer,col_indexer] = value instead\n",
      "\n",
      "See the caveats in the documentation: http://pandas.pydata.org/pandas-docs/stable/indexing.html#indexing-view-versus-copy\n",
      "  after removing the cwd from sys.path.\n"
     ]
    },
    {
     "data": {
      "text/html": [
       "<div>\n",
       "<style scoped>\n",
       "    .dataframe tbody tr th:only-of-type {\n",
       "        vertical-align: middle;\n",
       "    }\n",
       "\n",
       "    .dataframe tbody tr th {\n",
       "        vertical-align: top;\n",
       "    }\n",
       "\n",
       "    .dataframe thead th {\n",
       "        text-align: right;\n",
       "    }\n",
       "</style>\n",
       "<table border=\"1\" class=\"dataframe\">\n",
       "  <thead>\n",
       "    <tr style=\"text-align: right;\">\n",
       "      <th></th>\n",
       "      <th>Postal Code</th>\n",
       "      <th>Borough</th>\n",
       "      <th>Neighbourhood</th>\n",
       "      <th>Latitude</th>\n",
       "      <th>Longitude</th>\n",
       "    </tr>\n",
       "  </thead>\n",
       "  <tbody>\n",
       "    <tr>\n",
       "      <th>2</th>\n",
       "      <td>M3A</td>\n",
       "      <td>North York</td>\n",
       "      <td>Parkwoods</td>\n",
       "      <td></td>\n",
       "      <td></td>\n",
       "    </tr>\n",
       "    <tr>\n",
       "      <th>3</th>\n",
       "      <td>M4A</td>\n",
       "      <td>North York</td>\n",
       "      <td>Victoria Village</td>\n",
       "      <td></td>\n",
       "      <td></td>\n",
       "    </tr>\n",
       "    <tr>\n",
       "      <th>4</th>\n",
       "      <td>M5A</td>\n",
       "      <td>Downtown Toronto</td>\n",
       "      <td>Regent Park, Harbourfront</td>\n",
       "      <td></td>\n",
       "      <td></td>\n",
       "    </tr>\n",
       "    <tr>\n",
       "      <th>5</th>\n",
       "      <td>M6A</td>\n",
       "      <td>North York</td>\n",
       "      <td>Lawrence Manor, Lawrence Heights</td>\n",
       "      <td></td>\n",
       "      <td></td>\n",
       "    </tr>\n",
       "    <tr>\n",
       "      <th>6</th>\n",
       "      <td>M7A</td>\n",
       "      <td>Downtown Toronto</td>\n",
       "      <td>Queen's Park, Ontario Provincial Government</td>\n",
       "      <td></td>\n",
       "      <td></td>\n",
       "    </tr>\n",
       "  </tbody>\n",
       "</table>\n",
       "</div>"
      ],
      "text/plain": [
       "  Postal Code           Borough                                Neighbourhood  \\\n",
       "2         M3A        North York                                    Parkwoods   \n",
       "3         M4A        North York                             Victoria Village   \n",
       "4         M5A  Downtown Toronto                    Regent Park, Harbourfront   \n",
       "5         M6A        North York             Lawrence Manor, Lawrence Heights   \n",
       "6         M7A  Downtown Toronto  Queen's Park, Ontario Provincial Government   \n",
       "\n",
       "  Latitude Longitude  \n",
       "2                     \n",
       "3                     \n",
       "4                     \n",
       "5                     \n",
       "6                     "
      ]
     },
     "execution_count": 44,
     "metadata": {},
     "output_type": "execute_result"
    }
   ],
   "source": [
    "key = 'bf95567df6b04b73acc716a9f97a07ba'\n",
    "geocoder = OpenCageGeocode(key)\n",
    "df2[\"Latitude\"]=\"\"\n",
    "df2[\"Longitude\"]=\"\"\n",
    "df2.head()"
   ]
  },
  {
   "cell_type": "code",
   "execution_count": 16,
   "metadata": {},
   "outputs": [],
   "source": [
    "for i in range(len(df2)):     \n",
    "    query = df2.iloc[i][2]+\",Toronto\"\n",
    "    results = geocoder.geocode(query)        \n",
    "    df2.iloc[i, 3]=results[0]['geometry']['lat']\n",
    "    df2.iloc[i, 4]=results[0]['geometry']['lng']  "
   ]
  },
  {
   "cell_type": "code",
   "execution_count": 13,
   "metadata": {},
   "outputs": [
    {
     "data": {
      "text/plain": [
       "(103, 5)"
      ]
     },
     "execution_count": 13,
     "metadata": {},
     "output_type": "execute_result"
    }
   ],
   "source": [
    "#df2.to_csv(r'toronto_lat_long.csv', index = False)\n",
    "df2=pd.read_csv('to_lat_long.csv')\n",
    "df2.shape"
   ]
  },
  {
   "cell_type": "markdown",
   "metadata": {},
   "source": [
    "#### The dataframe \"df2\" does not have empty values"
   ]
  },
  {
   "cell_type": "code",
   "execution_count": 14,
   "metadata": {},
   "outputs": [
    {
     "data": {
      "text/plain": [
       "Postal Code      0\n",
       "Borough          0\n",
       "Neighbourhood    0\n",
       "Latitude         0\n",
       "Longitude        0\n",
       "dtype: int64"
      ]
     },
     "execution_count": 14,
     "metadata": {},
     "output_type": "execute_result"
    }
   ],
   "source": [
    "df2.isnull().sum()"
   ]
  },
  {
   "cell_type": "code",
   "execution_count": 15,
   "metadata": {},
   "outputs": [
    {
     "data": {
      "text/html": [
       "<div>\n",
       "<style scoped>\n",
       "    .dataframe tbody tr th:only-of-type {\n",
       "        vertical-align: middle;\n",
       "    }\n",
       "\n",
       "    .dataframe tbody tr th {\n",
       "        vertical-align: top;\n",
       "    }\n",
       "\n",
       "    .dataframe thead th {\n",
       "        text-align: right;\n",
       "    }\n",
       "</style>\n",
       "<table border=\"1\" class=\"dataframe\">\n",
       "  <thead>\n",
       "    <tr style=\"text-align: right;\">\n",
       "      <th></th>\n",
       "      <th>Postal Code</th>\n",
       "      <th>Borough</th>\n",
       "      <th>Neighbourhood</th>\n",
       "      <th>Latitude</th>\n",
       "      <th>Longitude</th>\n",
       "    </tr>\n",
       "  </thead>\n",
       "  <tbody>\n",
       "    <tr>\n",
       "      <th>98</th>\n",
       "      <td>M8X</td>\n",
       "      <td>Etobicoke</td>\n",
       "      <td>The Kingsway, Montgomery Road, Old Mill North</td>\n",
       "      <td>43.683410</td>\n",
       "      <td>-79.382900</td>\n",
       "    </tr>\n",
       "    <tr>\n",
       "      <th>99</th>\n",
       "      <td>M4Y</td>\n",
       "      <td>Downtown Toronto</td>\n",
       "      <td>Church and Wellesley</td>\n",
       "      <td>43.665524</td>\n",
       "      <td>-79.383801</td>\n",
       "    </tr>\n",
       "    <tr>\n",
       "      <th>100</th>\n",
       "      <td>M7Y</td>\n",
       "      <td>East Toronto</td>\n",
       "      <td>South Central Letter Processing Plant Toronto</td>\n",
       "      <td>43.780000</td>\n",
       "      <td>-79.251000</td>\n",
       "    </tr>\n",
       "    <tr>\n",
       "      <th>101</th>\n",
       "      <td>M8Y</td>\n",
       "      <td>Etobicoke</td>\n",
       "      <td>Old Mill South, King's Mill Park, Sunnylea</td>\n",
       "      <td>43.636300</td>\n",
       "      <td>-79.498500</td>\n",
       "    </tr>\n",
       "    <tr>\n",
       "      <th>102</th>\n",
       "      <td>M8Z</td>\n",
       "      <td>Etobicoke</td>\n",
       "      <td>Kingsway Park South West, Royal York South West</td>\n",
       "      <td>43.663280</td>\n",
       "      <td>-79.466170</td>\n",
       "    </tr>\n",
       "  </tbody>\n",
       "</table>\n",
       "</div>"
      ],
      "text/plain": [
       "    Postal Code           Borough  \\\n",
       "98          M8X         Etobicoke   \n",
       "99          M4Y  Downtown Toronto   \n",
       "100         M7Y      East Toronto   \n",
       "101         M8Y         Etobicoke   \n",
       "102         M8Z         Etobicoke   \n",
       "\n",
       "                                       Neighbourhood   Latitude  Longitude  \n",
       "98     The Kingsway, Montgomery Road, Old Mill North  43.683410 -79.382900  \n",
       "99                              Church and Wellesley  43.665524 -79.383801  \n",
       "100    South Central Letter Processing Plant Toronto  43.780000 -79.251000  \n",
       "101       Old Mill South, King's Mill Park, Sunnylea  43.636300 -79.498500  \n",
       "102  Kingsway Park South West, Royal York South West  43.663280 -79.466170  "
      ]
     },
     "execution_count": 15,
     "metadata": {},
     "output_type": "execute_result"
    }
   ],
   "source": [
    "df2.tail()"
   ]
  },
  {
   "cell_type": "markdown",
   "metadata": {},
   "source": [
    "### 5.2. Create a map with geopy library"
   ]
  },
  {
   "cell_type": "code",
   "execution_count": 17,
   "metadata": {},
   "outputs": [
    {
     "name": "stdout",
     "output_type": "stream",
     "text": [
      "The geograpical coordinate of Toronto City are 43.6534817, -79.3839347.\n"
     ]
    }
   ],
   "source": [
    "address = 'Toronto, CA'\n",
    "\n",
    "geolocator = Nominatim(user_agent=\"to_explorer\")\n",
    "location = geolocator.geocode(address)\n",
    "latitude = location.latitude\n",
    "longitude = location.longitude\n",
    "print('The geograpical coordinate of Toronto City are {}, {}.'.format(latitude, longitude))"
   ]
  },
  {
   "cell_type": "code",
   "execution_count": null,
   "metadata": {},
   "outputs": [],
   "source": [
    "# create map of New York using latitude and longitude values\n",
    "map_to = folium.Map(location=[latitude, longitude], zoom_start=10)\n",
    "\n",
    "# add markers to map\n",
    "for lat, lng, borough, neighborhood in zip(df2['Latitude'], df2['Longitude'], df2['Borough'], df2['Neighbourhood']):\n",
    "    label = '{}, {}'.format(neighborhood, borough)\n",
    "    label = folium.Popup(label, parse_html=True)\n",
    "    folium.CircleMarker(\n",
    "        [lat, lng],\n",
    "        radius=5,\n",
    "        popup=label,\n",
    "        color='blue',\n",
    "        fill=True,\n",
    "        fill_color='#3186cc',\n",
    "        fill_opacity=0.7,\n",
    "        parse_html=False).add_to(map_to)  \n",
    "    \n",
    "map_to"
   ]
  },
  {
   "cell_type": "markdown",
   "metadata": {},
   "source": [
    "#### Define Foursquare Credentials and Version"
   ]
  },
  {
   "cell_type": "code",
   "execution_count": null,
   "metadata": {},
   "outputs": [],
   "source": [
    "CLIENT_ID =''\n",
    "CLIENT_SECRET =''\n",
    "VERSION = '20180605' # Foursquare API version\n",
    "LIMIT = 5000 # A default Foursquare API limit value\n",
    "\n",
    "print('Your credentails:')\n",
    "print('CLIENT_ID: ' + CLIENT_ID)\n",
    "print('CLIENT_SECRET:' + CLIENT_SECRET)"
   ]
  },
  {
   "cell_type": "markdown",
   "metadata": {},
   "source": [
    "### 5.3. Explore neighborhoods in Toronto - Getting Venue Id"
   ]
  },
  {
   "cell_type": "code",
   "execution_count": 21,
   "metadata": {},
   "outputs": [],
   "source": [
    "def getNearbyVenues(names, latitudes, longitudes, radius=5000):\n",
    "    \n",
    "    venues_list=[]\n",
    "    for name, lat, lng in zip(names, latitudes, longitudes):\n",
    "        #print(name)\n",
    "            \n",
    "        # create the API request URL\n",
    "        url = 'https://api.foursquare.com/v2/venues/explore?&client_id={}&client_secret={}&v={}&ll={},{}&radius={}&limit={}'.format(\n",
    "            CLIENT_ID, \n",
    "            CLIENT_SECRET, \n",
    "            VERSION, \n",
    "            lat, \n",
    "            lng, \n",
    "            radius, \n",
    "            LIMIT)\n",
    "            \n",
    "        # make the GET request\n",
    "        results = requests.get(url).json()[\"response\"]['groups'][0]['items']\n",
    "        \n",
    "        # return only relevant information for each nearby venue\n",
    "        venues_list.append([(\n",
    "            name, \n",
    "            lat, \n",
    "            lng, \n",
    "            v['venue']['id'],            \n",
    "            v['venue']['name'], \n",
    "            v['venue']['location']['lat'], \n",
    "            v['venue']['location']['lng'],  \n",
    "            v['venue']['categories'][0]['name']) for v in results])\n",
    "\n",
    "    nearby_venues = pd.DataFrame([item for venue_list in venues_list for item in venue_list])\n",
    "    nearby_venues.columns = ['Neighborhood', \n",
    "                  'Neighborhood Latitude', \n",
    "                  'Neighborhood Longitude', \n",
    "                  'Venue Id',\n",
    "                  'Venue', \n",
    "                  'Venue Latitude', \n",
    "                  'Venue Longitude', \n",
    "                  'Venue Category']\n",
    "    \n",
    "    return(nearby_venues)"
   ]
  },
  {
   "cell_type": "code",
   "execution_count": null,
   "metadata": {},
   "outputs": [],
   "source": [
    "toronto_venues = getNearbyVenues(names=df2['Neighbourhood'],\n",
    "                                   latitudes=df2['Latitude'],\n",
    "                                   longitudes=df2['Longitude']\n",
    "                                  )"
   ]
  },
  {
   "cell_type": "markdown",
   "metadata": {},
   "source": [
    "#### Let's check the size of the resulting dataframe"
   ]
  },
  {
   "cell_type": "code",
   "execution_count": 23,
   "metadata": {},
   "outputs": [
    {
     "name": "stdout",
     "output_type": "stream",
     "text": [
      "(10213, 8)\n"
     ]
    },
    {
     "data": {
      "text/plain": [
       "(10213, 8)"
      ]
     },
     "execution_count": 23,
     "metadata": {},
     "output_type": "execute_result"
    }
   ],
   "source": [
    "print(toronto_venues.shape)\n",
    "toronto_venues.shape"
   ]
  },
  {
   "cell_type": "code",
   "execution_count": 24,
   "metadata": {},
   "outputs": [],
   "source": [
    "toronto_venues.to_csv(r'toronto_venues.csv', index = False)\n",
    "#toronto_venues=pd.read_csv('toronto_venues6.csv')"
   ]
  },
  {
   "cell_type": "markdown",
   "metadata": {},
   "source": [
    "#### 5.3.1. Get unique values per Venue in Toronto"
   ]
  },
  {
   "cell_type": "code",
   "execution_count": 25,
   "metadata": {},
   "outputs": [
    {
     "name": "stdout",
     "output_type": "stream",
     "text": [
      "There are 240 uniques categories.\n",
      "There are 1436 uniques venues.\n"
     ]
    }
   ],
   "source": [
    "print('There are {} uniques categories.'.format(len(toronto_venues['Venue Category'].unique())))\n",
    "print('There are {} uniques venues.'.format(len(toronto_venues['Venue'].unique())))"
   ]
  },
  {
   "cell_type": "code",
   "execution_count": 42,
   "metadata": {},
   "outputs": [
    {
     "data": {
      "text/plain": [
       "(1436, 8)"
      ]
     },
     "execution_count": 42,
     "metadata": {},
     "output_type": "execute_result"
    }
   ],
   "source": [
    "to_filtered = toronto_venues.drop_duplicates(subset=['Venue'],keep='first')\n",
    "to_filtered.to_csv(r'to_filtered2.csv', index = False)\n",
    "to_filtered.shape"
   ]
  },
  {
   "cell_type": "markdown",
   "metadata": {},
   "source": [
    "### 5.4. Get Likes - Toronto"
   ]
  },
  {
   "cell_type": "markdown",
   "metadata": {},
   "source": [
    "#### Split dataframe to_filtered to get likes"
   ]
  },
  {
   "cell_type": "code",
   "execution_count": 14,
   "metadata": {},
   "outputs": [],
   "source": [
    "to_filtered1=pd.read_csv('to_filtered1.csv')\n",
    "to_filtered2=pd.read_csv('to_filtered2.csv')"
   ]
  },
  {
   "cell_type": "markdown",
   "metadata": {},
   "source": [
    "#### Define Foursquare Credentials and Version"
   ]
  },
  {
   "cell_type": "code",
   "execution_count": null,
   "metadata": {},
   "outputs": [],
   "source": [
    "LIENT_ID =''\n",
    "LIENT_SECRET =''\n",
    "\n",
    "VERSION = '20180605' # Foursquare API version\n",
    "LIMIT = 5000 # A default Foursquare API limit value\n",
    "\n",
    "print('Your credentails:')\n",
    "print('CLIENT_ID: ' + CLIENT_ID)\n",
    "print('CLIENT_SECRET:' + CLIENT_SECRET)"
   ]
  },
  {
   "cell_type": "markdown",
   "metadata": {},
   "source": [
    "#### 5.4.1. Explore neighborhoods in Toronto - Getting likes per venue"
   ]
  },
  {
   "cell_type": "code",
   "execution_count": 24,
   "metadata": {},
   "outputs": [],
   "source": [
    "def getlikes(names,latitudes,longitudes,venueid,venue,vlatitudes,vlongitudes,vcategory,radius=5000):\n",
    "    \n",
    "    venues_list=[]\n",
    "    for nam,lat,lon,vid,ven,vla,vlo,vca in zip(names,latitudes,longitudes,venueid,venue,vlatitudes,vlongitudes,vcategory):\n",
    "        #rint(nam)\n",
    "                   \n",
    "        # create the API request URL\n",
    "        url = 'https://api.foursquare.com/v2/venues/'+vid+'/likes?&client_id={}&client_secret={}&v={}&ll={},{}&radius={}&limit={}'.format(\n",
    "            CLIENT_ID, \n",
    "            CLIENT_SECRET, \n",
    "            VERSION, \n",
    "            vla, \n",
    "            vlo, \n",
    "            radius, \n",
    "            LIMIT)\n",
    "            \n",
    "        # make the GET request\n",
    "        results = requests.get(url).json()[\"response\"]['likes']\n",
    "        \n",
    "        # return only relevant information for each nearby venue\n",
    "        if results['count']>0: \n",
    "            venues_list.append([( nam,lat,lon,vid,ven,vla,vlo,vca,results['count'],results['summary'] )])\n",
    "        else:\n",
    "            results['count']=0 \n",
    "            results['summary']=0\n",
    "            venues_list.append([( nam,lat,lon,vid,ven,vla,vlo,vca,results['count'],results['summary'] )])\n",
    "        \n",
    "\n",
    "    nearby_venues = pd.DataFrame([item for venue_list in venues_list for item in venue_list])\n",
    "    nearby_venues.columns = ['Neighborhood', \n",
    "                  'Neighborhood Latitude', \n",
    "                  'Neighborhood Longitude', \n",
    "                  'Venue Id',            \n",
    "                  'Venue', \n",
    "                  'Venue Latitude', \n",
    "                  'Venue Longitude', \n",
    "                  'Venue Category',\n",
    "                  'Venue Count Likes',\n",
    "                  'Venue Summary Likes']\n",
    "    \n",
    "    return(nearby_venues)"
   ]
  },
  {
   "cell_type": "code",
   "execution_count": 20,
   "metadata": {},
   "outputs": [],
   "source": [
    "toronto_venues_likesp1 = getlikes(names=to_filtered1['Neighborhood'],\n",
    "                                  latitudes=to_filtered1['Neighborhood Latitude'],\n",
    "                                  longitudes=to_filtered1['Neighborhood Longitude'],\n",
    "                                  venueid=to_filtered1['Venue Id'],\n",
    "                                  venue=to_filtered1['Venue'],\n",
    "                                  vlatitudes=to_filtered1['Venue Latitude'],\n",
    "                                  vlongitudes=to_filtered1['Venue Longitude'],\n",
    "                                  vcategory=to_filtered1['Venue Category']\n",
    "                                 )"
   ]
  },
  {
   "cell_type": "code",
   "execution_count": 22,
   "metadata": {},
   "outputs": [
    {
     "data": {
      "text/plain": [
       "(737, 10)"
      ]
     },
     "execution_count": 22,
     "metadata": {},
     "output_type": "execute_result"
    }
   ],
   "source": [
    "toronto_venues_likesp1.to_csv(r'toronto_venues_likesp1.csv')\n",
    "toronto_venues_likesp1.shape"
   ]
  },
  {
   "cell_type": "code",
   "execution_count": 25,
   "metadata": {},
   "outputs": [],
   "source": [
    "toronto_venues_likesp2 = getlikes(names=to_filtered2['Neighborhood'],\n",
    "                                  latitudes=to_filtered2['Neighborhood Latitude'],\n",
    "                                  longitudes=to_filtered2['Neighborhood Longitude'],\n",
    "                                  venueid=to_filtered2['Venue Id'],\n",
    "                                  venue=to_filtered2['Venue'],\n",
    "                                  vlatitudes=to_filtered2['Venue Latitude'],\n",
    "                                  vlongitudes=to_filtered2['Venue Longitude'],\n",
    "                                  vcategory=to_filtered2['Venue Category']\n",
    "                                 )"
   ]
  },
  {
   "cell_type": "code",
   "execution_count": 27,
   "metadata": {},
   "outputs": [
    {
     "data": {
      "text/plain": [
       "(699, 10)"
      ]
     },
     "execution_count": 27,
     "metadata": {},
     "output_type": "execute_result"
    }
   ],
   "source": [
    "toronto_venues_likesp2.to_csv(r'toronto_venues_likesp2.csv')\n",
    "toronto_venues_likesp2.shape"
   ]
  },
  {
   "cell_type": "code",
   "execution_count": 30,
   "metadata": {},
   "outputs": [
    {
     "data": {
      "text/html": [
       "<div>\n",
       "<style scoped>\n",
       "    .dataframe tbody tr th:only-of-type {\n",
       "        vertical-align: middle;\n",
       "    }\n",
       "\n",
       "    .dataframe tbody tr th {\n",
       "        vertical-align: top;\n",
       "    }\n",
       "\n",
       "    .dataframe thead th {\n",
       "        text-align: right;\n",
       "    }\n",
       "</style>\n",
       "<table border=\"1\" class=\"dataframe\">\n",
       "  <thead>\n",
       "    <tr style=\"text-align: right;\">\n",
       "      <th></th>\n",
       "      <th>Neighborhood</th>\n",
       "      <th>Neighborhood Latitude</th>\n",
       "      <th>Neighborhood Longitude</th>\n",
       "      <th>Venue Id</th>\n",
       "      <th>Venue</th>\n",
       "      <th>Venue Latitude</th>\n",
       "      <th>Venue Longitude</th>\n",
       "      <th>Venue Category</th>\n",
       "      <th>Venue Count Likes</th>\n",
       "      <th>Venue Summary Likes</th>\n",
       "    </tr>\n",
       "  </thead>\n",
       "  <tbody>\n",
       "    <tr>\n",
       "      <th>0</th>\n",
       "      <td>Parkwoods</td>\n",
       "      <td>43.75772</td>\n",
       "      <td>-79.315941</td>\n",
       "      <td>4b8991cbf964a520814232e3</td>\n",
       "      <td>Allwyn's Bakery</td>\n",
       "      <td>43.759840</td>\n",
       "      <td>-79.324719</td>\n",
       "      <td>Caribbean Restaurant</td>\n",
       "      <td>18</td>\n",
       "      <td>18 Likes</td>\n",
       "    </tr>\n",
       "    <tr>\n",
       "      <th>1</th>\n",
       "      <td>Parkwoods</td>\n",
       "      <td>43.75772</td>\n",
       "      <td>-79.315941</td>\n",
       "      <td>4bdccf4cafe8c9b6da285185</td>\n",
       "      <td>LCBO</td>\n",
       "      <td>43.757774</td>\n",
       "      <td>-79.314257</td>\n",
       "      <td>Liquor Store</td>\n",
       "      <td>15</td>\n",
       "      <td>15 Likes</td>\n",
       "    </tr>\n",
       "    <tr>\n",
       "      <th>2</th>\n",
       "      <td>Parkwoods</td>\n",
       "      <td>43.75772</td>\n",
       "      <td>-79.315941</td>\n",
       "      <td>4cd56bc194848cfa2b1ae6b1</td>\n",
       "      <td>Kostas Meat Market</td>\n",
       "      <td>43.760605</td>\n",
       "      <td>-79.301830</td>\n",
       "      <td>Greek Restaurant</td>\n",
       "      <td>17</td>\n",
       "      <td>17 Likes</td>\n",
       "    </tr>\n",
       "    <tr>\n",
       "      <th>3</th>\n",
       "      <td>Parkwoods</td>\n",
       "      <td>43.75772</td>\n",
       "      <td>-79.315941</td>\n",
       "      <td>500982f0e4b034274e8373e8</td>\n",
       "      <td>Naan &amp; Kabob Halal</td>\n",
       "      <td>43.742903</td>\n",
       "      <td>-79.305148</td>\n",
       "      <td>Middle Eastern Restaurant</td>\n",
       "      <td>23</td>\n",
       "      <td>23 Likes</td>\n",
       "    </tr>\n",
       "    <tr>\n",
       "      <th>4</th>\n",
       "      <td>Parkwoods</td>\n",
       "      <td>43.75772</td>\n",
       "      <td>-79.315941</td>\n",
       "      <td>4dd19e051838a75196486487</td>\n",
       "      <td>Ghadir Mid-Eastern Grocery</td>\n",
       "      <td>43.743638</td>\n",
       "      <td>-79.304233</td>\n",
       "      <td>Grocery Store</td>\n",
       "      <td>9</td>\n",
       "      <td>9 Likes</td>\n",
       "    </tr>\n",
       "  </tbody>\n",
       "</table>\n",
       "</div>"
      ],
      "text/plain": [
       "  Neighborhood  Neighborhood Latitude  Neighborhood Longitude  \\\n",
       "0    Parkwoods               43.75772              -79.315941   \n",
       "1    Parkwoods               43.75772              -79.315941   \n",
       "2    Parkwoods               43.75772              -79.315941   \n",
       "3    Parkwoods               43.75772              -79.315941   \n",
       "4    Parkwoods               43.75772              -79.315941   \n",
       "\n",
       "                   Venue Id                       Venue  Venue Latitude  \\\n",
       "0  4b8991cbf964a520814232e3             Allwyn's Bakery       43.759840   \n",
       "1  4bdccf4cafe8c9b6da285185                        LCBO       43.757774   \n",
       "2  4cd56bc194848cfa2b1ae6b1          Kostas Meat Market       43.760605   \n",
       "3  500982f0e4b034274e8373e8          Naan & Kabob Halal       43.742903   \n",
       "4  4dd19e051838a75196486487  Ghadir Mid-Eastern Grocery       43.743638   \n",
       "\n",
       "   Venue Longitude             Venue Category  Venue Count Likes  \\\n",
       "0       -79.324719       Caribbean Restaurant                 18   \n",
       "1       -79.314257               Liquor Store                 15   \n",
       "2       -79.301830           Greek Restaurant                 17   \n",
       "3       -79.305148  Middle Eastern Restaurant                 23   \n",
       "4       -79.304233              Grocery Store                  9   \n",
       "\n",
       "  Venue Summary Likes  \n",
       "0            18 Likes  \n",
       "1            15 Likes  \n",
       "2            17 Likes  \n",
       "3            23 Likes  \n",
       "4             9 Likes  "
      ]
     },
     "execution_count": 30,
     "metadata": {},
     "output_type": "execute_result"
    }
   ],
   "source": [
    "toronto_venues_likesp1.head()"
   ]
  },
  {
   "cell_type": "markdown",
   "metadata": {},
   "source": [
    "### 5.5. Assign main category per venue"
   ]
  },
  {
   "cell_type": "code",
   "execution_count": 45,
   "metadata": {},
   "outputs": [
    {
     "data": {
      "text/html": [
       "<div>\n",
       "<style scoped>\n",
       "    .dataframe tbody tr th:only-of-type {\n",
       "        vertical-align: middle;\n",
       "    }\n",
       "\n",
       "    .dataframe tbody tr th {\n",
       "        vertical-align: top;\n",
       "    }\n",
       "\n",
       "    .dataframe thead th {\n",
       "        text-align: right;\n",
       "    }\n",
       "</style>\n",
       "<table border=\"1\" class=\"dataframe\">\n",
       "  <thead>\n",
       "    <tr style=\"text-align: right;\">\n",
       "      <th></th>\n",
       "      <th>Neighborhood</th>\n",
       "      <th>Neighborhood Latitude</th>\n",
       "      <th>Neighborhood Longitude</th>\n",
       "      <th>Venue Id</th>\n",
       "      <th>Venue</th>\n",
       "      <th>Venue Latitude</th>\n",
       "      <th>Venue Longitude</th>\n",
       "      <th>Venue Category</th>\n",
       "      <th>Venue Count Likes</th>\n",
       "      <th>Venue Summary Likes</th>\n",
       "      <th>Main_Category</th>\n",
       "    </tr>\n",
       "  </thead>\n",
       "  <tbody>\n",
       "    <tr>\n",
       "      <th>0</th>\n",
       "      <td>Parkwoods</td>\n",
       "      <td>43.75772</td>\n",
       "      <td>-79.315941</td>\n",
       "      <td>4b8991cbf964a520814232e3</td>\n",
       "      <td>Allwyn's Bakery</td>\n",
       "      <td>43.759840</td>\n",
       "      <td>-79.324719</td>\n",
       "      <td>Caribbean Restaurant</td>\n",
       "      <td>18</td>\n",
       "      <td>18 Likes</td>\n",
       "      <td></td>\n",
       "    </tr>\n",
       "    <tr>\n",
       "      <th>1</th>\n",
       "      <td>Parkwoods</td>\n",
       "      <td>43.75772</td>\n",
       "      <td>-79.315941</td>\n",
       "      <td>4bdccf4cafe8c9b6da285185</td>\n",
       "      <td>LCBO</td>\n",
       "      <td>43.757774</td>\n",
       "      <td>-79.314257</td>\n",
       "      <td>Liquor Store</td>\n",
       "      <td>15</td>\n",
       "      <td>15 Likes</td>\n",
       "      <td></td>\n",
       "    </tr>\n",
       "    <tr>\n",
       "      <th>2</th>\n",
       "      <td>Parkwoods</td>\n",
       "      <td>43.75772</td>\n",
       "      <td>-79.315941</td>\n",
       "      <td>4cd56bc194848cfa2b1ae6b1</td>\n",
       "      <td>Kostas Meat Market</td>\n",
       "      <td>43.760605</td>\n",
       "      <td>-79.301830</td>\n",
       "      <td>Greek Restaurant</td>\n",
       "      <td>17</td>\n",
       "      <td>17 Likes</td>\n",
       "      <td></td>\n",
       "    </tr>\n",
       "    <tr>\n",
       "      <th>3</th>\n",
       "      <td>Parkwoods</td>\n",
       "      <td>43.75772</td>\n",
       "      <td>-79.315941</td>\n",
       "      <td>500982f0e4b034274e8373e8</td>\n",
       "      <td>Naan &amp; Kabob Halal</td>\n",
       "      <td>43.742903</td>\n",
       "      <td>-79.305148</td>\n",
       "      <td>Middle Eastern Restaurant</td>\n",
       "      <td>23</td>\n",
       "      <td>23 Likes</td>\n",
       "      <td></td>\n",
       "    </tr>\n",
       "    <tr>\n",
       "      <th>4</th>\n",
       "      <td>Parkwoods</td>\n",
       "      <td>43.75772</td>\n",
       "      <td>-79.315941</td>\n",
       "      <td>4dd19e051838a75196486487</td>\n",
       "      <td>Ghadir Mid-Eastern Grocery</td>\n",
       "      <td>43.743638</td>\n",
       "      <td>-79.304233</td>\n",
       "      <td>Grocery Store</td>\n",
       "      <td>9</td>\n",
       "      <td>9 Likes</td>\n",
       "      <td></td>\n",
       "    </tr>\n",
       "  </tbody>\n",
       "</table>\n",
       "</div>"
      ],
      "text/plain": [
       "  Neighborhood  Neighborhood Latitude  Neighborhood Longitude  \\\n",
       "0    Parkwoods               43.75772              -79.315941   \n",
       "1    Parkwoods               43.75772              -79.315941   \n",
       "2    Parkwoods               43.75772              -79.315941   \n",
       "3    Parkwoods               43.75772              -79.315941   \n",
       "4    Parkwoods               43.75772              -79.315941   \n",
       "\n",
       "                   Venue Id                       Venue  Venue Latitude  \\\n",
       "0  4b8991cbf964a520814232e3             Allwyn's Bakery       43.759840   \n",
       "1  4bdccf4cafe8c9b6da285185                        LCBO       43.757774   \n",
       "2  4cd56bc194848cfa2b1ae6b1          Kostas Meat Market       43.760605   \n",
       "3  500982f0e4b034274e8373e8          Naan & Kabob Halal       43.742903   \n",
       "4  4dd19e051838a75196486487  Ghadir Mid-Eastern Grocery       43.743638   \n",
       "\n",
       "   Venue Longitude             Venue Category  Venue Count Likes  \\\n",
       "0       -79.324719       Caribbean Restaurant                 18   \n",
       "1       -79.314257               Liquor Store                 15   \n",
       "2       -79.301830           Greek Restaurant                 17   \n",
       "3       -79.305148  Middle Eastern Restaurant                 23   \n",
       "4       -79.304233              Grocery Store                  9   \n",
       "\n",
       "  Venue Summary Likes Main_Category  \n",
       "0            18 Likes                \n",
       "1            15 Likes                \n",
       "2            17 Likes                \n",
       "3            23 Likes                \n",
       "4             9 Likes                "
      ]
     },
     "execution_count": 45,
     "metadata": {},
     "output_type": "execute_result"
    }
   ],
   "source": [
    "cat_foursquare=pd.read_csv('main_cat2.csv')\n",
    "toronto_df_final=toronto_venues_likesp1\n",
    "toronto_df_final=toronto_venues_likesp1.append(toronto_venues_likesp2,ignore_index = True) \n",
    "toronto_df_final[\"Main_Category\"]=\"\"\n",
    "toronto_df_final.drop([\"Unnamed: 0\"],axis=1,inplace=True)\n",
    "toronto_df_final.head()"
   ]
  },
  {
   "cell_type": "code",
   "execution_count": 48,
   "metadata": {},
   "outputs": [
    {
     "data": {
      "text/plain": [
       "(941, 3)"
      ]
     },
     "execution_count": 48,
     "metadata": {},
     "output_type": "execute_result"
    }
   ],
   "source": [
    "cat_foursquare.shape"
   ]
  },
  {
   "cell_type": "code",
   "execution_count": 49,
   "metadata": {},
   "outputs": [
    {
     "name": "stderr",
     "output_type": "stream",
     "text": [
      "/srv/conda/envs/notebook/lib/python3.7/site-packages/ipykernel_launcher.py:5: SettingWithCopyWarning:\n",
      "\n",
      "\n",
      "A value is trying to be set on a copy of a slice from a DataFrame\n",
      "\n",
      "See the caveats in the documentation: http://pandas.pydata.org/pandas-docs/stable/indexing.html#indexing-view-versus-copy\n",
      "\n"
     ]
    }
   ],
   "source": [
    "for i, row in toronto_df_final.iterrows():    \n",
    "    for j,row in cat_foursquare.iterrows():    \n",
    "        if toronto_df_final[\"Venue Category\"][i]==cat_foursquare['Category'][j]:\n",
    "            to_selected=round(cat_foursquare[\"Main_Category\"][j])\n",
    "            toronto_df_final[\"Main_Category\"][i]=to_selected"
   ]
  },
  {
   "cell_type": "code",
   "execution_count": 52,
   "metadata": {},
   "outputs": [
    {
     "name": "stderr",
     "output_type": "stream",
     "text": [
      "/srv/conda/envs/notebook/lib/python3.7/site-packages/ipykernel_launcher.py:4: SettingWithCopyWarning:\n",
      "\n",
      "\n",
      "A value is trying to be set on a copy of a slice from a DataFrame\n",
      "\n",
      "See the caveats in the documentation: http://pandas.pydata.org/pandas-docs/stable/indexing.html#indexing-view-versus-copy\n",
      "\n"
     ]
    }
   ],
   "source": [
    "for i, row in toronto_df_final.iterrows():    \n",
    "    for j,row in cat_foursquare.iterrows():    \n",
    "        if toronto_df_final[\"Main_Category\"][i]==cat_foursquare['Main_Category'][j]:            \n",
    "            toronto_df_final[\"Main_Category\"][i]=cat_foursquare['Category'][j]"
   ]
  },
  {
   "cell_type": "code",
   "execution_count": 53,
   "metadata": {},
   "outputs": [
    {
     "data": {
      "text/html": [
       "<div>\n",
       "<style scoped>\n",
       "    .dataframe tbody tr th:only-of-type {\n",
       "        vertical-align: middle;\n",
       "    }\n",
       "\n",
       "    .dataframe tbody tr th {\n",
       "        vertical-align: top;\n",
       "    }\n",
       "\n",
       "    .dataframe thead th {\n",
       "        text-align: right;\n",
       "    }\n",
       "</style>\n",
       "<table border=\"1\" class=\"dataframe\">\n",
       "  <thead>\n",
       "    <tr style=\"text-align: right;\">\n",
       "      <th></th>\n",
       "      <th>Neighborhood</th>\n",
       "      <th>Neighborhood Latitude</th>\n",
       "      <th>Neighborhood Longitude</th>\n",
       "      <th>Venue Id</th>\n",
       "      <th>Venue</th>\n",
       "      <th>Venue Latitude</th>\n",
       "      <th>Venue Longitude</th>\n",
       "      <th>Venue Category</th>\n",
       "      <th>Venue Count Likes</th>\n",
       "      <th>Venue Summary Likes</th>\n",
       "      <th>Main_Category</th>\n",
       "    </tr>\n",
       "  </thead>\n",
       "  <tbody>\n",
       "    <tr>\n",
       "      <th>1431</th>\n",
       "      <td>Old Mill South, King's Mill Park, Sunnylea</td>\n",
       "      <td>43.6363</td>\n",
       "      <td>-79.4985</td>\n",
       "      <td>4b11a52ef964a5204b8123e3</td>\n",
       "      <td>Momiji Sushi Bar &amp; Grill</td>\n",
       "      <td>43.647843</td>\n",
       "      <td>-79.508534</td>\n",
       "      <td>Sushi Restaurant</td>\n",
       "      <td>36</td>\n",
       "      <td>36 Likes</td>\n",
       "      <td>Food</td>\n",
       "    </tr>\n",
       "    <tr>\n",
       "      <th>1432</th>\n",
       "      <td>Old Mill South, King's Mill Park, Sunnylea</td>\n",
       "      <td>43.6363</td>\n",
       "      <td>-79.4985</td>\n",
       "      <td>4bb7e2d498c7ef3b28883002</td>\n",
       "      <td>The Kingsway Theatre</td>\n",
       "      <td>43.647164</td>\n",
       "      <td>-79.512232</td>\n",
       "      <td>Indie Movie Theater</td>\n",
       "      <td>13</td>\n",
       "      <td>13 Likes</td>\n",
       "      <td>Arts &amp; Entertainment</td>\n",
       "    </tr>\n",
       "    <tr>\n",
       "      <th>1433</th>\n",
       "      <td>Old Mill South, King's Mill Park, Sunnylea</td>\n",
       "      <td>43.6363</td>\n",
       "      <td>-79.4985</td>\n",
       "      <td>511992d3e4b04d760b8ff836</td>\n",
       "      <td>Gourmet Bakery (Islington Station)</td>\n",
       "      <td>43.644919</td>\n",
       "      <td>-79.524711</td>\n",
       "      <td>Bakery</td>\n",
       "      <td>11</td>\n",
       "      <td>11 Likes</td>\n",
       "      <td>Food</td>\n",
       "    </tr>\n",
       "    <tr>\n",
       "      <th>1434</th>\n",
       "      <td>Old Mill South, King's Mill Park, Sunnylea</td>\n",
       "      <td>43.6363</td>\n",
       "      <td>-79.4985</td>\n",
       "      <td>4bcb9b5a68f976b0717e6183</td>\n",
       "      <td>Anatolia Restaurant</td>\n",
       "      <td>43.644596</td>\n",
       "      <td>-79.532810</td>\n",
       "      <td>Turkish Restaurant</td>\n",
       "      <td>55</td>\n",
       "      <td>55 Likes</td>\n",
       "      <td>Food</td>\n",
       "    </tr>\n",
       "    <tr>\n",
       "      <th>1435</th>\n",
       "      <td>Old Mill South, King's Mill Park, Sunnylea</td>\n",
       "      <td>43.6363</td>\n",
       "      <td>-79.4985</td>\n",
       "      <td>543b1213498e97d631e83226</td>\n",
       "      <td>U-Know Sushi</td>\n",
       "      <td>43.630326</td>\n",
       "      <td>-79.485386</td>\n",
       "      <td>Sushi Restaurant</td>\n",
       "      <td>5</td>\n",
       "      <td>5 Likes</td>\n",
       "      <td>Food</td>\n",
       "    </tr>\n",
       "  </tbody>\n",
       "</table>\n",
       "</div>"
      ],
      "text/plain": [
       "                                    Neighborhood  Neighborhood Latitude  \\\n",
       "1431  Old Mill South, King's Mill Park, Sunnylea                43.6363   \n",
       "1432  Old Mill South, King's Mill Park, Sunnylea                43.6363   \n",
       "1433  Old Mill South, King's Mill Park, Sunnylea                43.6363   \n",
       "1434  Old Mill South, King's Mill Park, Sunnylea                43.6363   \n",
       "1435  Old Mill South, King's Mill Park, Sunnylea                43.6363   \n",
       "\n",
       "      Neighborhood Longitude                  Venue Id  \\\n",
       "1431                -79.4985  4b11a52ef964a5204b8123e3   \n",
       "1432                -79.4985  4bb7e2d498c7ef3b28883002   \n",
       "1433                -79.4985  511992d3e4b04d760b8ff836   \n",
       "1434                -79.4985  4bcb9b5a68f976b0717e6183   \n",
       "1435                -79.4985  543b1213498e97d631e83226   \n",
       "\n",
       "                                   Venue  Venue Latitude  Venue Longitude  \\\n",
       "1431            Momiji Sushi Bar & Grill       43.647843       -79.508534   \n",
       "1432                The Kingsway Theatre       43.647164       -79.512232   \n",
       "1433  Gourmet Bakery (Islington Station)       43.644919       -79.524711   \n",
       "1434                 Anatolia Restaurant       43.644596       -79.532810   \n",
       "1435                        U-Know Sushi       43.630326       -79.485386   \n",
       "\n",
       "           Venue Category  Venue Count Likes Venue Summary Likes  \\\n",
       "1431     Sushi Restaurant                 36            36 Likes   \n",
       "1432  Indie Movie Theater                 13            13 Likes   \n",
       "1433               Bakery                 11            11 Likes   \n",
       "1434   Turkish Restaurant                 55            55 Likes   \n",
       "1435     Sushi Restaurant                  5             5 Likes   \n",
       "\n",
       "             Main_Category  \n",
       "1431                  Food  \n",
       "1432  Arts & Entertainment  \n",
       "1433                  Food  \n",
       "1434                  Food  \n",
       "1435                  Food  "
      ]
     },
     "execution_count": 53,
     "metadata": {},
     "output_type": "execute_result"
    }
   ],
   "source": [
    "toronto_df_final.tail()"
   ]
  },
  {
   "cell_type": "code",
   "execution_count": 54,
   "metadata": {},
   "outputs": [],
   "source": [
    "toronto_df_final.to_csv(r'toronto_df_final.csv')\n",
    "#toronto_df_final=pd.read_csv('toronto_df_final.csv')"
   ]
  },
  {
   "cell_type": "markdown",
   "metadata": {},
   "source": [
    "## 6. Main Comparison between Cartagena and Toronto"
   ]
  },
  {
   "cell_type": "markdown",
   "metadata": {},
   "source": [
    "### 6.1. Cartagena"
   ]
  },
  {
   "cell_type": "code",
   "execution_count": 12,
   "metadata": {},
   "outputs": [],
   "source": [
    "cartagena_df_final=pd.read_csv('cartagena_df_final.csv')\n",
    "cartagena_df_final.drop([\"Unnamed: 0\"],axis=1,inplace=True)"
   ]
  },
  {
   "cell_type": "markdown",
   "metadata": {},
   "source": [
    "#### 6.1.1. Top 10 - Venues preferred per tourists"
   ]
  },
  {
   "cell_type": "code",
   "execution_count": 79,
   "metadata": {},
   "outputs": [
    {
     "data": {
      "text/html": [
       "<div>\n",
       "<style scoped>\n",
       "    .dataframe tbody tr th:only-of-type {\n",
       "        vertical-align: middle;\n",
       "    }\n",
       "\n",
       "    .dataframe tbody tr th {\n",
       "        vertical-align: top;\n",
       "    }\n",
       "\n",
       "    .dataframe thead th {\n",
       "        text-align: right;\n",
       "    }\n",
       "</style>\n",
       "<table border=\"1\" class=\"dataframe\">\n",
       "  <thead>\n",
       "    <tr style=\"text-align: right;\">\n",
       "      <th></th>\n",
       "      <th>Venue</th>\n",
       "      <th>Venue Count Likes</th>\n",
       "    </tr>\n",
       "  </thead>\n",
       "  <tbody>\n",
       "    <tr>\n",
       "      <th>0</th>\n",
       "      <td>Centro Histórico de Cartagena / Ciudad Amurallada</td>\n",
       "      <td>1799</td>\n",
       "    </tr>\n",
       "    <tr>\n",
       "      <th>1</th>\n",
       "      <td>Café del Mar</td>\n",
       "      <td>1231</td>\n",
       "    </tr>\n",
       "    <tr>\n",
       "      <th>2</th>\n",
       "      <td>Aeropuerto Internacional Rafael Núñez (CTG) (A...</td>\n",
       "      <td>1143</td>\n",
       "    </tr>\n",
       "    <tr>\n",
       "      <th>3</th>\n",
       "      <td>Castillo de San Felipe de Barajas</td>\n",
       "      <td>809</td>\n",
       "    </tr>\n",
       "    <tr>\n",
       "      <th>4</th>\n",
       "      <td>La Cevicheria</td>\n",
       "      <td>604</td>\n",
       "    </tr>\n",
       "  </tbody>\n",
       "</table>\n",
       "</div>"
      ],
      "text/plain": [
       "                                               Venue  Venue Count Likes\n",
       "0  Centro Histórico de Cartagena / Ciudad Amurallada               1799\n",
       "1                                       Café del Mar               1231\n",
       "2  Aeropuerto Internacional Rafael Núñez (CTG) (A...               1143\n",
       "3                  Castillo de San Felipe de Barajas                809\n",
       "4                                      La Cevicheria                604"
      ]
     },
     "execution_count": 79,
     "metadata": {},
     "output_type": "execute_result"
    }
   ],
   "source": [
    "ca_sorted_per_venue = pd.DataFrame (cartagena_df_final, columns = [\"Venue\",'Venue Count Likes'])\n",
    "#ca_sorted_per_venue=ca_sorted_per_venue.set_index(['Venue'])\n",
    "ca_sorted_per_venue['Venue']=ca_sorted_per_venue['Venue'].astype(str)\n",
    "ca_sorted_per_venue['Venue Count Likes']=ca_sorted_per_venue['Venue Count Likes'].astype(int)\n",
    "\n",
    "ca_sorted_per_venue=ca_sorted_per_venue.sort_values(by=['Venue Count Likes'],ascending=False).reset_index()\n",
    "ca_sorted_per_venue.drop([\"index\"],axis=1,inplace=True)\n",
    "ca_sorted_per_venue.head()"
   ]
  },
  {
   "cell_type": "code",
   "execution_count": 83,
   "metadata": {},
   "outputs": [
    {
     "data": {
      "image/png": "[encoded data removed]",
      "text/plain": [
       "<Figure size 720x504 with 1 Axes>"
      ]
     },
     "metadata": {},
     "output_type": "display_data"
    },
    {
     "data": {
      "text/html": [
       "<div>\n",
       "<style scoped>\n",
       "    .dataframe tbody tr th:only-of-type {\n",
       "        vertical-align: middle;\n",
       "    }\n",
       "\n",
       "    .dataframe tbody tr th {\n",
       "        vertical-align: top;\n",
       "    }\n",
       "\n",
       "    .dataframe thead th {\n",
       "        text-align: right;\n",
       "    }\n",
       "</style>\n",
       "<table border=\"1\" class=\"dataframe\">\n",
       "  <thead>\n",
       "    <tr style=\"text-align: right;\">\n",
       "      <th></th>\n",
       "      <th>Venue</th>\n",
       "      <th>Venue Count Likes</th>\n",
       "    </tr>\n",
       "  </thead>\n",
       "  <tbody>\n",
       "    <tr>\n",
       "      <th>0</th>\n",
       "      <td>Centro Histórico de Cartagena / Ciudad Amurallada</td>\n",
       "      <td>1799</td>\n",
       "    </tr>\n",
       "    <tr>\n",
       "      <th>1</th>\n",
       "      <td>Café del Mar</td>\n",
       "      <td>1231</td>\n",
       "    </tr>\n",
       "    <tr>\n",
       "      <th>2</th>\n",
       "      <td>Aeropuerto Internacional Rafael Núñez (CTG) (A...</td>\n",
       "      <td>1143</td>\n",
       "    </tr>\n",
       "    <tr>\n",
       "      <th>3</th>\n",
       "      <td>Castillo de San Felipe de Barajas</td>\n",
       "      <td>809</td>\n",
       "    </tr>\n",
       "    <tr>\n",
       "      <th>4</th>\n",
       "      <td>La Cevicheria</td>\n",
       "      <td>604</td>\n",
       "    </tr>\n",
       "    <tr>\n",
       "      <th>5</th>\n",
       "      <td>Torre del Reloj</td>\n",
       "      <td>565</td>\n",
       "    </tr>\n",
       "    <tr>\n",
       "      <th>6</th>\n",
       "      <td>Restaurante La Mulata</td>\n",
       "      <td>549</td>\n",
       "    </tr>\n",
       "    <tr>\n",
       "      <th>7</th>\n",
       "      <td>La Palettería</td>\n",
       "      <td>491</td>\n",
       "    </tr>\n",
       "    <tr>\n",
       "      <th>8</th>\n",
       "      <td>Plaza Santo Domingo</td>\n",
       "      <td>490</td>\n",
       "    </tr>\n",
       "    <tr>\n",
       "      <th>9</th>\n",
       "      <td>Mila Pasteleria</td>\n",
       "      <td>470</td>\n",
       "    </tr>\n",
       "  </tbody>\n",
       "</table>\n",
       "</div>"
      ],
      "text/plain": [
       "                                               Venue  Venue Count Likes\n",
       "0  Centro Histórico de Cartagena / Ciudad Amurallada               1799\n",
       "1                                       Café del Mar               1231\n",
       "2  Aeropuerto Internacional Rafael Núñez (CTG) (A...               1143\n",
       "3                  Castillo de San Felipe de Barajas                809\n",
       "4                                      La Cevicheria                604\n",
       "5                                    Torre del Reloj                565\n",
       "6                              Restaurante La Mulata                549\n",
       "7                                      La Palettería                491\n",
       "8                                Plaza Santo Domingo                490\n",
       "9                                    Mila Pasteleria                470"
      ]
     },
     "execution_count": 83,
     "metadata": {},
     "output_type": "execute_result"
    }
   ],
   "source": [
    "# Creating plot \n",
    "fig1 = plt.figure(figsize =(10, 7))\n",
    "car1=ca_sorted_per_venue[:10]\n",
    "plt.pie(car1[\"Venue Count Likes\"], labels =car1[\"Venue\"]) \n",
    "  \n",
    "# show plot \n",
    "plt.show() \n",
    "ca_sorted_per_venue.head(10)"
   ]
  },
  {
   "cell_type": "markdown",
   "metadata": {},
   "source": [
    "#### 6.1.2. Top 10 - Neighborhoods preferred per tourists"
   ]
  },
  {
   "cell_type": "code",
   "execution_count": 16,
   "metadata": {},
   "outputs": [
    {
     "data": {
      "text/html": [
       "<div>\n",
       "<style scoped>\n",
       "    .dataframe tbody tr th:only-of-type {\n",
       "        vertical-align: middle;\n",
       "    }\n",
       "\n",
       "    .dataframe tbody tr th {\n",
       "        vertical-align: top;\n",
       "    }\n",
       "\n",
       "    .dataframe thead th {\n",
       "        text-align: right;\n",
       "    }\n",
       "</style>\n",
       "<table border=\"1\" class=\"dataframe\">\n",
       "  <thead>\n",
       "    <tr style=\"text-align: right;\">\n",
       "      <th></th>\n",
       "      <th>Neighborhood</th>\n",
       "      <th>Venue Count Likes</th>\n",
       "    </tr>\n",
       "  </thead>\n",
       "  <tbody>\n",
       "    <tr>\n",
       "      <th>0</th>\n",
       "      <td>Centro</td>\n",
       "      <td>12406</td>\n",
       "    </tr>\n",
       "    <tr>\n",
       "      <th>1</th>\n",
       "      <td>Getsemani</td>\n",
       "      <td>2535</td>\n",
       "    </tr>\n",
       "    <tr>\n",
       "      <th>2</th>\n",
       "      <td>La Matuna</td>\n",
       "      <td>1809</td>\n",
       "    </tr>\n",
       "    <tr>\n",
       "      <th>3</th>\n",
       "      <td>El Laguito</td>\n",
       "      <td>1390</td>\n",
       "    </tr>\n",
       "    <tr>\n",
       "      <th>4</th>\n",
       "      <td>Crespo</td>\n",
       "      <td>1292</td>\n",
       "    </tr>\n",
       "  </tbody>\n",
       "</table>\n",
       "</div>"
      ],
      "text/plain": [
       "  Neighborhood  Venue Count Likes\n",
       "0       Centro              12406\n",
       "1    Getsemani               2535\n",
       "2    La Matuna               1809\n",
       "3   El Laguito               1390\n",
       "4       Crespo               1292"
      ]
     },
     "execution_count": 16,
     "metadata": {},
     "output_type": "execute_result"
    }
   ],
   "source": [
    "ca_sorted_per_neighborhood0=cartagena_df_final\n",
    "ca_sorted_per_neighborhood0.drop([\"Neighborhood Latitude\",\"Neighborhood Longitude\",\"Venue Id\",\"Venue\",\"Venue Latitude\",\"Venue Longitude\",\"Venue Category\",\"Venue Summary Likes\",\"Main_Category\"],axis=1,inplace=True)\n",
    "ca_sorted_per_neighborhood1=ca_sorted_per_neighborhood0.groupby( ['Neighborhood'], as_index=False).agg({'Venue Count Likes':sum})\n",
    "ca_sorted_per_neighborhood=ca_sorted_per_neighborhood1.sort_values(by=['Venue Count Likes'],ascending=False).reset_index()\n",
    "ca_sorted_per_neighborhood.drop([\"index\"],axis=1,inplace=True)\n",
    "ca_sorted_per_neighborhood.head()"
   ]
  },
  {
   "cell_type": "code",
   "execution_count": 17,
   "metadata": {},
   "outputs": [
    {
     "data": {
      "image/png": "[encoded data removed]",
      "text/plain": [
       "<Figure size 720x504 with 1 Axes>"
      ]
     },
     "metadata": {},
     "output_type": "display_data"
    },
    {
     "data": {
      "text/html": [
       "<div>\n",
       "<style scoped>\n",
       "    .dataframe tbody tr th:only-of-type {\n",
       "        vertical-align: middle;\n",
       "    }\n",
       "\n",
       "    .dataframe tbody tr th {\n",
       "        vertical-align: top;\n",
       "    }\n",
       "\n",
       "    .dataframe thead th {\n",
       "        text-align: right;\n",
       "    }\n",
       "</style>\n",
       "<table border=\"1\" class=\"dataframe\">\n",
       "  <thead>\n",
       "    <tr style=\"text-align: right;\">\n",
       "      <th></th>\n",
       "      <th>Neighborhood</th>\n",
       "      <th>Venue Count Likes</th>\n",
       "    </tr>\n",
       "  </thead>\n",
       "  <tbody>\n",
       "    <tr>\n",
       "      <th>0</th>\n",
       "      <td>Centro</td>\n",
       "      <td>12406</td>\n",
       "    </tr>\n",
       "    <tr>\n",
       "      <th>1</th>\n",
       "      <td>Getsemani</td>\n",
       "      <td>2535</td>\n",
       "    </tr>\n",
       "    <tr>\n",
       "      <th>2</th>\n",
       "      <td>La Matuna</td>\n",
       "      <td>1809</td>\n",
       "    </tr>\n",
       "    <tr>\n",
       "      <th>3</th>\n",
       "      <td>El Laguito</td>\n",
       "      <td>1390</td>\n",
       "    </tr>\n",
       "    <tr>\n",
       "      <th>4</th>\n",
       "      <td>Crespo</td>\n",
       "      <td>1292</td>\n",
       "    </tr>\n",
       "    <tr>\n",
       "      <th>5</th>\n",
       "      <td>Espinal</td>\n",
       "      <td>1043</td>\n",
       "    </tr>\n",
       "    <tr>\n",
       "      <th>6</th>\n",
       "      <td>Pie De La Popa</td>\n",
       "      <td>930</td>\n",
       "    </tr>\n",
       "    <tr>\n",
       "      <th>7</th>\n",
       "      <td>Ii</td>\n",
       "      <td>723</td>\n",
       "    </tr>\n",
       "    <tr>\n",
       "      <th>8</th>\n",
       "      <td>Brucelas</td>\n",
       "      <td>720</td>\n",
       "    </tr>\n",
       "    <tr>\n",
       "      <th>9</th>\n",
       "      <td>Chambacu</td>\n",
       "      <td>632</td>\n",
       "    </tr>\n",
       "  </tbody>\n",
       "</table>\n",
       "</div>"
      ],
      "text/plain": [
       "     Neighborhood  Venue Count Likes\n",
       "0          Centro              12406\n",
       "1       Getsemani               2535\n",
       "2       La Matuna               1809\n",
       "3      El Laguito               1390\n",
       "4          Crespo               1292\n",
       "5         Espinal               1043\n",
       "6  Pie De La Popa                930\n",
       "7              Ii                723\n",
       "8        Brucelas                720\n",
       "9        Chambacu                632"
      ]
     },
     "execution_count": 17,
     "metadata": {},
     "output_type": "execute_result"
    }
   ],
   "source": [
    "# Creating plot \n",
    "fig2 = plt.figure(figsize =(10, 7))\n",
    "car2=ca_sorted_per_neighborhood[:10]\n",
    "plt.pie(car2[\"Venue Count Likes\"], labels =car2[\"Neighborhood\"]) \n",
    "  \n",
    "# show plot \n",
    "plt.show() \n",
    "ca_sorted_per_neighborhood.head(10)"
   ]
  },
  {
   "cell_type": "markdown",
   "metadata": {},
   "source": [
    "### 6.2. Toronto"
   ]
  },
  {
   "cell_type": "code",
   "execution_count": 12,
   "metadata": {},
   "outputs": [],
   "source": [
    "toronto_df_final=pd.read_csv('toronto_df_final.csv')\n",
    "toronto_df_final.drop([\"Unnamed: 0\"],axis=1,inplace=True)"
   ]
  },
  {
   "cell_type": "markdown",
   "metadata": {},
   "source": [
    "#### 6.2.1. Top 10 - Venues preferred per tourists"
   ]
  },
  {
   "cell_type": "code",
   "execution_count": 18,
   "metadata": {},
   "outputs": [
    {
     "data": {
      "text/html": [
       "<div>\n",
       "<style scoped>\n",
       "    .dataframe tbody tr th:only-of-type {\n",
       "        vertical-align: middle;\n",
       "    }\n",
       "\n",
       "    .dataframe tbody tr th {\n",
       "        vertical-align: top;\n",
       "    }\n",
       "\n",
       "    .dataframe thead th {\n",
       "        text-align: right;\n",
       "    }\n",
       "</style>\n",
       "<table border=\"1\" class=\"dataframe\">\n",
       "  <thead>\n",
       "    <tr style=\"text-align: right;\">\n",
       "      <th></th>\n",
       "      <th>Venue</th>\n",
       "      <th>Venue Count Likes</th>\n",
       "    </tr>\n",
       "  </thead>\n",
       "  <tbody>\n",
       "    <tr>\n",
       "      <th>0</th>\n",
       "      <td>Toronto Pearson International Airport (YYZ) (T...</td>\n",
       "      <td>4177</td>\n",
       "    </tr>\n",
       "    <tr>\n",
       "      <th>1</th>\n",
       "      <td>Rogers Centre</td>\n",
       "      <td>2220</td>\n",
       "    </tr>\n",
       "    <tr>\n",
       "      <th>2</th>\n",
       "      <td>Scotiabank Arena</td>\n",
       "      <td>2203</td>\n",
       "    </tr>\n",
       "    <tr>\n",
       "      <th>3</th>\n",
       "      <td>CN Tower</td>\n",
       "      <td>2007</td>\n",
       "    </tr>\n",
       "    <tr>\n",
       "      <th>4</th>\n",
       "      <td>Yorkdale Shopping Centre</td>\n",
       "      <td>1545</td>\n",
       "    </tr>\n",
       "  </tbody>\n",
       "</table>\n",
       "</div>"
      ],
      "text/plain": [
       "                                               Venue  Venue Count Likes\n",
       "0  Toronto Pearson International Airport (YYZ) (T...               4177\n",
       "1                                      Rogers Centre               2220\n",
       "2                                   Scotiabank Arena               2203\n",
       "3                                           CN Tower               2007\n",
       "4                           Yorkdale Shopping Centre               1545"
      ]
     },
     "execution_count": 18,
     "metadata": {},
     "output_type": "execute_result"
    }
   ],
   "source": [
    "to_sorted_per_venue = pd.DataFrame (toronto_df_final, columns = [\"Venue\",'Venue Count Likes'])\n",
    "#to_sorted_per_venue=to_sorted_per_venue.set_index(['Venue'])\n",
    "to_sorted_per_venue['Venue']=to_sorted_per_venue['Venue'].astype(str)\n",
    "to_sorted_per_venue['Venue Count Likes']=to_sorted_per_venue['Venue Count Likes'].astype(int)\n",
    "\n",
    "to_sorted_per_venue=to_sorted_per_venue.sort_values(by=['Venue Count Likes'],ascending=False).reset_index()\n",
    "to_sorted_per_venue.drop([\"index\"],axis=1,inplace=True)\n",
    "to_sorted_per_venue.head()"
   ]
  },
  {
   "cell_type": "code",
   "execution_count": 20,
   "metadata": {},
   "outputs": [
    {
     "data": {
      "image/png": "[encoded data removed]",
      "text/plain": [
       "<Figure size 720x504 with 1 Axes>"
      ]
     },
     "metadata": {},
     "output_type": "display_data"
    },
    {
     "data": {
      "text/html": [
       "<div>\n",
       "<style scoped>\n",
       "    .dataframe tbody tr th:only-of-type {\n",
       "        vertical-align: middle;\n",
       "    }\n",
       "\n",
       "    .dataframe tbody tr th {\n",
       "        vertical-align: top;\n",
       "    }\n",
       "\n",
       "    .dataframe thead th {\n",
       "        text-align: right;\n",
       "    }\n",
       "</style>\n",
       "<table border=\"1\" class=\"dataframe\">\n",
       "  <thead>\n",
       "    <tr style=\"text-align: right;\">\n",
       "      <th></th>\n",
       "      <th>Venue</th>\n",
       "      <th>Venue Count Likes</th>\n",
       "    </tr>\n",
       "  </thead>\n",
       "  <tbody>\n",
       "    <tr>\n",
       "      <th>0</th>\n",
       "      <td>Toronto Pearson International Airport (YYZ) (T...</td>\n",
       "      <td>4177</td>\n",
       "    </tr>\n",
       "    <tr>\n",
       "      <th>1</th>\n",
       "      <td>Rogers Centre</td>\n",
       "      <td>2220</td>\n",
       "    </tr>\n",
       "    <tr>\n",
       "      <th>2</th>\n",
       "      <td>Scotiabank Arena</td>\n",
       "      <td>2203</td>\n",
       "    </tr>\n",
       "    <tr>\n",
       "      <th>3</th>\n",
       "      <td>CN Tower</td>\n",
       "      <td>2007</td>\n",
       "    </tr>\n",
       "    <tr>\n",
       "      <th>4</th>\n",
       "      <td>Yorkdale Shopping Centre</td>\n",
       "      <td>1545</td>\n",
       "    </tr>\n",
       "    <tr>\n",
       "      <th>5</th>\n",
       "      <td>Royal Ontario Museum</td>\n",
       "      <td>1497</td>\n",
       "    </tr>\n",
       "    <tr>\n",
       "      <th>6</th>\n",
       "      <td>Ripley's Aquarium of Canada</td>\n",
       "      <td>1443</td>\n",
       "    </tr>\n",
       "    <tr>\n",
       "      <th>7</th>\n",
       "      <td>Art Gallery of Ontario</td>\n",
       "      <td>1317</td>\n",
       "    </tr>\n",
       "    <tr>\n",
       "      <th>8</th>\n",
       "      <td>St. Lawrence Market (South Building)</td>\n",
       "      <td>1269</td>\n",
       "    </tr>\n",
       "    <tr>\n",
       "      <th>9</th>\n",
       "      <td>Yonge-Dundas Square</td>\n",
       "      <td>823</td>\n",
       "    </tr>\n",
       "  </tbody>\n",
       "</table>\n",
       "</div>"
      ],
      "text/plain": [
       "                                               Venue  Venue Count Likes\n",
       "0  Toronto Pearson International Airport (YYZ) (T...               4177\n",
       "1                                      Rogers Centre               2220\n",
       "2                                   Scotiabank Arena               2203\n",
       "3                                           CN Tower               2007\n",
       "4                           Yorkdale Shopping Centre               1545\n",
       "5                               Royal Ontario Museum               1497\n",
       "6                        Ripley's Aquarium of Canada               1443\n",
       "7                             Art Gallery of Ontario               1317\n",
       "8               St. Lawrence Market (South Building)               1269\n",
       "9                                Yonge-Dundas Square                823"
      ]
     },
     "execution_count": 20,
     "metadata": {},
     "output_type": "execute_result"
    }
   ],
   "source": [
    "# Creating plot \n",
    "fig3 = plt.figure(figsize =(10, 7))\n",
    "car3=to_sorted_per_venue[:10]\n",
    "plt.pie(car3[\"Venue Count Likes\"], labels =car3[\"Venue\"]) \n",
    "  \n",
    "# show plot \n",
    "plt.show() \n",
    "to_sorted_per_venue.head(10)"
   ]
  },
  {
   "cell_type": "markdown",
   "metadata": {},
   "source": [
    "#### 6.2.2. Top 10 - Neighborhoods preferred per tourists"
   ]
  },
  {
   "cell_type": "code",
   "execution_count": 22,
   "metadata": {},
   "outputs": [
    {
     "data": {
      "text/html": [
       "<div>\n",
       "<style scoped>\n",
       "    .dataframe tbody tr th:only-of-type {\n",
       "        vertical-align: middle;\n",
       "    }\n",
       "\n",
       "    .dataframe tbody tr th {\n",
       "        vertical-align: top;\n",
       "    }\n",
       "\n",
       "    .dataframe thead th {\n",
       "        text-align: right;\n",
       "    }\n",
       "</style>\n",
       "<table border=\"1\" class=\"dataframe\">\n",
       "  <thead>\n",
       "    <tr style=\"text-align: right;\">\n",
       "      <th></th>\n",
       "      <th>Neighborhood</th>\n",
       "      <th>Venue Count Likes</th>\n",
       "    </tr>\n",
       "  </thead>\n",
       "  <tbody>\n",
       "    <tr>\n",
       "      <th>0</th>\n",
       "      <td>Regent Park, Harbourfront</td>\n",
       "      <td>25662</td>\n",
       "    </tr>\n",
       "    <tr>\n",
       "      <th>1</th>\n",
       "      <td>Northwest, West Humber - Clairville</td>\n",
       "      <td>5194</td>\n",
       "    </tr>\n",
       "    <tr>\n",
       "      <th>2</th>\n",
       "      <td>Queen's Park, Ontario Provincial Government</td>\n",
       "      <td>5079</td>\n",
       "    </tr>\n",
       "    <tr>\n",
       "      <th>3</th>\n",
       "      <td>Lawrence Manor, Lawrence Heights</td>\n",
       "      <td>4608</td>\n",
       "    </tr>\n",
       "    <tr>\n",
       "      <th>4</th>\n",
       "      <td>Woodbine Heights</td>\n",
       "      <td>4452</td>\n",
       "    </tr>\n",
       "  </tbody>\n",
       "</table>\n",
       "</div>"
      ],
      "text/plain": [
       "                                  Neighborhood  Venue Count Likes\n",
       "0                    Regent Park, Harbourfront              25662\n",
       "1          Northwest, West Humber - Clairville               5194\n",
       "2  Queen's Park, Ontario Provincial Government               5079\n",
       "3             Lawrence Manor, Lawrence Heights               4608\n",
       "4                             Woodbine Heights               4452"
      ]
     },
     "execution_count": 22,
     "metadata": {},
     "output_type": "execute_result"
    }
   ],
   "source": [
    "to_sorted_per_neighborhood0=toronto_df_final\n",
    "to_sorted_per_neighborhood0.drop([\"Neighborhood Latitude\",\"Neighborhood Longitude\",\"Venue Id\",\"Venue\",\"Venue Latitude\",\"Venue Longitude\",\"Venue Category\",\"Venue Summary Likes\",\"Main_Category\"],axis=1,inplace=True)\n",
    "to_sorted_per_neighborhood1=to_sorted_per_neighborhood0.groupby( ['Neighborhood'], as_index=False).agg({'Venue Count Likes':sum})\n",
    "to_sorted_per_neighborhood=to_sorted_per_neighborhood1.sort_values(by=['Venue Count Likes'],ascending=False).reset_index()\n",
    "to_sorted_per_neighborhood.drop([\"index\"],axis=1,inplace=True)\n",
    "to_sorted_per_neighborhood.head()"
   ]
  },
  {
   "cell_type": "code",
   "execution_count": 24,
   "metadata": {},
   "outputs": [
    {
     "data": {
      "image/png": "[encoded data removed]",
      "text/plain": [
       "<Figure size 720x504 with 1 Axes>"
      ]
     },
     "metadata": {},
     "output_type": "display_data"
    },
    {
     "data": {
      "text/html": [
       "<div>\n",
       "<style scoped>\n",
       "    .dataframe tbody tr th:only-of-type {\n",
       "        vertical-align: middle;\n",
       "    }\n",
       "\n",
       "    .dataframe tbody tr th {\n",
       "        vertical-align: top;\n",
       "    }\n",
       "\n",
       "    .dataframe thead th {\n",
       "        text-align: right;\n",
       "    }\n",
       "</style>\n",
       "<table border=\"1\" class=\"dataframe\">\n",
       "  <thead>\n",
       "    <tr style=\"text-align: right;\">\n",
       "      <th></th>\n",
       "      <th>Neighborhood</th>\n",
       "      <th>Venue Count Likes</th>\n",
       "    </tr>\n",
       "  </thead>\n",
       "  <tbody>\n",
       "    <tr>\n",
       "      <th>0</th>\n",
       "      <td>Regent Park, Harbourfront</td>\n",
       "      <td>25662</td>\n",
       "    </tr>\n",
       "    <tr>\n",
       "      <th>1</th>\n",
       "      <td>Northwest, West Humber - Clairville</td>\n",
       "      <td>5194</td>\n",
       "    </tr>\n",
       "    <tr>\n",
       "      <th>2</th>\n",
       "      <td>Queen's Park, Ontario Provincial Government</td>\n",
       "      <td>5079</td>\n",
       "    </tr>\n",
       "    <tr>\n",
       "      <th>3</th>\n",
       "      <td>Lawrence Manor, Lawrence Heights</td>\n",
       "      <td>4608</td>\n",
       "    </tr>\n",
       "    <tr>\n",
       "      <th>4</th>\n",
       "      <td>Woodbine Heights</td>\n",
       "      <td>4452</td>\n",
       "    </tr>\n",
       "    <tr>\n",
       "      <th>5</th>\n",
       "      <td>Parkwoods</td>\n",
       "      <td>3911</td>\n",
       "    </tr>\n",
       "    <tr>\n",
       "      <th>6</th>\n",
       "      <td>Christie</td>\n",
       "      <td>2846</td>\n",
       "    </tr>\n",
       "    <tr>\n",
       "      <th>7</th>\n",
       "      <td>St. James Town</td>\n",
       "      <td>2258</td>\n",
       "    </tr>\n",
       "    <tr>\n",
       "      <th>8</th>\n",
       "      <td>Islington Avenue, Humber Valley Village</td>\n",
       "      <td>2096</td>\n",
       "    </tr>\n",
       "    <tr>\n",
       "      <th>9</th>\n",
       "      <td>Malvern, Rouge</td>\n",
       "      <td>2011</td>\n",
       "    </tr>\n",
       "  </tbody>\n",
       "</table>\n",
       "</div>"
      ],
      "text/plain": [
       "                                  Neighborhood  Venue Count Likes\n",
       "0                    Regent Park, Harbourfront              25662\n",
       "1          Northwest, West Humber - Clairville               5194\n",
       "2  Queen's Park, Ontario Provincial Government               5079\n",
       "3             Lawrence Manor, Lawrence Heights               4608\n",
       "4                             Woodbine Heights               4452\n",
       "5                                    Parkwoods               3911\n",
       "6                                     Christie               2846\n",
       "7                               St. James Town               2258\n",
       "8      Islington Avenue, Humber Valley Village               2096\n",
       "9                               Malvern, Rouge               2011"
      ]
     },
     "execution_count": 24,
     "metadata": {},
     "output_type": "execute_result"
    }
   ],
   "source": [
    "# Creating plot \n",
    "fig4 = plt.figure(figsize =(10, 7))\n",
    "car4=to_sorted_per_neighborhood[:10]\n",
    "plt.pie(car4[\"Venue Count Likes\"], labels =car4[\"Neighborhood\"]) \n",
    "  \n",
    "# show plot \n",
    "plt.show() \n",
    "to_sorted_per_neighborhood.head(10)"
   ]
  },
  {
   "cell_type": "markdown",
   "metadata": {},
   "source": [
    "### 6.3. Comparison between main categories"
   ]
  },
  {
   "cell_type": "code",
   "execution_count": 62,
   "metadata": {},
   "outputs": [],
   "source": [
    "cartagena_df_final=pd.read_csv('cartagena_df_final.csv')\n",
    "toronto_df_final=pd.read_csv('toronto_df_final.csv')\n",
    "cartagena_df_final.drop([\"Unnamed: 0\"],axis=1,inplace=True)\n",
    "toronto_df_final.drop([\"Unnamed: 0\"],axis=1,inplace=True)"
   ]
  },
  {
   "cell_type": "code",
   "execution_count": 69,
   "metadata": {},
   "outputs": [
    {
     "data": {
      "text/html": [
       "<div>\n",
       "<style scoped>\n",
       "    .dataframe tbody tr th:only-of-type {\n",
       "        vertical-align: middle;\n",
       "    }\n",
       "\n",
       "    .dataframe tbody tr th {\n",
       "        vertical-align: top;\n",
       "    }\n",
       "\n",
       "    .dataframe thead th {\n",
       "        text-align: right;\n",
       "    }\n",
       "</style>\n",
       "<table border=\"1\" class=\"dataframe\">\n",
       "  <thead>\n",
       "    <tr style=\"text-align: right;\">\n",
       "      <th></th>\n",
       "      <th>Main_Category</th>\n",
       "      <th>Cartagena</th>\n",
       "    </tr>\n",
       "  </thead>\n",
       "  <tbody>\n",
       "    <tr>\n",
       "      <th>0</th>\n",
       "      <td>Food</td>\n",
       "      <td>269</td>\n",
       "    </tr>\n",
       "    <tr>\n",
       "      <th>1</th>\n",
       "      <td>Shop &amp; Service</td>\n",
       "      <td>95</td>\n",
       "    </tr>\n",
       "    <tr>\n",
       "      <th>2</th>\n",
       "      <td>Travel &amp; Transport</td>\n",
       "      <td>91</td>\n",
       "    </tr>\n",
       "    <tr>\n",
       "      <th>3</th>\n",
       "      <td>Outdoors &amp; Recreation</td>\n",
       "      <td>65</td>\n",
       "    </tr>\n",
       "    <tr>\n",
       "      <th>4</th>\n",
       "      <td>Nightlife Spot</td>\n",
       "      <td>57</td>\n",
       "    </tr>\n",
       "    <tr>\n",
       "      <th>5</th>\n",
       "      <td>Arts &amp; Entertainment</td>\n",
       "      <td>43</td>\n",
       "    </tr>\n",
       "    <tr>\n",
       "      <th>6</th>\n",
       "      <td>Professional &amp; Other Places</td>\n",
       "      <td>5</td>\n",
       "    </tr>\n",
       "    <tr>\n",
       "      <th>7</th>\n",
       "      <td>Residence</td>\n",
       "      <td>1</td>\n",
       "    </tr>\n",
       "  </tbody>\n",
       "</table>\n",
       "</div>"
      ],
      "text/plain": [
       "                 Main_Category  Cartagena\n",
       "0                         Food        269\n",
       "1               Shop & Service         95\n",
       "2           Travel & Transport         91\n",
       "3        Outdoors & Recreation         65\n",
       "4               Nightlife Spot         57\n",
       "5         Arts & Entertainment         43\n",
       "6  Professional & Other Places          5\n",
       "7                    Residence          1"
      ]
     },
     "execution_count": 69,
     "metadata": {},
     "output_type": "execute_result"
    }
   ],
   "source": [
    "ca_categories0=cartagena_df_final\n",
    "ca_categories0.drop([\"Neighborhood\",\"Neighborhood Latitude\",\"Neighborhood Longitude\",\"Venue Id\",\"Venue\",\"Venue Latitude\",\"Venue Longitude\",\"Venue Category\",\"Venue Count Likes\",\"Venue Summary Likes\"],axis=1,inplace=True)\n",
    "ca_categories0[\"Count Categories\"]=1\n",
    "ca_categories0['Count Categories']=ca_categories0['Count Categories'].astype(int)\n",
    "ca_categories1=ca_categories0.groupby( ['Main_Category'], as_index=False).agg({'Count Categories':sum})\n",
    "ca_categories=ca_categories1.sort_values(by=['Count Categories'],ascending=False).reset_index()\n",
    "ca_categories.drop([\"index\"],axis=1,inplace=True)\n",
    "#ca_categories=ca_categories.set_index([\"Main_Category\"])\n",
    "ca_categories.rename(columns = {'Count Categories':'Cartagena'}, inplace = True)\n",
    "ca_categories"
   ]
  },
  {
   "cell_type": "code",
   "execution_count": 70,
   "metadata": {},
   "outputs": [
    {
     "data": {
      "text/html": [
       "<div>\n",
       "<style scoped>\n",
       "    .dataframe tbody tr th:only-of-type {\n",
       "        vertical-align: middle;\n",
       "    }\n",
       "\n",
       "    .dataframe tbody tr th {\n",
       "        vertical-align: top;\n",
       "    }\n",
       "\n",
       "    .dataframe thead th {\n",
       "        text-align: right;\n",
       "    }\n",
       "</style>\n",
       "<table border=\"1\" class=\"dataframe\">\n",
       "  <thead>\n",
       "    <tr style=\"text-align: right;\">\n",
       "      <th></th>\n",
       "      <th>Main_Category</th>\n",
       "      <th>Toronto</th>\n",
       "    </tr>\n",
       "  </thead>\n",
       "  <tbody>\n",
       "    <tr>\n",
       "      <th>0</th>\n",
       "      <td>Food</td>\n",
       "      <td>821</td>\n",
       "    </tr>\n",
       "    <tr>\n",
       "      <th>1</th>\n",
       "      <td>Shop &amp; Service</td>\n",
       "      <td>237</td>\n",
       "    </tr>\n",
       "    <tr>\n",
       "      <th>2</th>\n",
       "      <td>Outdoors &amp; Recreation</td>\n",
       "      <td>194</td>\n",
       "    </tr>\n",
       "    <tr>\n",
       "      <th>3</th>\n",
       "      <td>Nightlife Spot</td>\n",
       "      <td>77</td>\n",
       "    </tr>\n",
       "    <tr>\n",
       "      <th>4</th>\n",
       "      <td>Arts &amp; Entertainment</td>\n",
       "      <td>61</td>\n",
       "    </tr>\n",
       "    <tr>\n",
       "      <th>5</th>\n",
       "      <td>Travel &amp; Transport</td>\n",
       "      <td>39</td>\n",
       "    </tr>\n",
       "    <tr>\n",
       "      <th>6</th>\n",
       "      <td>Professional &amp; Other Places</td>\n",
       "      <td>5</td>\n",
       "    </tr>\n",
       "    <tr>\n",
       "      <th>7</th>\n",
       "      <td>College &amp; University</td>\n",
       "      <td>1</td>\n",
       "    </tr>\n",
       "  </tbody>\n",
       "</table>\n",
       "</div>"
      ],
      "text/plain": [
       "                 Main_Category  Toronto\n",
       "0                         Food      821\n",
       "1               Shop & Service      237\n",
       "2        Outdoors & Recreation      194\n",
       "3               Nightlife Spot       77\n",
       "4         Arts & Entertainment       61\n",
       "5           Travel & Transport       39\n",
       "6  Professional & Other Places        5\n",
       "7         College & University        1"
      ]
     },
     "execution_count": 70,
     "metadata": {},
     "output_type": "execute_result"
    }
   ],
   "source": [
    "to_categories0=toronto_df_final\n",
    "to_categories0.drop([\"Neighborhood\",\"Neighborhood Latitude\",\"Neighborhood Longitude\",\"Venue Id\",\"Venue\",\"Venue Latitude\",\"Venue Longitude\",\"Venue Category\",\"Venue Count Likes\",\"Venue Summary Likes\"],axis=1,inplace=True)\n",
    "to_categories0[\"Count Categories\"]=1\n",
    "to_categories0['Count Categories']=to_categories0['Count Categories'].astype(int)\n",
    "to_categories1=to_categories0.groupby( ['Main_Category'], as_index=False).agg({'Count Categories':sum})\n",
    "to_categories=to_categories1.sort_values(by=['Count Categories'],ascending=False).reset_index()\n",
    "to_categories.drop([\"index\"],axis=1,inplace=True)\n",
    "#to_categories=to_categories.set_index([\"Main_Category\"])\n",
    "to_categories.rename(columns = {'Count Categories':'Toronto'}, inplace = True)\n",
    "to_categories"
   ]
  },
  {
   "cell_type": "code",
   "execution_count": 73,
   "metadata": {},
   "outputs": [
    {
     "data": {
      "text/html": [
       "<div>\n",
       "<style scoped>\n",
       "    .dataframe tbody tr th:only-of-type {\n",
       "        vertical-align: middle;\n",
       "    }\n",
       "\n",
       "    .dataframe tbody tr th {\n",
       "        vertical-align: top;\n",
       "    }\n",
       "\n",
       "    .dataframe thead th {\n",
       "        text-align: right;\n",
       "    }\n",
       "</style>\n",
       "<table border=\"1\" class=\"dataframe\">\n",
       "  <thead>\n",
       "    <tr style=\"text-align: right;\">\n",
       "      <th></th>\n",
       "      <th>Main_Category</th>\n",
       "      <th>Cartagena</th>\n",
       "      <th>Toronto</th>\n",
       "    </tr>\n",
       "  </thead>\n",
       "  <tbody>\n",
       "    <tr>\n",
       "      <th>0</th>\n",
       "      <td>Food</td>\n",
       "      <td>269</td>\n",
       "      <td>821</td>\n",
       "    </tr>\n",
       "    <tr>\n",
       "      <th>1</th>\n",
       "      <td>Shop &amp; Service</td>\n",
       "      <td>95</td>\n",
       "      <td>237</td>\n",
       "    </tr>\n",
       "    <tr>\n",
       "      <th>2</th>\n",
       "      <td>Travel &amp; Transport</td>\n",
       "      <td>91</td>\n",
       "      <td>39</td>\n",
       "    </tr>\n",
       "    <tr>\n",
       "      <th>3</th>\n",
       "      <td>Outdoors &amp; Recreation</td>\n",
       "      <td>65</td>\n",
       "      <td>194</td>\n",
       "    </tr>\n",
       "    <tr>\n",
       "      <th>4</th>\n",
       "      <td>Nightlife Spot</td>\n",
       "      <td>57</td>\n",
       "      <td>77</td>\n",
       "    </tr>\n",
       "    <tr>\n",
       "      <th>5</th>\n",
       "      <td>Arts &amp; Entertainment</td>\n",
       "      <td>43</td>\n",
       "      <td>61</td>\n",
       "    </tr>\n",
       "    <tr>\n",
       "      <th>6</th>\n",
       "      <td>Professional &amp; Other Places</td>\n",
       "      <td>5</td>\n",
       "      <td>5</td>\n",
       "    </tr>\n",
       "  </tbody>\n",
       "</table>\n",
       "</div>"
      ],
      "text/plain": [
       "                 Main_Category  Cartagena  Toronto\n",
       "0                         Food        269      821\n",
       "1               Shop & Service         95      237\n",
       "2           Travel & Transport         91       39\n",
       "3        Outdoors & Recreation         65      194\n",
       "4               Nightlife Spot         57       77\n",
       "5         Arts & Entertainment         43       61\n",
       "6  Professional & Other Places          5        5"
      ]
     },
     "execution_count": 73,
     "metadata": {},
     "output_type": "execute_result"
    }
   ],
   "source": [
    "comp_categories_inner=pd.merge(ca_categories, to_categories, on = \"Main_Category\", how = \"inner\") \n",
    "comp_categories_inner"
   ]
  },
  {
   "cell_type": "code",
   "execution_count": 75,
   "metadata": {},
   "outputs": [
    {
     "data": {
      "text/html": [
       "<div>\n",
       "<style scoped>\n",
       "    .dataframe tbody tr th:only-of-type {\n",
       "        vertical-align: middle;\n",
       "    }\n",
       "\n",
       "    .dataframe tbody tr th {\n",
       "        vertical-align: top;\n",
       "    }\n",
       "\n",
       "    .dataframe thead th {\n",
       "        text-align: right;\n",
       "    }\n",
       "</style>\n",
       "<table border=\"1\" class=\"dataframe\">\n",
       "  <thead>\n",
       "    <tr style=\"text-align: right;\">\n",
       "      <th></th>\n",
       "      <th>Cartagena</th>\n",
       "      <th>Toronto</th>\n",
       "    </tr>\n",
       "    <tr>\n",
       "      <th>Main_Category</th>\n",
       "      <th></th>\n",
       "      <th></th>\n",
       "    </tr>\n",
       "  </thead>\n",
       "  <tbody>\n",
       "    <tr>\n",
       "      <th>Food</th>\n",
       "      <td>269</td>\n",
       "      <td>821</td>\n",
       "    </tr>\n",
       "    <tr>\n",
       "      <th>Shop &amp; Service</th>\n",
       "      <td>95</td>\n",
       "      <td>237</td>\n",
       "    </tr>\n",
       "    <tr>\n",
       "      <th>Travel &amp; Transport</th>\n",
       "      <td>91</td>\n",
       "      <td>39</td>\n",
       "    </tr>\n",
       "    <tr>\n",
       "      <th>Outdoors &amp; Recreation</th>\n",
       "      <td>65</td>\n",
       "      <td>194</td>\n",
       "    </tr>\n",
       "    <tr>\n",
       "      <th>Nightlife Spot</th>\n",
       "      <td>57</td>\n",
       "      <td>77</td>\n",
       "    </tr>\n",
       "    <tr>\n",
       "      <th>Arts &amp; Entertainment</th>\n",
       "      <td>43</td>\n",
       "      <td>61</td>\n",
       "    </tr>\n",
       "    <tr>\n",
       "      <th>Professional &amp; Other Places</th>\n",
       "      <td>5</td>\n",
       "      <td>5</td>\n",
       "    </tr>\n",
       "  </tbody>\n",
       "</table>\n",
       "</div>"
      ],
      "text/plain": [
       "                             Cartagena  Toronto\n",
       "Main_Category                                  \n",
       "Food                               269      821\n",
       "Shop & Service                      95      237\n",
       "Travel & Transport                  91       39\n",
       "Outdoors & Recreation               65      194\n",
       "Nightlife Spot                      57       77\n",
       "Arts & Entertainment                43       61\n",
       "Professional & Other Places          5        5"
      ]
     },
     "execution_count": 75,
     "metadata": {},
     "output_type": "execute_result"
    }
   ],
   "source": [
    "comp_categories_final=comp_categories_inner.set_index([\"Main_Category\"])\n",
    "comp_categories_final"
   ]
  },
  {
   "cell_type": "code",
   "execution_count": 76,
   "metadata": {},
   "outputs": [
    {
     "data": {
      "image/png": "[encoded data removed]",
      "text/plain": [
       "<Figure size 1008x288 with 1 Axes>"
      ]
     },
     "metadata": {
      "needs_background": "light"
     },
     "output_type": "display_data"
    },
    {
     "data": {
      "text/html": [
       "<div>\n",
       "<style scoped>\n",
       "    .dataframe tbody tr th:only-of-type {\n",
       "        vertical-align: middle;\n",
       "    }\n",
       "\n",
       "    .dataframe tbody tr th {\n",
       "        vertical-align: top;\n",
       "    }\n",
       "\n",
       "    .dataframe thead th {\n",
       "        text-align: right;\n",
       "    }\n",
       "</style>\n",
       "<table border=\"1\" class=\"dataframe\">\n",
       "  <thead>\n",
       "    <tr style=\"text-align: right;\">\n",
       "      <th></th>\n",
       "      <th>Cartagena</th>\n",
       "      <th>Toronto</th>\n",
       "    </tr>\n",
       "    <tr>\n",
       "      <th>Main_Category</th>\n",
       "      <th></th>\n",
       "      <th></th>\n",
       "    </tr>\n",
       "  </thead>\n",
       "  <tbody>\n",
       "    <tr>\n",
       "      <th>Food</th>\n",
       "      <td>269</td>\n",
       "      <td>821</td>\n",
       "    </tr>\n",
       "    <tr>\n",
       "      <th>Shop &amp; Service</th>\n",
       "      <td>95</td>\n",
       "      <td>237</td>\n",
       "    </tr>\n",
       "    <tr>\n",
       "      <th>Travel &amp; Transport</th>\n",
       "      <td>91</td>\n",
       "      <td>39</td>\n",
       "    </tr>\n",
       "    <tr>\n",
       "      <th>Outdoors &amp; Recreation</th>\n",
       "      <td>65</td>\n",
       "      <td>194</td>\n",
       "    </tr>\n",
       "    <tr>\n",
       "      <th>Nightlife Spot</th>\n",
       "      <td>57</td>\n",
       "      <td>77</td>\n",
       "    </tr>\n",
       "    <tr>\n",
       "      <th>Arts &amp; Entertainment</th>\n",
       "      <td>43</td>\n",
       "      <td>61</td>\n",
       "    </tr>\n",
       "    <tr>\n",
       "      <th>Professional &amp; Other Places</th>\n",
       "      <td>5</td>\n",
       "      <td>5</td>\n",
       "    </tr>\n",
       "  </tbody>\n",
       "</table>\n",
       "</div>"
      ],
      "text/plain": [
       "                             Cartagena  Toronto\n",
       "Main_Category                                  \n",
       "Food                               269      821\n",
       "Shop & Service                      95      237\n",
       "Travel & Transport                  91       39\n",
       "Outdoors & Recreation               65      194\n",
       "Nightlife Spot                      57       77\n",
       "Arts & Entertainment                43       61\n",
       "Professional & Other Places          5        5"
      ]
     },
     "execution_count": 76,
     "metadata": {},
     "output_type": "execute_result"
    }
   ],
   "source": [
    "d_ca_fi = comp_categories_final\n",
    "f_ca_fi = plt.figure()\n",
    "plt.title('Main Categories', color='black')\n",
    "d_ca_fi.plot(kind='bar', ax=f_ca_fi.gca(),figsize=(14,4))\n",
    "plt.legend(loc='center left', bbox_to_anchor=(1.0, 0.5))\n",
    "plt.show()\n",
    "comp_categories_final"
   ]
  },
  {
   "cell_type": "markdown",
   "metadata": {},
   "source": [
    "### 6.4. Comparison between venues"
   ]
  },
  {
   "cell_type": "code",
   "execution_count": 7,
   "metadata": {},
   "outputs": [],
   "source": [
    "ca_comp=pd.read_csv('cartagena_df_final.csv')\n",
    "to_comp=pd.read_csv('toronto_df_final.csv')\n",
    "ca_comp.drop([\"Unnamed: 0\"],axis=1,inplace=True)\n",
    "to_comp.drop([\"Unnamed: 0\"],axis=1,inplace=True)"
   ]
  },
  {
   "cell_type": "code",
   "execution_count": null,
   "metadata": {},
   "outputs": [],
   "source": [
    "to_comp.drop([\"Neighborhood\",\"Neighborhood Latitude\",\"Neighborhood Longitude\",\"Venue Id\",\"Venue\",\"Venue Latitude\",\"Venue Longitude\",\"Venue Count Likes\",\"Venue Summary Likes\",\"Main_Category\"],axis=1,inplace=True)\n",
    "ca_comp.drop([\"Neighborhood\",\"Neighborhood Latitude\",\"Neighborhood Longitude\",\"Venue Id\",\"Venue\",\"Venue Latitude\",\"Venue Longitude\",\"Venue Count Likes\",\"Venue Summary Likes\",\"Main_Category\"],axis=1,inplace=True)"
   ]
  },
  {
   "cell_type": "code",
   "execution_count": null,
   "metadata": {},
   "outputs": [],
   "source": [
    "ca_comp1 = ca_comp.drop_duplicates(subset=['Venue Category'],keep='first')\n",
    "to_comp1 = to_comp.drop_duplicates(subset=['Venue Category'],keep='first')"
   ]
  },
  {
   "cell_type": "markdown",
   "metadata": {},
   "source": [
    "#### 6.4.1. Common venues between Cartagena and Toronto"
   ]
  },
  {
   "cell_type": "code",
   "execution_count": 23,
   "metadata": {},
   "outputs": [
    {
     "data": {
      "text/plain": [
       "(108, 1)"
      ]
     },
     "execution_count": 23,
     "metadata": {},
     "output_type": "execute_result"
    }
   ],
   "source": [
    "comp_final = to_comp1.merge(ca_comp1, how = 'inner' ,indicator=False)\n",
    "comp_final.shape"
   ]
  },
  {
   "cell_type": "code",
   "execution_count": 33,
   "metadata": {},
   "outputs": [
    {
     "data": {
      "text/html": [
       "<div>\n",
       "<style scoped>\n",
       "    .dataframe tbody tr th:only-of-type {\n",
       "        vertical-align: middle;\n",
       "    }\n",
       "\n",
       "    .dataframe tbody tr th {\n",
       "        vertical-align: top;\n",
       "    }\n",
       "\n",
       "    .dataframe thead th {\n",
       "        text-align: right;\n",
       "    }\n",
       "</style>\n",
       "<table border=\"1\" class=\"dataframe\">\n",
       "  <thead>\n",
       "    <tr style=\"text-align: right;\">\n",
       "      <th></th>\n",
       "      <th>Venue Category</th>\n",
       "    </tr>\n",
       "  </thead>\n",
       "  <tbody>\n",
       "    <tr>\n",
       "      <th>0</th>\n",
       "      <td>Caribbean Restaurant</td>\n",
       "    </tr>\n",
       "    <tr>\n",
       "      <th>1</th>\n",
       "      <td>Liquor Store</td>\n",
       "    </tr>\n",
       "    <tr>\n",
       "      <th>2</th>\n",
       "      <td>Middle Eastern Restaurant</td>\n",
       "    </tr>\n",
       "    <tr>\n",
       "      <th>3</th>\n",
       "      <td>Grocery Store</td>\n",
       "    </tr>\n",
       "    <tr>\n",
       "      <th>4</th>\n",
       "      <td>Supermarket</td>\n",
       "    </tr>\n",
       "    <tr>\n",
       "      <th>5</th>\n",
       "      <td>Café</td>\n",
       "    </tr>\n",
       "    <tr>\n",
       "      <th>6</th>\n",
       "      <td>Sushi Restaurant</td>\n",
       "    </tr>\n",
       "    <tr>\n",
       "      <th>7</th>\n",
       "      <td>Thai Restaurant</td>\n",
       "    </tr>\n",
       "    <tr>\n",
       "      <th>8</th>\n",
       "      <td>Mediterranean Restaurant</td>\n",
       "    </tr>\n",
       "    <tr>\n",
       "      <th>9</th>\n",
       "      <td>Burger Joint</td>\n",
       "    </tr>\n",
       "  </tbody>\n",
       "</table>\n",
       "</div>"
      ],
      "text/plain": [
       "              Venue Category\n",
       "0       Caribbean Restaurant\n",
       "1               Liquor Store\n",
       "2  Middle Eastern Restaurant\n",
       "3              Grocery Store\n",
       "4                Supermarket\n",
       "5                       Café\n",
       "6           Sushi Restaurant\n",
       "7            Thai Restaurant\n",
       "8   Mediterranean Restaurant\n",
       "9               Burger Joint"
      ]
     },
     "execution_count": 33,
     "metadata": {},
     "output_type": "execute_result"
    }
   ],
   "source": [
    "comp_final.head(10)"
   ]
  },
  {
   "cell_type": "markdown",
   "metadata": {},
   "source": [
    "#### 6.4.2. Venues in Toronto which are not available in Cartagena"
   ]
  },
  {
   "cell_type": "code",
   "execution_count": 28,
   "metadata": {},
   "outputs": [
    {
     "data": {
      "text/plain": [
       "(131, 2)"
      ]
     },
     "execution_count": 28,
     "metadata": {},
     "output_type": "execute_result"
    }
   ],
   "source": [
    "comp2 = to_comp1.merge(ca_comp1, how = 'outer' ,indicator=True).loc[lambda x : x['_merge']=='left_only']\n",
    "comp2.shape"
   ]
  },
  {
   "cell_type": "code",
   "execution_count": 32,
   "metadata": {},
   "outputs": [
    {
     "data": {
      "text/html": [
       "<div>\n",
       "<style scoped>\n",
       "    .dataframe tbody tr th:only-of-type {\n",
       "        vertical-align: middle;\n",
       "    }\n",
       "\n",
       "    .dataframe tbody tr th {\n",
       "        vertical-align: top;\n",
       "    }\n",
       "\n",
       "    .dataframe thead th {\n",
       "        text-align: right;\n",
       "    }\n",
       "</style>\n",
       "<table border=\"1\" class=\"dataframe\">\n",
       "  <thead>\n",
       "    <tr style=\"text-align: right;\">\n",
       "      <th></th>\n",
       "      <th>Venue Category</th>\n",
       "      <th>_merge</th>\n",
       "    </tr>\n",
       "  </thead>\n",
       "  <tbody>\n",
       "    <tr>\n",
       "      <th>2</th>\n",
       "      <td>Greek Restaurant</td>\n",
       "      <td>left_only</td>\n",
       "    </tr>\n",
       "    <tr>\n",
       "      <th>5</th>\n",
       "      <td>Vietnamese Restaurant</td>\n",
       "      <td>left_only</td>\n",
       "    </tr>\n",
       "    <tr>\n",
       "      <th>6</th>\n",
       "      <td>Falafel Restaurant</td>\n",
       "      <td>left_only</td>\n",
       "    </tr>\n",
       "    <tr>\n",
       "      <th>9</th>\n",
       "      <td>Discount Store</td>\n",
       "      <td>left_only</td>\n",
       "    </tr>\n",
       "    <tr>\n",
       "      <th>15</th>\n",
       "      <td>Event Space</td>\n",
       "      <td>left_only</td>\n",
       "    </tr>\n",
       "    <tr>\n",
       "      <th>16</th>\n",
       "      <td>Golf Course</td>\n",
       "      <td>left_only</td>\n",
       "    </tr>\n",
       "    <tr>\n",
       "      <th>19</th>\n",
       "      <td>Burrito Place</td>\n",
       "      <td>left_only</td>\n",
       "    </tr>\n",
       "    <tr>\n",
       "      <th>20</th>\n",
       "      <td>Fish Market</td>\n",
       "      <td>left_only</td>\n",
       "    </tr>\n",
       "    <tr>\n",
       "      <th>23</th>\n",
       "      <td>Korean Restaurant</td>\n",
       "      <td>left_only</td>\n",
       "    </tr>\n",
       "    <tr>\n",
       "      <th>25</th>\n",
       "      <td>Health &amp; Beauty Service</td>\n",
       "      <td>left_only</td>\n",
       "    </tr>\n",
       "  </tbody>\n",
       "</table>\n",
       "</div>"
      ],
      "text/plain": [
       "             Venue Category     _merge\n",
       "2          Greek Restaurant  left_only\n",
       "5     Vietnamese Restaurant  left_only\n",
       "6        Falafel Restaurant  left_only\n",
       "9            Discount Store  left_only\n",
       "15              Event Space  left_only\n",
       "16              Golf Course  left_only\n",
       "19            Burrito Place  left_only\n",
       "20              Fish Market  left_only\n",
       "23        Korean Restaurant  left_only\n",
       "25  Health & Beauty Service  left_only"
      ]
     },
     "execution_count": 32,
     "metadata": {},
     "output_type": "execute_result"
    }
   ],
   "source": [
    "comp2.head(10)"
   ]
  },
  {
   "cell_type": "code",
   "execution_count": null,
   "metadata": {},
   "outputs": [],
   "source": []
  },
  {
   "cell_type": "markdown",
   "metadata": {},
   "source": [
    "#### 6.4.3. Venues in Cartagena which are not available in Toronto"
   ]
  },
  {
   "cell_type": "code",
   "execution_count": 30,
   "metadata": {},
   "outputs": [
    {
     "data": {
      "text/plain": [
       "(56, 2)"
      ]
     },
     "execution_count": 30,
     "metadata": {},
     "output_type": "execute_result"
    }
   ],
   "source": [
    "comp3 = to_comp1.merge(ca_comp1, how = 'outer' ,indicator=True).loc[lambda x : x['_merge']=='right_only']\n",
    "comp3.shape"
   ]
  },
  {
   "cell_type": "code",
   "execution_count": 31,
   "metadata": {},
   "outputs": [
    {
     "data": {
      "text/html": [
       "<div>\n",
       "<style scoped>\n",
       "    .dataframe tbody tr th:only-of-type {\n",
       "        vertical-align: middle;\n",
       "    }\n",
       "\n",
       "    .dataframe tbody tr th {\n",
       "        vertical-align: top;\n",
       "    }\n",
       "\n",
       "    .dataframe thead th {\n",
       "        text-align: right;\n",
       "    }\n",
       "</style>\n",
       "<table border=\"1\" class=\"dataframe\">\n",
       "  <thead>\n",
       "    <tr style=\"text-align: right;\">\n",
       "      <th></th>\n",
       "      <th>Venue Category</th>\n",
       "      <th>_merge</th>\n",
       "    </tr>\n",
       "  </thead>\n",
       "  <tbody>\n",
       "    <tr>\n",
       "      <th>239</th>\n",
       "      <td>Doctor's Office</td>\n",
       "      <td>right_only</td>\n",
       "    </tr>\n",
       "    <tr>\n",
       "      <th>240</th>\n",
       "      <td>Bus Stop</td>\n",
       "      <td>right_only</td>\n",
       "    </tr>\n",
       "    <tr>\n",
       "      <th>241</th>\n",
       "      <td>Recording Studio</td>\n",
       "      <td>right_only</td>\n",
       "    </tr>\n",
       "    <tr>\n",
       "      <th>242</th>\n",
       "      <td>Moving Target</td>\n",
       "      <td>right_only</td>\n",
       "    </tr>\n",
       "    <tr>\n",
       "      <th>243</th>\n",
       "      <td>Motel</td>\n",
       "      <td>right_only</td>\n",
       "    </tr>\n",
       "    <tr>\n",
       "      <th>244</th>\n",
       "      <td>Pier</td>\n",
       "      <td>right_only</td>\n",
       "    </tr>\n",
       "    <tr>\n",
       "      <th>245</th>\n",
       "      <td>Baseball Field</td>\n",
       "      <td>right_only</td>\n",
       "    </tr>\n",
       "    <tr>\n",
       "      <th>246</th>\n",
       "      <td>Boat or Ferry</td>\n",
       "      <td>right_only</td>\n",
       "    </tr>\n",
       "    <tr>\n",
       "      <th>247</th>\n",
       "      <td>Beer Garden</td>\n",
       "      <td>right_only</td>\n",
       "    </tr>\n",
       "    <tr>\n",
       "      <th>248</th>\n",
       "      <td>Home Service</td>\n",
       "      <td>right_only</td>\n",
       "    </tr>\n",
       "  </tbody>\n",
       "</table>\n",
       "</div>"
      ],
      "text/plain": [
       "       Venue Category      _merge\n",
       "239   Doctor's Office  right_only\n",
       "240          Bus Stop  right_only\n",
       "241  Recording Studio  right_only\n",
       "242     Moving Target  right_only\n",
       "243             Motel  right_only\n",
       "244              Pier  right_only\n",
       "245    Baseball Field  right_only\n",
       "246     Boat or Ferry  right_only\n",
       "247       Beer Garden  right_only\n",
       "248      Home Service  right_only"
      ]
     },
     "execution_count": 31,
     "metadata": {},
     "output_type": "execute_result"
    }
   ],
   "source": [
    "comp3.head(10)"
   ]
  },
  {
   "cell_type": "code",
   "execution_count": 52,
   "metadata": {},
   "outputs": [],
   "source": [
    "comp_plot = pd.DataFrame(\n",
    "    {'Differences and Similarities':[108, 131, 56]}, \n",
    "    index=['Similarities', 'Unique Venues in Toronto', 'Unique Venues in Cartagena'])"
   ]
  },
  {
   "cell_type": "code",
   "execution_count": 61,
   "metadata": {},
   "outputs": [
    {
     "data": {
      "image/png": "[encoded data removed]",
      "text/plain": [
       "<Figure size 720x288 with 1 Axes>"
      ]
     },
     "metadata": {
      "needs_background": "light"
     },
     "output_type": "display_data"
    }
   ],
   "source": [
    "ax = comp_plot['Differences and Similarities'].plot(kind='bar', figsize=(10,4),\n",
    "                                                  color=\"blue\");#, fontsize=13);\n",
    "#ax.set_alpha(0.8)\n",
    "ax.set_title(\"Comparison between Cartagena and Toronto\")#, fontsize=18)\n",
    "ax.set_ylabel(\"Number of Venues\");#, fontsize=18);\n",
    "ax.set_yticks([50,100,150])\n",
    "\n",
    "# find the values and append to list\n",
    "for i in ax.patches:\n",
    "    totals.append(i.get_height())\n",
    "\n",
    "# set individual bar lables using above list\n",
    "for i in ax.patches:\n",
    "    # get_x pulls left or right; get_height pushes up or down\n",
    "    ax.text(i.get_x()+.18, i.get_height()-10, \\\n",
    "            str(round((i.get_height()))), fontsize=14,color='white')"
   ]
  },
  {
   "cell_type": "markdown",
   "metadata": {},
   "source": [
    "## 7. Monthly weather averages"
   ]
  },
  {
   "cell_type": "code",
   "execution_count": 12,
   "metadata": {},
   "outputs": [],
   "source": [
    "res  = requests.get(\"https://www.weather2visit.com/south-america/colombia/cartagena.htm\")\n",
    "soup = BeautifulSoup(res.content,'lxml')\n",
    "\n",
    "table= soup.find_all('table')[0] \n",
    "df_c0   = pd.read_html(str(table))\n",
    "df_c0   = pd.DataFrame(df_c0[0])\n",
    "\n",
    "table= soup.find_all('table')[1] \n",
    "df_c1   = pd.read_html(str(table))\n",
    "df_c1   = pd.DataFrame(df_c1[0])\n",
    "\n",
    "table= soup.find_all('table')[2] \n",
    "df_c2   = pd.read_html(str(table))\n",
    "df_c2   = pd.DataFrame(df_c2[0])\n",
    "\n",
    "table= soup.find_all('table')[3] \n",
    "df_c3   = pd.read_html(str(table))\n",
    "df_c3   = pd.DataFrame(df_c3[0])\n",
    "\n",
    "table= soup.find_all('table')[4] \n",
    "df_c4   = pd.read_html(str(table))\n",
    "df_c4   = pd.DataFrame(df_c4[0])\n",
    "\n",
    "table= soup.find_all('table')[5] \n",
    "df_c5   = pd.read_html(str(table))\n",
    "df_c5   = pd.DataFrame(df_c5[0])\n",
    "\n",
    "table= soup.find_all('table')[6] \n",
    "df_c6   = pd.read_html(str(table))\n",
    "df_c6   = pd.DataFrame(df_c6[0])"
   ]
  },
  {
   "cell_type": "code",
   "execution_count": 13,
   "metadata": {},
   "outputs": [],
   "source": [
    "res  = requests.get(\"https://www.weather2visit.com/north-america/canada/toronto.htm\")\n",
    "soup = BeautifulSoup(res.content,'lxml')\n",
    "\n",
    "table= soup.find_all('table')[0] \n",
    "df_t0   = pd.read_html(str(table))\n",
    "df_t0   = pd.DataFrame(df_t0[0])\n",
    "\n",
    "table= soup.find_all('table')[1] \n",
    "df_t1   = pd.read_html(str(table))\n",
    "df_t1   = pd.DataFrame(df_t1[0])\n",
    "\n",
    "table= soup.find_all('table')[2] \n",
    "df_t2   = pd.read_html(str(table))\n",
    "df_t2   = pd.DataFrame(df_t2[0])\n",
    "\n",
    "table= soup.find_all('table')[3] \n",
    "df_t3   = pd.read_html(str(table))\n",
    "df_t3   = pd.DataFrame(df_t3[0])\n",
    "\n",
    "table= soup.find_all('table')[4] \n",
    "df_t4   = pd.read_html(str(table))\n",
    "df_t4   = pd.DataFrame(df_t4[0])\n",
    "\n",
    "table= soup.find_all('table')[5] \n",
    "df_t5   = pd.read_html(str(table))\n",
    "df_t5   = pd.DataFrame(df_t5[0])\n",
    "\n",
    "table= soup.find_all('table')[6] \n",
    "df_t6   = pd.read_html(str(table))\n",
    "df_t6   = pd.DataFrame(df_t6[0])"
   ]
  },
  {
   "cell_type": "markdown",
   "metadata": {},
   "source": [
    "### 7.1. Average Day Temperature"
   ]
  },
  {
   "cell_type": "code",
   "execution_count": 75,
   "metadata": {},
   "outputs": [],
   "source": [
    "df_c0.drop(index=[1], inplace=True)\n",
    "df_t0.drop(index=[1], inplace=True)"
   ]
  },
  {
   "cell_type": "code",
   "execution_count": 76,
   "metadata": {},
   "outputs": [],
   "source": [
    "amt = df_c0.append(df_t0, ignore_index=True)\n",
    "amt.rename(index={0:\"Cartagena\"},inplace=True)\n",
    "amt.rename(index={1:\"Toronto\"},inplace=True)\n",
    "amt.drop(\"Unnamed: 0\", axis=1,inplace=True)"
   ]
  },
  {
   "cell_type": "code",
   "execution_count": 78,
   "metadata": {},
   "outputs": [
    {
     "data": {
      "image/png": "[encoded data removed]",
      "text/plain": [
       "<Figure size 1008x288 with 1 Axes>"
      ]
     },
     "metadata": {
      "needs_background": "light"
     },
     "output_type": "display_data"
    },
    {
     "data": {
      "text/html": [
       "<div>\n",
       "<style scoped>\n",
       "    .dataframe tbody tr th:only-of-type {\n",
       "        vertical-align: middle;\n",
       "    }\n",
       "\n",
       "    .dataframe tbody tr th {\n",
       "        vertical-align: top;\n",
       "    }\n",
       "\n",
       "    .dataframe thead th {\n",
       "        text-align: right;\n",
       "    }\n",
       "</style>\n",
       "<table border=\"1\" class=\"dataframe\">\n",
       "  <thead>\n",
       "    <tr style=\"text-align: right;\">\n",
       "      <th></th>\n",
       "      <th>Jan</th>\n",
       "      <th>Feb</th>\n",
       "      <th>Mar</th>\n",
       "      <th>Apr</th>\n",
       "      <th>May</th>\n",
       "      <th>Jun</th>\n",
       "      <th>Jul</th>\n",
       "      <th>Aug</th>\n",
       "      <th>Sep</th>\n",
       "      <th>Oct</th>\n",
       "      <th>Nov</th>\n",
       "      <th>Dec</th>\n",
       "    </tr>\n",
       "  </thead>\n",
       "  <tbody>\n",
       "    <tr>\n",
       "      <th>Cartagena</th>\n",
       "      <td>31.1</td>\n",
       "      <td>31.2</td>\n",
       "      <td>31.4</td>\n",
       "      <td>31.6</td>\n",
       "      <td>31.6</td>\n",
       "      <td>31.6</td>\n",
       "      <td>31.8</td>\n",
       "      <td>31.7</td>\n",
       "      <td>31.4</td>\n",
       "      <td>31.0</td>\n",
       "      <td>31.1</td>\n",
       "      <td>31.2</td>\n",
       "    </tr>\n",
       "    <tr>\n",
       "      <th>Toronto</th>\n",
       "      <td>-2.5</td>\n",
       "      <td>-1.7</td>\n",
       "      <td>3.6</td>\n",
       "      <td>11.1</td>\n",
       "      <td>18.1</td>\n",
       "      <td>23.4</td>\n",
       "      <td>26.3</td>\n",
       "      <td>25.3</td>\n",
       "      <td>20.8</td>\n",
       "      <td>14.0</td>\n",
       "      <td>6.9</td>\n",
       "      <td>0.3</td>\n",
       "    </tr>\n",
       "  </tbody>\n",
       "</table>\n",
       "</div>"
      ],
      "text/plain": [
       "            Jan   Feb   Mar   Apr   May   Jun   Jul   Aug   Sep   Oct   Nov  \\\n",
       "Cartagena  31.1  31.2  31.4  31.6  31.6  31.6  31.8  31.7  31.4  31.0  31.1   \n",
       "Toronto    -2.5  -1.7   3.6  11.1  18.1  23.4  26.3  25.3  20.8  14.0   6.9   \n",
       "\n",
       "            Dec  \n",
       "Cartagena  31.2  \n",
       "Toronto     0.3  "
      ]
     },
     "execution_count": 78,
     "metadata": {},
     "output_type": "execute_result"
    }
   ],
   "source": [
    "d = amt.T\n",
    "f = plt.figure()\n",
    "plt.title('Average Day Temperature', color='black')\n",
    "d.plot(kind='bar', ax=f.gca(),figsize=(14,4))\n",
    "plt.legend(loc='center left', bbox_to_anchor=(1.0, 0.5))\n",
    "plt.show()\n",
    "amt"
   ]
  },
  {
   "cell_type": "markdown",
   "metadata": {},
   "source": [
    "### 7.2. Average rainfall and Rainy days"
   ]
  },
  {
   "cell_type": "code",
   "execution_count": 16,
   "metadata": {},
   "outputs": [],
   "source": [
    "df_c1.drop(index=[1], inplace=True)\n",
    "df_t1.drop(index=[1], inplace=True)"
   ]
  },
  {
   "cell_type": "code",
   "execution_count": 17,
   "metadata": {},
   "outputs": [],
   "source": [
    "amt1 = df_c1.append(df_t1, ignore_index=True)\n",
    "amt1.rename(index={0:\"Cartagena: 'mm'\"},inplace=True)\n",
    "amt1.rename(index={1:\"Cartagena: Rainy days\"},inplace=True)\n",
    "amt1.rename(index={2:\"Toronto 'mm'\"},inplace=True)\n",
    "amt1.rename(index={3:\"Toronto: Rainy days\"},inplace=True)\n",
    "amt1.drop(\"Unnamed: 0\", axis=1,inplace=True)"
   ]
  },
  {
   "cell_type": "code",
   "execution_count": 21,
   "metadata": {},
   "outputs": [
    {
     "data": {
      "text/plain": [
       "<matplotlib.axes._subplots.AxesSubplot at 0x7f5e1075bf50>"
      ]
     },
     "execution_count": 21,
     "metadata": {},
     "output_type": "execute_result"
    },
    {
     "data": {
      "image/png": "[encoded data removed]",
      "text/plain": [
       "<Figure size 1152x360 with 2 Axes>"
      ]
     },
     "metadata": {
      "needs_background": "light"
     },
     "output_type": "display_data"
    }
   ],
   "source": [
    "d2=amt1.T\n",
    "fig, axes = plt.subplots(nrows=1, ncols=2,figsize=(16,5))\n",
    "d2[[\"Cartagena: 'mm'\",\"Toronto 'mm'\"]].plot(ax=axes[0], kind='bar',title='Average rainfall')\n",
    "d2[[\"Cartagena: Rainy days\", \"Toronto: Rainy days\"]].plot(ax=axes[1], kind='bar',title='Rainy days')"
   ]
  },
  {
   "cell_type": "markdown",
   "metadata": {},
   "source": [
    "### 7.3. Average daily sunshine"
   ]
  },
  {
   "cell_type": "code",
   "execution_count": 19,
   "metadata": {},
   "outputs": [],
   "source": [
    "amt2 = df_c2.append(df_t2, ignore_index=True)\n",
    "amt2.rename(index={0:\"Cartagena\"},inplace=True)\n",
    "amt2.rename(index={1:\"Toronto\"},inplace=True)\n",
    "amt2.drop(\"Unnamed: 0\", axis=1,inplace=True)"
   ]
  },
  {
   "cell_type": "code",
   "execution_count": 26,
   "metadata": {},
   "outputs": [
    {
     "data": {
      "image/png": "[encoded data removed]",
      "text/plain": [
       "<Figure size 1008x288 with 1 Axes>"
      ]
     },
     "metadata": {
      "needs_background": "light"
     },
     "output_type": "display_data"
    },
    {
     "data": {
      "text/html": [
       "<div>\n",
       "<style scoped>\n",
       "    .dataframe tbody tr th:only-of-type {\n",
       "        vertical-align: middle;\n",
       "    }\n",
       "\n",
       "    .dataframe tbody tr th {\n",
       "        vertical-align: top;\n",
       "    }\n",
       "\n",
       "    .dataframe thead th {\n",
       "        text-align: right;\n",
       "    }\n",
       "</style>\n",
       "<table border=\"1\" class=\"dataframe\">\n",
       "  <thead>\n",
       "    <tr style=\"text-align: right;\">\n",
       "      <th></th>\n",
       "      <th>Jan</th>\n",
       "      <th>Feb</th>\n",
       "      <th>Mar</th>\n",
       "      <th>Apr</th>\n",
       "      <th>May</th>\n",
       "      <th>Jun</th>\n",
       "      <th>Jul</th>\n",
       "      <th>Aug</th>\n",
       "      <th>Sep</th>\n",
       "      <th>Oct</th>\n",
       "      <th>Nov</th>\n",
       "      <th>Dec</th>\n",
       "    </tr>\n",
       "  </thead>\n",
       "  <tbody>\n",
       "    <tr>\n",
       "      <th>Cartagena</th>\n",
       "      <td>8.9</td>\n",
       "      <td>8.7</td>\n",
       "      <td>7.9</td>\n",
       "      <td>7.0</td>\n",
       "      <td>6.4</td>\n",
       "      <td>6.4</td>\n",
       "      <td>7.2</td>\n",
       "      <td>6.7</td>\n",
       "      <td>5.9</td>\n",
       "      <td>5.6</td>\n",
       "      <td>6.7</td>\n",
       "      <td>7.8</td>\n",
       "    </tr>\n",
       "    <tr>\n",
       "      <th>Toronto</th>\n",
       "      <td>3.4</td>\n",
       "      <td>4.4</td>\n",
       "      <td>5.2</td>\n",
       "      <td>6.7</td>\n",
       "      <td>7.9</td>\n",
       "      <td>9.2</td>\n",
       "      <td>9.8</td>\n",
       "      <td>8.5</td>\n",
       "      <td>6.5</td>\n",
       "      <td>5.1</td>\n",
       "      <td>3.0</td>\n",
       "      <td>2.6</td>\n",
       "    </tr>\n",
       "  </tbody>\n",
       "</table>\n",
       "</div>"
      ],
      "text/plain": [
       "           Jan  Feb  Mar  Apr  May  Jun  Jul  Aug  Sep  Oct  Nov  Dec\n",
       "Cartagena  8.9  8.7  7.9  7.0  6.4  6.4  7.2  6.7  5.9  5.6  6.7  7.8\n",
       "Toronto    3.4  4.4  5.2  6.7  7.9  9.2  9.8  8.5  6.5  5.1  3.0  2.6"
      ]
     },
     "execution_count": 26,
     "metadata": {},
     "output_type": "execute_result"
    }
   ],
   "source": [
    "d3 = amt2.T\n",
    "f3 = plt.figure()\n",
    "plt.title('Average daily sunshine', color='black')\n",
    "d3.plot(kind='bar', ax=f3.gca(),figsize=(14,4))\n",
    "plt.legend(loc='center left', bbox_to_anchor=(1.0, 0.5))\n",
    "plt.show()\n",
    "amt2"
   ]
  },
  {
   "cell_type": "markdown",
   "metadata": {},
   "source": [
    "### 7.4. Average day / night temperatures (°C)"
   ]
  },
  {
   "cell_type": "code",
   "execution_count": 28,
   "metadata": {},
   "outputs": [],
   "source": [
    "df_c3.drop(index=[2], inplace=True)\n",
    "df_c3.drop(index=[3], inplace=True)\n",
    "df_t3.drop(index=[2], inplace=True)\n",
    "df_t3.drop(index=[3], inplace=True)"
   ]
  },
  {
   "cell_type": "code",
   "execution_count": 31,
   "metadata": {},
   "outputs": [],
   "source": [
    "amt3 = df_c3.append(df_t3, ignore_index=True)\n",
    "amt3.rename(index={0:\"Cartagena: 'Min °C'\"},inplace=True)\n",
    "amt3.rename(index={1:\"Cartagena: 'Max °C'\"},inplace=True)\n",
    "amt3.rename(index={2:\"Toronto 'Min °C'\"},inplace=True)\n",
    "amt3.rename(index={3:\"Toronto: 'Max °C'\"},inplace=True)\n",
    "amt3.drop(\"Unnamed: 0\", axis=1,inplace=True)"
   ]
  },
  {
   "cell_type": "code",
   "execution_count": 69,
   "metadata": {},
   "outputs": [
    {
     "data": {
      "text/plain": [
       "<matplotlib.legend.Legend at 0x7f5ddde44750>"
      ]
     },
     "execution_count": 69,
     "metadata": {},
     "output_type": "execute_result"
    },
    {
     "data": {
      "image/png": "[encoded data removed]",
      "text/plain": [
       "<Figure size 1152x360 with 2 Axes>"
      ]
     },
     "metadata": {
      "needs_background": "light"
     },
     "output_type": "display_data"
    }
   ],
   "source": [
    "d4=amt3.T\n",
    "fig, axes = plt.subplots(1,2,figsize=(16,5))\n",
    "fig.suptitle('Average day / night temperatures (°C)')\n",
    "d4[[\"Cartagena: 'Min °C'\",\"Cartagena: 'Max °C'\"]].plot(ax=axes[0], kind='bar',title=' Cartagena',legend=False)\n",
    "d4[[\"Toronto 'Min °C'\", \"Toronto: 'Max °C'\"]].plot(ax=axes[1], kind='bar',title='Toronto',legend=False)\n",
    "fig.legend(#[l1, l2],     # The line objects\n",
    "           labels=[\"Min (°C)\", \"Max (°C)\"],   # The labels for each line\n",
    "           loc=\"center right\",   # Position of legend\n",
    "           borderaxespad=0.1,    # Small spacing around legend box\n",
    "           title=\"Temperature\")  # Title for the legend"
   ]
  },
  {
   "cell_type": "markdown",
   "metadata": {},
   "source": [
    "### 7.5. Average monthly sea temperature"
   ]
  },
  {
   "cell_type": "code",
   "execution_count": 71,
   "metadata": {},
   "outputs": [],
   "source": [
    "df_c4.drop(index=[1], inplace=True)\n",
    "df_t4.drop(index=[1], inplace=True)"
   ]
  },
  {
   "cell_type": "code",
   "execution_count": 74,
   "metadata": {},
   "outputs": [],
   "source": [
    "amt4=df_c4.append(df_t4, ignore_index=True)\n",
    "amt4.rename(index={0:\"Cartagena\"},inplace=True)\n",
    "amt4.rename(index={1:\"Toronto\"},inplace=True)\n",
    "amt4.drop(\"Unnamed: 0\", axis=1,inplace=True)"
   ]
  },
  {
   "cell_type": "code",
   "execution_count": 77,
   "metadata": {},
   "outputs": [
    {
     "data": {
      "image/png": "[encoded data removed]",
      "text/plain": [
       "<Figure size 1008x288 with 1 Axes>"
      ]
     },
     "metadata": {
      "needs_background": "light"
     },
     "output_type": "display_data"
    },
    {
     "data": {
      "text/html": [
       "<div>\n",
       "<style scoped>\n",
       "    .dataframe tbody tr th:only-of-type {\n",
       "        vertical-align: middle;\n",
       "    }\n",
       "\n",
       "    .dataframe tbody tr th {\n",
       "        vertical-align: top;\n",
       "    }\n",
       "\n",
       "    .dataframe thead th {\n",
       "        text-align: right;\n",
       "    }\n",
       "</style>\n",
       "<table border=\"1\" class=\"dataframe\">\n",
       "  <thead>\n",
       "    <tr style=\"text-align: right;\">\n",
       "      <th></th>\n",
       "      <th>Jan</th>\n",
       "      <th>Feb</th>\n",
       "      <th>Mar</th>\n",
       "      <th>Apr</th>\n",
       "      <th>May</th>\n",
       "      <th>Jun</th>\n",
       "      <th>Jul</th>\n",
       "      <th>Aug</th>\n",
       "      <th>Sep</th>\n",
       "      <th>Oct</th>\n",
       "      <th>Nov</th>\n",
       "      <th>Dec</th>\n",
       "    </tr>\n",
       "  </thead>\n",
       "  <tbody>\n",
       "    <tr>\n",
       "      <th>Cartagena</th>\n",
       "      <td>27.3</td>\n",
       "      <td>27.2</td>\n",
       "      <td>27.2</td>\n",
       "      <td>27.6</td>\n",
       "      <td>28.5</td>\n",
       "      <td>29.0</td>\n",
       "      <td>28.8</td>\n",
       "      <td>29.1</td>\n",
       "      <td>29.2</td>\n",
       "      <td>29.2</td>\n",
       "      <td>28.8</td>\n",
       "      <td>28.0</td>\n",
       "    </tr>\n",
       "    <tr>\n",
       "      <th>Toronto</th>\n",
       "      <td>3.3</td>\n",
       "      <td>2.4</td>\n",
       "      <td>2.1</td>\n",
       "      <td>3.1</td>\n",
       "      <td>6.7</td>\n",
       "      <td>13.5</td>\n",
       "      <td>19.7</td>\n",
       "      <td>21.4</td>\n",
       "      <td>19.1</td>\n",
       "      <td>14.1</td>\n",
       "      <td>9.2</td>\n",
       "      <td>5.3</td>\n",
       "    </tr>\n",
       "  </tbody>\n",
       "</table>\n",
       "</div>"
      ],
      "text/plain": [
       "            Jan   Feb   Mar   Apr   May   Jun   Jul   Aug   Sep   Oct   Nov  \\\n",
       "Cartagena  27.3  27.2  27.2  27.6  28.5  29.0  28.8  29.1  29.2  29.2  28.8   \n",
       "Toronto     3.3   2.4   2.1   3.1   6.7  13.5  19.7  21.4  19.1  14.1   9.2   \n",
       "\n",
       "            Dec  \n",
       "Cartagena  28.0  \n",
       "Toronto     5.3  "
      ]
     },
     "execution_count": 77,
     "metadata": {},
     "output_type": "execute_result"
    }
   ],
   "source": [
    "d5 = amt4.T\n",
    "f5 = plt.figure()\n",
    "plt.title('Average monthly sea temperature', color='black')\n",
    "d5.plot(kind='bar', ax=f5.gca(),figsize=(14,4))\n",
    "plt.legend(loc='center left', bbox_to_anchor=(1.0, 0.5))\n",
    "plt.show()\n",
    "amt4"
   ]
  },
  {
   "cell_type": "markdown",
   "metadata": {},
   "source": [
    "### 7.6. Average wind speed"
   ]
  },
  {
   "cell_type": "code",
   "execution_count": 79,
   "metadata": {},
   "outputs": [],
   "source": [
    "df_c5.drop(index=[1], inplace=True)\n",
    "df_t5.drop(index=[1], inplace=True)"
   ]
  },
  {
   "cell_type": "code",
   "execution_count": 82,
   "metadata": {},
   "outputs": [],
   "source": [
    "amt5=df_c5.append(df_t5, ignore_index=True)\n",
    "amt5.rename(index={0:\"Cartagena\"},inplace=True)\n",
    "amt5.rename(index={1:\"Toronto\"},inplace=True)\n",
    "amt5.drop(\"Unnamed: 0\", axis=1,inplace=True)"
   ]
  },
  {
   "cell_type": "code",
   "execution_count": 85,
   "metadata": {},
   "outputs": [
    {
     "data": {
      "image/png": "[encoded data removed]",
      "text/plain": [
       "<Figure size 1008x288 with 1 Axes>"
      ]
     },
     "metadata": {
      "needs_background": "light"
     },
     "output_type": "display_data"
    },
    {
     "data": {
      "text/html": [
       "<div>\n",
       "<style scoped>\n",
       "    .dataframe tbody tr th:only-of-type {\n",
       "        vertical-align: middle;\n",
       "    }\n",
       "\n",
       "    .dataframe tbody tr th {\n",
       "        vertical-align: top;\n",
       "    }\n",
       "\n",
       "    .dataframe thead th {\n",
       "        text-align: right;\n",
       "    }\n",
       "</style>\n",
       "<table border=\"1\" class=\"dataframe\">\n",
       "  <thead>\n",
       "    <tr style=\"text-align: right;\">\n",
       "      <th></th>\n",
       "      <th>Jan</th>\n",
       "      <th>Feb</th>\n",
       "      <th>Mar</th>\n",
       "      <th>Apr</th>\n",
       "      <th>May</th>\n",
       "      <th>Jun</th>\n",
       "      <th>Jul</th>\n",
       "      <th>Aug</th>\n",
       "      <th>Sep</th>\n",
       "      <th>Oct</th>\n",
       "      <th>Nov</th>\n",
       "      <th>Dec</th>\n",
       "    </tr>\n",
       "  </thead>\n",
       "  <tbody>\n",
       "    <tr>\n",
       "      <th>Cartagena</th>\n",
       "      <td>14</td>\n",
       "      <td>15</td>\n",
       "      <td>16</td>\n",
       "      <td>14</td>\n",
       "      <td>13</td>\n",
       "      <td>14</td>\n",
       "      <td>15</td>\n",
       "      <td>14</td>\n",
       "      <td>12</td>\n",
       "      <td>10</td>\n",
       "      <td>10</td>\n",
       "      <td>12</td>\n",
       "    </tr>\n",
       "    <tr>\n",
       "      <th>Toronto</th>\n",
       "      <td>20</td>\n",
       "      <td>18</td>\n",
       "      <td>18</td>\n",
       "      <td>18</td>\n",
       "      <td>14</td>\n",
       "      <td>13</td>\n",
       "      <td>12</td>\n",
       "      <td>12</td>\n",
       "      <td>13</td>\n",
       "      <td>14</td>\n",
       "      <td>18</td>\n",
       "      <td>18</td>\n",
       "    </tr>\n",
       "  </tbody>\n",
       "</table>\n",
       "</div>"
      ],
      "text/plain": [
       "           Jan  Feb  Mar  Apr  May  Jun  Jul  Aug  Sep  Oct  Nov  Dec\n",
       "Cartagena   14   15   16   14   13   14   15   14   12   10   10   12\n",
       "Toronto     20   18   18   18   14   13   12   12   13   14   18   18"
      ]
     },
     "execution_count": 85,
     "metadata": {},
     "output_type": "execute_result"
    }
   ],
   "source": [
    "d6 = amt5.T\n",
    "f6 = plt.figure()\n",
    "plt.title('Average wind speed', color='black')\n",
    "d6.plot(kind='bar', ax=f6.gca(),figsize=(14,4))\n",
    "plt.legend(loc='center left', bbox_to_anchor=(1.0, 0.5))\n",
    "plt.show()\n",
    "amt5"
   ]
  },
  {
   "cell_type": "markdown",
   "metadata": {},
   "source": [
    "### 7.7. Relative percentage humidity"
   ]
  },
  {
   "cell_type": "code",
   "execution_count": 92,
   "metadata": {},
   "outputs": [
    {
     "data": {
      "text/html": [
       "<div>\n",
       "<style scoped>\n",
       "    .dataframe tbody tr th:only-of-type {\n",
       "        vertical-align: middle;\n",
       "    }\n",
       "\n",
       "    .dataframe tbody tr th {\n",
       "        vertical-align: top;\n",
       "    }\n",
       "\n",
       "    .dataframe thead th {\n",
       "        text-align: right;\n",
       "    }\n",
       "</style>\n",
       "<table border=\"1\" class=\"dataframe\">\n",
       "  <thead>\n",
       "    <tr style=\"text-align: right;\">\n",
       "      <th></th>\n",
       "      <th>Jan</th>\n",
       "      <th>Feb</th>\n",
       "      <th>Mar</th>\n",
       "      <th>Apr</th>\n",
       "      <th>May</th>\n",
       "      <th>Jun</th>\n",
       "      <th>Jul</th>\n",
       "      <th>Aug</th>\n",
       "      <th>Sep</th>\n",
       "      <th>Oct</th>\n",
       "      <th>Nov</th>\n",
       "      <th>Dec</th>\n",
       "    </tr>\n",
       "  </thead>\n",
       "  <tbody>\n",
       "    <tr>\n",
       "      <th>Cartagena</th>\n",
       "      <td>80%</td>\n",
       "      <td>79%</td>\n",
       "      <td>78%</td>\n",
       "      <td>80%</td>\n",
       "      <td>82%</td>\n",
       "      <td>82%</td>\n",
       "      <td>81%</td>\n",
       "      <td>82%</td>\n",
       "      <td>83%</td>\n",
       "      <td>83%</td>\n",
       "      <td>83%</td>\n",
       "      <td>82%</td>\n",
       "    </tr>\n",
       "    <tr>\n",
       "      <th>Toronto</th>\n",
       "      <td>79%</td>\n",
       "      <td>78%</td>\n",
       "      <td>76%</td>\n",
       "      <td>69%</td>\n",
       "      <td>68%</td>\n",
       "      <td>70%</td>\n",
       "      <td>70%</td>\n",
       "      <td>74%</td>\n",
       "      <td>77%</td>\n",
       "      <td>78%</td>\n",
       "      <td>81%</td>\n",
       "      <td>82%</td>\n",
       "    </tr>\n",
       "  </tbody>\n",
       "</table>\n",
       "</div>"
      ],
      "text/plain": [
       "           Jan  Feb  Mar  Apr  May  Jun  Jul  Aug  Sep  Oct  Nov  Dec\n",
       "Cartagena  80%  79%  78%  80%  82%  82%  81%  82%  83%  83%  83%  82%\n",
       "Toronto    79%  78%  76%  69%  68%  70%  70%  74%  77%  78%  81%  82%"
      ]
     },
     "execution_count": 92,
     "metadata": {},
     "output_type": "execute_result"
    }
   ],
   "source": [
    "amt6=df_c6.append(df_t6, ignore_index=True)\n",
    "amt6.rename(index={0:\"Cartagena\"},inplace=True)\n",
    "amt6.rename(index={1:\"Toronto\"},inplace=True)"
   ]
  },
  {
   "cell_type": "code",
   "execution_count": 98,
   "metadata": {},
   "outputs": [],
   "source": [
    "amt6['Jan']=amt6['Jan'].str.extract(r'(^\\d*)')\n",
    "amt6['Feb']=amt6['Feb'].str.extract(r'(^\\d*)')\n",
    "amt6['Mar']=amt6['Mar'].str.extract(r'(^\\d*)')\n",
    "amt6['Apr']=amt6['Apr'].str.extract(r'(^\\d*)')\n",
    "amt6['May']=amt6['May'].str.extract(r'(^\\d*)')\n",
    "amt6['Jun']=amt6['Jun'].str.extract(r'(^\\d*)')\n",
    "amt6['Jul']=amt6['Jul'].str.extract(r'(^\\d*)')\n",
    "amt6['Aug']=amt6['Aug'].str.extract(r'(^\\d*)')\n",
    "amt6['Sep']=amt6['Sep'].str.extract(r'(^\\d*)')\n",
    "amt6['Oct']=amt6['Oct'].str.extract(r'(^\\d*)')\n",
    "amt6['Nov']=amt6['Nov'].str.extract(r'(^\\d*)')\n",
    "amt6['Dec']=amt6['Dec'].str.extract(r'(^\\d*)')"
   ]
  },
  {
   "cell_type": "code",
   "execution_count": 103,
   "metadata": {},
   "outputs": [],
   "source": [
    "amt6['Jan']=amt6['Jan'].astype(int)\n",
    "amt6['Feb']=amt6['Feb'].astype(int)\n",
    "amt6['Mar']=amt6['Mar'].astype(int)\n",
    "amt6['Apr']=amt6['Apr'].astype(int)\n",
    "amt6['May']=amt6['May'].astype(int)\n",
    "amt6['Jun']=amt6['Jun'].astype(int)\n",
    "amt6['Jul']=amt6['Jul'].astype(int)\n",
    "amt6['Aug']=amt6['Aug'].astype(int)\n",
    "amt6['Sep']=amt6['Sep'].astype(int)\n",
    "amt6['Oct']=amt6['Oct'].astype(int)\n",
    "amt6['Nov']=amt6['Nov'].astype(int)\n",
    "amt6['Dec']=amt6['Dec'].astype(int)"
   ]
  },
  {
   "cell_type": "code",
   "execution_count": 105,
   "metadata": {},
   "outputs": [
    {
     "data": {
      "image/png": "[encoded data removed]",
      "text/plain": [
       "<Figure size 1008x288 with 1 Axes>"
      ]
     },
     "metadata": {
      "needs_background": "light"
     },
     "output_type": "display_data"
    },
    {
     "data": {
      "text/html": [
       "<div>\n",
       "<style scoped>\n",
       "    .dataframe tbody tr th:only-of-type {\n",
       "        vertical-align: middle;\n",
       "    }\n",
       "\n",
       "    .dataframe tbody tr th {\n",
       "        vertical-align: top;\n",
       "    }\n",
       "\n",
       "    .dataframe thead th {\n",
       "        text-align: right;\n",
       "    }\n",
       "</style>\n",
       "<table border=\"1\" class=\"dataframe\">\n",
       "  <thead>\n",
       "    <tr style=\"text-align: right;\">\n",
       "      <th></th>\n",
       "      <th>Jan</th>\n",
       "      <th>Feb</th>\n",
       "      <th>Mar</th>\n",
       "      <th>Apr</th>\n",
       "      <th>May</th>\n",
       "      <th>Jun</th>\n",
       "      <th>Jul</th>\n",
       "      <th>Aug</th>\n",
       "      <th>Sep</th>\n",
       "      <th>Oct</th>\n",
       "      <th>Nov</th>\n",
       "      <th>Dec</th>\n",
       "    </tr>\n",
       "  </thead>\n",
       "  <tbody>\n",
       "    <tr>\n",
       "      <th>Cartagena</th>\n",
       "      <td>80</td>\n",
       "      <td>79</td>\n",
       "      <td>78</td>\n",
       "      <td>80</td>\n",
       "      <td>82</td>\n",
       "      <td>82</td>\n",
       "      <td>81</td>\n",
       "      <td>82</td>\n",
       "      <td>83</td>\n",
       "      <td>83</td>\n",
       "      <td>83</td>\n",
       "      <td>82</td>\n",
       "    </tr>\n",
       "    <tr>\n",
       "      <th>Toronto</th>\n",
       "      <td>79</td>\n",
       "      <td>78</td>\n",
       "      <td>76</td>\n",
       "      <td>69</td>\n",
       "      <td>68</td>\n",
       "      <td>70</td>\n",
       "      <td>70</td>\n",
       "      <td>74</td>\n",
       "      <td>77</td>\n",
       "      <td>78</td>\n",
       "      <td>81</td>\n",
       "      <td>82</td>\n",
       "    </tr>\n",
       "  </tbody>\n",
       "</table>\n",
       "</div>"
      ],
      "text/plain": [
       "           Jan  Feb  Mar  Apr  May  Jun  Jul  Aug  Sep  Oct  Nov  Dec\n",
       "Cartagena   80   79   78   80   82   82   81   82   83   83   83   82\n",
       "Toronto     79   78   76   69   68   70   70   74   77   78   81   82"
      ]
     },
     "execution_count": 105,
     "metadata": {},
     "output_type": "execute_result"
    }
   ],
   "source": [
    "d7 = amt6.T\n",
    "f7 = plt.figure()\n",
    "plt.title('Relative percentage humidity', color='black')\n",
    "d7.plot(kind='bar', ax=f7.gca(),figsize=(14,4))\n",
    "plt.legend(loc='center left', bbox_to_anchor=(1.0, 0.5))\n",
    "plt.show()\n",
    "amt6"
   ]
  },
  {
   "cell_type": "markdown",
   "metadata": {},
   "source": [
    "### 7.8. How much does a trip cost in USD dollars?"
   ]
  },
  {
   "cell_type": "code",
   "execution_count": 30,
   "metadata": {},
   "outputs": [],
   "source": [
    "res  = requests.get(\"http://hikersbay.com/travel-cost/colombia/cartagenadeindias?lang=en\")\n",
    "soup = BeautifulSoup(res.content,'lxml')\n",
    "\n",
    "table= soup.find_all('table')[0] \n",
    "df_cm0   = pd.read_html(str(table))\n",
    "df_cm0   = pd.DataFrame(df_cm0[0])\n",
    "df_cm0[\"Duration\"][0]=\"Cartagena: 1-day trip\"\n",
    "df_cm0[\"Duration\"][1]=\"Cartagena: 3-day trip\"\n",
    "df_cm0[\"Duration\"][2]=\"Cartagena: Week-long trip\""
   ]
  },
  {
   "cell_type": "code",
   "execution_count": 31,
   "metadata": {},
   "outputs": [],
   "source": [
    "res  = requests.get(\"http://hikersbay.com/travel-cost/canada/toronto?lang=en\")\n",
    "soup = BeautifulSoup(res.content,'lxml')\n",
    "\n",
    "table= soup.find_all('table')[0] \n",
    "df_tm0   = pd.read_html(str(table))\n",
    "df_tm0   = pd.DataFrame(df_tm0[0])\n",
    "df_tm0[\"Duration\"][0]=\"Toronto: 1-day trip\"\n",
    "df_tm0[\"Duration\"][1]=\"Toronto: 3-day trip\"\n",
    "df_tm0[\"Duration\"][2]=\"Toronto: Week-long trip\""
   ]
  },
  {
   "cell_type": "code",
   "execution_count": 32,
   "metadata": {},
   "outputs": [
    {
     "data": {
      "text/html": [
       "<div>\n",
       "<style scoped>\n",
       "    .dataframe tbody tr th:only-of-type {\n",
       "        vertical-align: middle;\n",
       "    }\n",
       "\n",
       "    .dataframe tbody tr th {\n",
       "        vertical-align: top;\n",
       "    }\n",
       "\n",
       "    .dataframe thead th {\n",
       "        text-align: right;\n",
       "    }\n",
       "</style>\n",
       "<table border=\"1\" class=\"dataframe\">\n",
       "  <thead>\n",
       "    <tr style=\"text-align: right;\">\n",
       "      <th></th>\n",
       "      <th>Duration</th>\n",
       "      <th>Nomad style</th>\n",
       "      <th>Budget travel</th>\n",
       "      <th>Mid-range</th>\n",
       "      <th>Luxury Travel</th>\n",
       "    </tr>\n",
       "  </thead>\n",
       "  <tbody>\n",
       "    <tr>\n",
       "      <th>0</th>\n",
       "      <td>Cartagena: 1-day trip</td>\n",
       "      <td>22 USD</td>\n",
       "      <td>28 USD</td>\n",
       "      <td>52 USD</td>\n",
       "      <td>226 USD</td>\n",
       "    </tr>\n",
       "    <tr>\n",
       "      <th>1</th>\n",
       "      <td>Cartagena: 3-day trip</td>\n",
       "      <td>66 USD</td>\n",
       "      <td>85 USD</td>\n",
       "      <td>157 USD</td>\n",
       "      <td>679 USD</td>\n",
       "    </tr>\n",
       "    <tr>\n",
       "      <th>2</th>\n",
       "      <td>Cartagena: Week-long trip</td>\n",
       "      <td>153 USD</td>\n",
       "      <td>199 USD</td>\n",
       "      <td>365 USD</td>\n",
       "      <td>1,500 USD</td>\n",
       "    </tr>\n",
       "    <tr>\n",
       "      <th>3</th>\n",
       "      <td>Toronto: 1-day trip</td>\n",
       "      <td>34 USD</td>\n",
       "      <td>60 USD</td>\n",
       "      <td>105 USD</td>\n",
       "      <td>307 USD</td>\n",
       "    </tr>\n",
       "    <tr>\n",
       "      <th>4</th>\n",
       "      <td>Toronto: 3-day trip</td>\n",
       "      <td>101 USD</td>\n",
       "      <td>181 USD</td>\n",
       "      <td>314 USD</td>\n",
       "      <td>922 USD</td>\n",
       "    </tr>\n",
       "    <tr>\n",
       "      <th>5</th>\n",
       "      <td>Toronto: Week-long trip</td>\n",
       "      <td>235 USD</td>\n",
       "      <td>423 USD</td>\n",
       "      <td>732 USD</td>\n",
       "      <td>2,100 USD</td>\n",
       "    </tr>\n",
       "  </tbody>\n",
       "</table>\n",
       "</div>"
      ],
      "text/plain": [
       "                    Duration Nomad style Budget travel Mid-range Luxury Travel\n",
       "0      Cartagena: 1-day trip      22 USD        28 USD    52 USD       226 USD\n",
       "1      Cartagena: 3-day trip      66 USD        85 USD   157 USD       679 USD\n",
       "2  Cartagena: Week-long trip     153 USD       199 USD   365 USD     1,500 USD\n",
       "3        Toronto: 1-day trip      34 USD        60 USD   105 USD       307 USD\n",
       "4        Toronto: 3-day trip     101 USD       181 USD   314 USD       922 USD\n",
       "5    Toronto: Week-long trip     235 USD       423 USD   732 USD     2,100 USD"
      ]
     },
     "execution_count": 32,
     "metadata": {},
     "output_type": "execute_result"
    }
   ],
   "source": [
    "df_mm = df_cm0.append(df_tm0, ignore_index=True)"
   ]
  },
  {
   "cell_type": "code",
   "execution_count": 33,
   "metadata": {},
   "outputs": [],
   "source": [
    "df_mm['Nomad Style']=df_mm['Nomad style'].str.extract(r'(^\\d*)')\n",
    "df_mm['Budget Travel']=df_mm['Budget travel'].str.extract(r'(^\\d*)')\n",
    "df_mm['Mid-Range']=df_mm['Mid-range'].str.extract(r'(^\\d*)')\n",
    "df_mm['Luxury travel']=df_mm['Luxury Travel'].str.extract(r'(^\\d*)')"
   ]
  },
  {
   "cell_type": "code",
   "execution_count": 34,
   "metadata": {},
   "outputs": [],
   "source": [
    "df_mm.drop(['Nomad style'], axis=1, inplace=True)\n",
    "df_mm.drop(['Budget travel'], axis=1, inplace=True)\n",
    "df_mm.drop(['Mid-range'], axis=1, inplace=True)\n",
    "df_mm.drop(['Luxury Travel'], axis=1, inplace=True)\n",
    "df_mm[\"Luxury travel\"][2]=1500\n",
    "df_mm[\"Luxury travel\"][5]=2100\n",
    "df_mm.rename(columns = {\"Nomad Style\":\"Nomad style\",\"Budget Travel\":\"Budget travel\",\"Mid-Range\":\"Mid-range\"}, inplace = True) "
   ]
  },
  {
   "cell_type": "code",
   "execution_count": 36,
   "metadata": {},
   "outputs": [],
   "source": [
    "df_mm['Duration']=df_mm['Duration'].astype(str)\n",
    "df_mm['Nomad style']=df_mm['Nomad style'].astype(int)\n",
    "df_mm['Budget travel']=df_mm['Budget travel'].astype(int)\n",
    "df_mm['Mid-range']=df_mm['Mid-range'].astype(int)\n",
    "df_mm['Luxury travel']=df_mm['Luxury travel'].astype(int)"
   ]
  },
  {
   "cell_type": "code",
   "execution_count": 37,
   "metadata": {},
   "outputs": [
    {
     "data": {
      "text/html": [
       "<div>\n",
       "<style scoped>\n",
       "    .dataframe tbody tr th:only-of-type {\n",
       "        vertical-align: middle;\n",
       "    }\n",
       "\n",
       "    .dataframe tbody tr th {\n",
       "        vertical-align: top;\n",
       "    }\n",
       "\n",
       "    .dataframe thead th {\n",
       "        text-align: right;\n",
       "    }\n",
       "</style>\n",
       "<table border=\"1\" class=\"dataframe\">\n",
       "  <thead>\n",
       "    <tr style=\"text-align: right;\">\n",
       "      <th></th>\n",
       "      <th>Nomad style</th>\n",
       "      <th>Budget travel</th>\n",
       "      <th>Mid-range</th>\n",
       "      <th>Luxury travel</th>\n",
       "    </tr>\n",
       "    <tr>\n",
       "      <th>Duration</th>\n",
       "      <th></th>\n",
       "      <th></th>\n",
       "      <th></th>\n",
       "      <th></th>\n",
       "    </tr>\n",
       "  </thead>\n",
       "  <tbody>\n",
       "    <tr>\n",
       "      <th>Cartagena: 1-day trip</th>\n",
       "      <td>22</td>\n",
       "      <td>28</td>\n",
       "      <td>52</td>\n",
       "      <td>226</td>\n",
       "    </tr>\n",
       "    <tr>\n",
       "      <th>Cartagena: 3-day trip</th>\n",
       "      <td>66</td>\n",
       "      <td>85</td>\n",
       "      <td>157</td>\n",
       "      <td>679</td>\n",
       "    </tr>\n",
       "    <tr>\n",
       "      <th>Cartagena: Week-long trip</th>\n",
       "      <td>153</td>\n",
       "      <td>199</td>\n",
       "      <td>365</td>\n",
       "      <td>1500</td>\n",
       "    </tr>\n",
       "    <tr>\n",
       "      <th>Toronto: 1-day trip</th>\n",
       "      <td>34</td>\n",
       "      <td>60</td>\n",
       "      <td>105</td>\n",
       "      <td>307</td>\n",
       "    </tr>\n",
       "    <tr>\n",
       "      <th>Toronto: 3-day trip</th>\n",
       "      <td>101</td>\n",
       "      <td>181</td>\n",
       "      <td>314</td>\n",
       "      <td>922</td>\n",
       "    </tr>\n",
       "    <tr>\n",
       "      <th>Toronto: Week-long trip</th>\n",
       "      <td>235</td>\n",
       "      <td>423</td>\n",
       "      <td>732</td>\n",
       "      <td>2100</td>\n",
       "    </tr>\n",
       "  </tbody>\n",
       "</table>\n",
       "</div>"
      ],
      "text/plain": [
       "                           Nomad style  Budget travel  Mid-range  \\\n",
       "Duration                                                           \n",
       "Cartagena: 1-day trip               22             28         52   \n",
       "Cartagena: 3-day trip               66             85        157   \n",
       "Cartagena: Week-long trip          153            199        365   \n",
       "Toronto: 1-day trip                 34             60        105   \n",
       "Toronto: 3-day trip                101            181        314   \n",
       "Toronto: Week-long trip            235            423        732   \n",
       "\n",
       "                           Luxury travel  \n",
       "Duration                                  \n",
       "Cartagena: 1-day trip                226  \n",
       "Cartagena: 3-day trip                679  \n",
       "Cartagena: Week-long trip           1500  \n",
       "Toronto: 1-day trip                  307  \n",
       "Toronto: 3-day trip                  922  \n",
       "Toronto: Week-long trip             2100  "
      ]
     },
     "execution_count": 37,
     "metadata": {},
     "output_type": "execute_result"
    }
   ],
   "source": [
    "df_mm.index = df_mm[\"Duration\"]\n",
    "df_mm.rename(columns = {\"Duration\":\"duration2\",\"Nomad Style\":\"Nomad style\",\"Budget Travel\":\"Budget travel\",\"Mid-Range\":\"Mid-range\"}, inplace = True) \n",
    "df_mm.drop([\"duration2\"], axis=1, inplace=True)\n",
    "df_mm"
   ]
  },
  {
   "cell_type": "code",
   "execution_count": 59,
   "metadata": {},
   "outputs": [
    {
     "data": {
      "text/plain": [
       "<matplotlib.axes._subplots.AxesSubplot at 0x7fe83d3c7e50>"
      ]
     },
     "execution_count": 59,
     "metadata": {},
     "output_type": "execute_result"
    },
    {
     "data": {
      "image/png": "[encoded data removed]",
      "text/plain": [
       "<Figure size 1152x360 with 3 Axes>"
      ]
     },
     "metadata": {
      "needs_background": "light"
     },
     "output_type": "display_data"
    }
   ],
   "source": [
    "dm=df_mm.T\n",
    "fig, axes = plt.subplots(nrows=1, ncols=3,figsize=(16,5))\n",
    "dm[[\"Cartagena: 1-day trip\",\"Toronto: 1-day trip\"]].plot(ax=axes[0], kind='bar')\n",
    "dm[[\"Cartagena: 3-day trip\", \"Toronto: 3-day trip\"]].plot(ax=axes[1], kind='bar')\n",
    "dm[[\"Cartagena: Week-long trip\", \"Toronto: Week-long trip\"]].plot(ax=axes[2], kind='bar')"
   ]
  }
 ],
 "metadata": {
  "kernelspec": {
   "display_name": "Python 3",
   "language": "python",
   "name": "python3"
  },
  "language_info": {
   "codemirror_mode": {
    "name": "ipython",
    "version": 3
   },
   "file_extension": ".py",
   "mimetype": "text/x-python",
   "name": "python",
   "nbconvert_exporter": "python",
   "pygments_lexer": "ipython3",
   "version": "3.7.8"
  }
 },
 "nbformat": 4,
 "nbformat_minor": 4
}
